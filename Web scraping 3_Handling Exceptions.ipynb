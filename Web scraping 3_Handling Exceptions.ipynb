{
 "cells": [
  {
   "cell_type": "code",
   "execution_count": 1,
   "id": "20dfe507",
   "metadata": {},
   "outputs": [
    {
     "name": "stdout",
     "output_type": "stream",
     "text": [
      "Requirement already satisfied: selenium in c:\\users\\asus\\anaconda3\\lib\\site-packages (4.1.3)\n",
      "Requirement already satisfied: trio-websocket~=0.9 in c:\\users\\asus\\anaconda3\\lib\\site-packages (from selenium) (0.9.2)\n",
      "Requirement already satisfied: urllib3[secure,socks]~=1.26 in c:\\users\\asus\\anaconda3\\lib\\site-packages (from selenium) (1.26.4)\n",
      "Requirement already satisfied: trio~=0.17 in c:\\users\\asus\\anaconda3\\lib\\site-packages (from selenium) (0.20.0)\n",
      "Requirement already satisfied: sniffio in c:\\users\\asus\\anaconda3\\lib\\site-packages (from trio~=0.17->selenium) (1.2.0)\n",
      "Requirement already satisfied: idna in c:\\users\\asus\\anaconda3\\lib\\site-packages (from trio~=0.17->selenium) (2.10)\n",
      "Requirement already satisfied: outcome in c:\\users\\asus\\anaconda3\\lib\\site-packages (from trio~=0.17->selenium) (1.1.0)\n",
      "Requirement already satisfied: async-generator>=1.9 in c:\\users\\asus\\anaconda3\\lib\\site-packages (from trio~=0.17->selenium) (1.10)\n",
      "Requirement already satisfied: attrs>=19.2.0 in c:\\users\\asus\\anaconda3\\lib\\site-packages (from trio~=0.17->selenium) (20.3.0)\n",
      "Requirement already satisfied: sortedcontainers in c:\\users\\asus\\anaconda3\\lib\\site-packages (from trio~=0.17->selenium) (2.3.0)\n",
      "Requirement already satisfied: cffi>=1.14 in c:\\users\\asus\\anaconda3\\lib\\site-packages (from trio~=0.17->selenium) (1.14.5)\n",
      "Requirement already satisfied: pycparser in c:\\users\\asus\\anaconda3\\lib\\site-packages (from cffi>=1.14->trio~=0.17->selenium) (2.20)\n",
      "Requirement already satisfied: wsproto>=0.14 in c:\\users\\asus\\anaconda3\\lib\\site-packages (from trio-websocket~=0.9->selenium) (1.1.0)\n",
      "Requirement already satisfied: pyOpenSSL>=0.14 in c:\\users\\asus\\anaconda3\\lib\\site-packages (from urllib3[secure,socks]~=1.26->selenium) (20.0.1)\n",
      "Requirement already satisfied: cryptography>=1.3.4 in c:\\users\\asus\\anaconda3\\lib\\site-packages (from urllib3[secure,socks]~=1.26->selenium) (3.4.7)\n",
      "Requirement already satisfied: certifi in c:\\users\\asus\\anaconda3\\lib\\site-packages (from urllib3[secure,socks]~=1.26->selenium) (2020.12.5)\n",
      "Requirement already satisfied: PySocks!=1.5.7,<2.0,>=1.5.6 in c:\\users\\asus\\anaconda3\\lib\\site-packages (from urllib3[secure,socks]~=1.26->selenium) (1.7.1)\n",
      "Requirement already satisfied: six>=1.5.2 in c:\\users\\asus\\anaconda3\\lib\\site-packages (from pyOpenSSL>=0.14->urllib3[secure,socks]~=1.26->selenium) (1.15.0)\n",
      "Requirement already satisfied: h11<1,>=0.9.0 in c:\\users\\asus\\anaconda3\\lib\\site-packages (from wsproto>=0.14->trio-websocket~=0.9->selenium) (0.13.0)\n"
     ]
    }
   ],
   "source": [
    "# Let's first install selenium library \n",
    "!pip install selenium"
   ]
  },
  {
   "cell_type": "code",
   "execution_count": 2,
   "id": "43cdceea",
   "metadata": {},
   "outputs": [],
   "source": [
    "# Importing Libraries\n",
    "import selenium\n",
    "import pandas as pd\n",
    "import time\n",
    "from bs4 import BeautifulSoup\n",
    "\n",
    "# Importing selenium webdriver \n",
    "from selenium import webdriver\n",
    "\n",
    "\n",
    "#Importing requests\n",
    "import requests\n",
    "\n",
    "# importing regex\n",
    "import re\n",
    "\n",
    "import warnings\n",
    "warnings.filterwarnings(\"ignore\")"
   ]
  },
  {
   "cell_type": "code",
   "execution_count": 3,
   "id": "fa2313e6",
   "metadata": {},
   "outputs": [],
   "source": [
    "PATH = 'chromedriver.exe' #extracting path of the webdriver\n",
    "driver = webdriver.Chrome(PATH)"
   ]
  },
  {
   "cell_type": "raw",
   "id": "7001a884",
   "metadata": {},
   "source": [
    "1. Write a python program which searches all the product under a particular product from www.amazon.in. \n",
    "The product to be searched will be taken as input from user. For e.g. If user input is ‘guitar’. Then search \n",
    "for guitars."
   ]
  },
  {
   "cell_type": "code",
   "execution_count": 4,
   "id": "2d8897db",
   "metadata": {},
   "outputs": [],
   "source": [
    "url = \"https://www.amazon.in\"\n",
    "driver.get(url)"
   ]
  },
  {
   "cell_type": "code",
   "execution_count": 5,
   "id": "31880d42",
   "metadata": {},
   "outputs": [],
   "source": [
    "# entering “smartphone” in “Search  bar”\n",
    "\n",
    "search_product=driver.find_element_by_xpath(\"/html/body/div[1]/header/div/div[1]/div[2]/div/form/div[2]/div[1]/input\")  \n",
    "search_product.send_keys(\"smartphone\")\n",
    "\n",
    "# clicking the search button\n",
    "search_button=driver.find_element_by_xpath(\"/html/body/div[1]/header/div/div[1]/div[2]/div/form/div[3]/div\")\n",
    "search_button.click()\n",
    "\n"
   ]
  },
  {
   "cell_type": "raw",
   "id": "24963a9f",
   "metadata": {},
   "source": [
    "2. In the above question, now scrape the following details of each product listed in first 3 pages of your \n",
    "search results and save it in a data frame and csv. In case if any product has less than 3 pages in search \n",
    "results then scrape all the products available under that product name. Details to be scraped are: \"Brand \n",
    "Name\", \"Name of the Product\", \"Price\", \"Return/Exchange\", \"Expected Delivery\", \"Availability\" and \n",
    "“Product URL”. In case, if any of the details are missing for any of the product then replace it by “-“."
   ]
  },
  {
   "cell_type": "code",
   "execution_count": 23,
   "id": "70438c83",
   "metadata": {},
   "outputs": [
    {
     "name": "stdout",
     "output_type": "stream",
     "text": [
      "scraping page 1\n",
      "scraping page 2\n",
      "scraping page 3\n"
     ]
    }
   ],
   "source": [
    "# creating empty lists for scraping data\n",
    "Brand_Name=[]\n",
    "Price=[]\n",
    "Expected_Delivery=[]\n",
    "\n",
    "for j in range(3):\n",
    "    print('scraping page', j+1)\n",
    "\n",
    "#scraping the brand\n",
    "name=driver.find_elements_by_xpath(\"//h2[@class='a-size-mini a-spacing-none a-color-base s-line-clamp-2']\")\n",
    "for i in name:\n",
    "    if i.text is None :\n",
    "        Brand_Name.append(\"-\") \n",
    "    else:\n",
    "        Brand_Name.append(i.text)\n",
    "\n",
    "time.sleep(4)\n",
    "#scraping the price\n",
    "price=driver.find_elements_by_xpath(\"//span[@class='a-price']\")\n",
    "for i in price:\n",
    "    if i.text is None :\n",
    "        Price.append(\"-\") \n",
    "    else:\n",
    "        Price.append(i.text)\n",
    "        \n",
    "time.sleep(4)        \n",
    "#scraping the expected delivery\n",
    "dilevery=driver.find_elements_by_xpath(\"//span[@class='a-color-base a-text-bold']\")\n",
    "for i in dilevery:\n",
    "    if i.text is None :\n",
    "        Expected_Delivery.append(\"-\") \n",
    "    else:\n",
    "        Expected_Delivery.append(i.text)\n",
    "Expected_Delivery[0:2]\n",
    "\n",
    "\n",
    "#clicking on next page\n",
    "next_button = driver.find_element_by_xpath(\"//a[@class='s-pagination-item s-pagination-next s-pagination-button s-pagination-separator']\")\n",
    "next_button.click()\n",
    "\n"
   ]
  },
  {
   "cell_type": "code",
   "execution_count": 37,
   "id": "04ec72c7",
   "metadata": {},
   "outputs": [
    {
     "data": {
      "text/html": [
       "<div>\n",
       "<style scoped>\n",
       "    .dataframe tbody tr th:only-of-type {\n",
       "        vertical-align: middle;\n",
       "    }\n",
       "\n",
       "    .dataframe tbody tr th {\n",
       "        vertical-align: top;\n",
       "    }\n",
       "\n",
       "    .dataframe thead th {\n",
       "        text-align: right;\n",
       "    }\n",
       "</style>\n",
       "<table border=\"1\" class=\"dataframe\">\n",
       "  <thead>\n",
       "    <tr style=\"text-align: right;\">\n",
       "      <th></th>\n",
       "      <th>Brand_Name</th>\n",
       "      <th>Price</th>\n",
       "      <th>Expected_Delivery</th>\n",
       "    </tr>\n",
       "  </thead>\n",
       "  <tbody>\n",
       "    <tr>\n",
       "      <th>0</th>\n",
       "      <td>Apple iPhone SE (64 GB) - Starlight (3rd Gener...</td>\n",
       "      <td>₹43,900</td>\n",
       "      <td>Friday, April 8</td>\n",
       "    </tr>\n",
       "    <tr>\n",
       "      <th>1</th>\n",
       "      <td>Apple iPhone 13 Pro Max (256 GB) - Alpine Green</td>\n",
       "      <td>₹1,39,900</td>\n",
       "      <td>Tomorrow, April 4</td>\n",
       "    </tr>\n",
       "    <tr>\n",
       "      <th>2</th>\n",
       "      <td>Redmi 9A (Nature Green, 3GB Ram, 32GB Storage)...</td>\n",
       "      <td>₹8,299</td>\n",
       "      <td>Friday, April 8</td>\n",
       "    </tr>\n",
       "    <tr>\n",
       "      <th>3</th>\n",
       "      <td>Redmi 9A(Midnight Black 3GB RAM 32GB Storage) ...</td>\n",
       "      <td>₹8,299</td>\n",
       "      <td>Tomorrow, April 4</td>\n",
       "    </tr>\n",
       "    <tr>\n",
       "      <th>4</th>\n",
       "      <td>Jio Phone Next 32 GB ROM, 2 GB RAM, Blue Smart...</td>\n",
       "      <td>₹5,390</td>\n",
       "      <td>Tomorrow, April 4</td>\n",
       "    </tr>\n",
       "    <tr>\n",
       "      <th>5</th>\n",
       "      <td>realme narzo 50A (Oxygen Blue , 4GB RAM + 128 ...</td>\n",
       "      <td>₹12,499</td>\n",
       "      <td>Tomorrow, April 4</td>\n",
       "    </tr>\n",
       "    <tr>\n",
       "      <th>6</th>\n",
       "      <td>Samsung Galaxy M32 (Light Blue, 6GB RAM, 128GB...</td>\n",
       "      <td>₹14,999</td>\n",
       "      <td>Today, April 3</td>\n",
       "    </tr>\n",
       "    <tr>\n",
       "      <th>7</th>\n",
       "      <td>Samsung Galaxy M21 2021 Edition (Arctic Blue, ...</td>\n",
       "      <td>₹12,999</td>\n",
       "      <td>Tomorrow, April 4</td>\n",
       "    </tr>\n",
       "    <tr>\n",
       "      <th>8</th>\n",
       "      <td>Redmi Note 11 (Space Black, 6GB RAM, 64GB Stor...</td>\n",
       "      <td>₹14,499</td>\n",
       "      <td>Tomorrow, April 4</td>\n",
       "    </tr>\n",
       "    <tr>\n",
       "      <th>9</th>\n",
       "      <td>OPPO A74 5G (Fluid Black, 6GB RAM, 128GB Stora...</td>\n",
       "      <td>₹17,990</td>\n",
       "      <td>Tomorrow, April 4</td>\n",
       "    </tr>\n",
       "    <tr>\n",
       "      <th>10</th>\n",
       "      <td>Apple iPhone 13 Pro (128GB) - Gold</td>\n",
       "      <td>₹1,19,900</td>\n",
       "      <td>Tomorrow, April 4</td>\n",
       "    </tr>\n",
       "    <tr>\n",
       "      <th>11</th>\n",
       "      <td>Apple iPhone 11 (64GB) - (Product) RED</td>\n",
       "      <td>₹47,990</td>\n",
       "      <td>Tomorrow, April 4</td>\n",
       "    </tr>\n",
       "    <tr>\n",
       "      <th>12</th>\n",
       "      <td>realme narzo 50i (Mint Green, 2GB RAM+32GB Sto...</td>\n",
       "      <td>₹7,499</td>\n",
       "      <td>Tomorrow, April 4</td>\n",
       "    </tr>\n",
       "    <tr>\n",
       "      <th>13</th>\n",
       "      <td>Redmi 9A Sport (Metallic Blue, 2GB RAM, 32GB S...</td>\n",
       "      <td>₹6,999</td>\n",
       "      <td>Tomorrow, April 4</td>\n",
       "    </tr>\n",
       "    <tr>\n",
       "      <th>14</th>\n",
       "      <td>Redmi 9A (Sea Blue 3GB RAM 32GB Storage)| 2GHz...</td>\n",
       "      <td>₹8,299</td>\n",
       "      <td>Thursday, April 7</td>\n",
       "    </tr>\n",
       "  </tbody>\n",
       "</table>\n",
       "</div>"
      ],
      "text/plain": [
       "                                           Brand_Name      Price  \\\n",
       "0   Apple iPhone SE (64 GB) - Starlight (3rd Gener...    ₹43,900   \n",
       "1     Apple iPhone 13 Pro Max (256 GB) - Alpine Green  ₹1,39,900   \n",
       "2   Redmi 9A (Nature Green, 3GB Ram, 32GB Storage)...     ₹8,299   \n",
       "3   Redmi 9A(Midnight Black 3GB RAM 32GB Storage) ...     ₹8,299   \n",
       "4   Jio Phone Next 32 GB ROM, 2 GB RAM, Blue Smart...     ₹5,390   \n",
       "5   realme narzo 50A (Oxygen Blue , 4GB RAM + 128 ...    ₹12,499   \n",
       "6   Samsung Galaxy M32 (Light Blue, 6GB RAM, 128GB...    ₹14,999   \n",
       "7   Samsung Galaxy M21 2021 Edition (Arctic Blue, ...    ₹12,999   \n",
       "8   Redmi Note 11 (Space Black, 6GB RAM, 64GB Stor...    ₹14,499   \n",
       "9   OPPO A74 5G (Fluid Black, 6GB RAM, 128GB Stora...    ₹17,990   \n",
       "10                 Apple iPhone 13 Pro (128GB) - Gold  ₹1,19,900   \n",
       "11             Apple iPhone 11 (64GB) - (Product) RED    ₹47,990   \n",
       "12  realme narzo 50i (Mint Green, 2GB RAM+32GB Sto...     ₹7,499   \n",
       "13  Redmi 9A Sport (Metallic Blue, 2GB RAM, 32GB S...     ₹6,999   \n",
       "14  Redmi 9A (Sea Blue 3GB RAM 32GB Storage)| 2GHz...     ₹8,299   \n",
       "\n",
       "    Expected_Delivery  \n",
       "0     Friday, April 8  \n",
       "1   Tomorrow, April 4  \n",
       "2     Friday, April 8  \n",
       "3   Tomorrow, April 4  \n",
       "4   Tomorrow, April 4  \n",
       "5   Tomorrow, April 4  \n",
       "6      Today, April 3  \n",
       "7   Tomorrow, April 4  \n",
       "8   Tomorrow, April 4  \n",
       "9   Tomorrow, April 4  \n",
       "10  Tomorrow, April 4  \n",
       "11  Tomorrow, April 4  \n",
       "12  Tomorrow, April 4  \n",
       "13  Tomorrow, April 4  \n",
       "14  Thursday, April 7  "
      ]
     },
     "execution_count": 37,
     "metadata": {},
     "output_type": "execute_result"
    }
   ],
   "source": [
    "\n",
    "# creating the dataframe from the scraped data and taking only first 10 jobs\n",
    "df=pd.DataFrame({\"Brand_Name\":Brand_Name[0:15],\"Price\":Price[0:15],\"Expected_Delivery\":Expected_Delivery[0:15]})\n",
    "df"
   ]
  },
  {
   "cell_type": "raw",
   "id": "c741025c",
   "metadata": {},
   "source": [
    "3. Write a python program to access the search bar and search button on images.google.com and scrape 10\n",
    "images each for keywords ‘fruits’, ‘cars’ and ‘Machine Learning’, ‘Guitar’, ‘Cakes’."
   ]
  },
  {
   "cell_type": "code",
   "execution_count": 85,
   "id": "794f5923",
   "metadata": {},
   "outputs": [],
   "source": [
    "url = \"https://www.google.co.in/imghp?hl=en&tab=ri&ogbl\"\n",
    "driver.get(url)"
   ]
  },
  {
   "cell_type": "code",
   "execution_count": null,
   "id": "3f978eb8",
   "metadata": {},
   "outputs": [],
   "source": []
  },
  {
   "cell_type": "code",
   "execution_count": null,
   "id": "046acd20",
   "metadata": {},
   "outputs": [],
   "source": []
  },
  {
   "cell_type": "code",
   "execution_count": 79,
   "id": "8034bda1",
   "metadata": {},
   "outputs": [
    {
     "data": {
      "text/plain": [
       "<selenium.webdriver.remote.webelement.WebElement (session=\"771b9fc401955068a9de6c3e23e2319d\", element=\"5fa9f28e-8ca5-40e0-b3ef-c9ed893ed047\")>"
      ]
     },
     "execution_count": 79,
     "metadata": {},
     "output_type": "execute_result"
    }
   ],
   "source": [
    "#accessing search bar\n",
    "search_bar=driver.find_element_by_xpath(\"/html/body/div[1]/div[3]/form/div[1]/div[1]/div[1]/div/div[2]/input\")  \n",
    "search_bar.send_keys(\"fruits\")\n",
    "\n",
    "# clicking the search button\n",
    "search_button=driver.find_element_by_xpath(\"//div[@class='zgAlFc']\")\n",
    "search_button.click()\n",
    "\n",
    "\n",
    "# scraping images\n",
    "fruits=driver.find_element_by_xpath(\"//a[@class='VFACy kGQAp sMi44c lNHeqe WGvvNb']\")\n",
    "fruits"
   ]
  },
  {
   "cell_type": "code",
   "execution_count": 83,
   "id": "2f8b9412",
   "metadata": {},
   "outputs": [
    {
     "data": {
      "text/plain": [
       "<selenium.webdriver.remote.webelement.WebElement (session=\"771b9fc401955068a9de6c3e23e2319d\", element=\"c615c450-ed3c-4761-a627-96b7ead9ae6e\")>"
      ]
     },
     "execution_count": 83,
     "metadata": {},
     "output_type": "execute_result"
    }
   ],
   "source": [
    "#accessing search bar\n",
    "search_bar=driver.find_element_by_xpath(\"/html/body/div[1]/div[3]/form/div[1]/div[1]/div[1]/div/div[2]/input\") \n",
    "search_bar.send_keys(\"cars\")\n",
    "\n",
    "# clicking the search button\n",
    "search_button=driver.find_element_by_xpath(\"//div[@class='zgAlFc']\")\n",
    "search_button.click()\n",
    "\n",
    "\n",
    "# scraping images\n",
    "cars=driver.find_element_by_xpath(\"//a[@class='VFACy kGQAp sMi44c lNHeqe WGvvNb']\")\n",
    "cars"
   ]
  },
  {
   "cell_type": "code",
   "execution_count": 86,
   "id": "8771c267",
   "metadata": {},
   "outputs": [
    {
     "data": {
      "text/plain": [
       "<selenium.webdriver.remote.webelement.WebElement (session=\"771b9fc401955068a9de6c3e23e2319d\", element=\"ddc11a1e-38da-4f64-8f02-ef8b23ee7efb\")>"
      ]
     },
     "execution_count": 86,
     "metadata": {},
     "output_type": "execute_result"
    }
   ],
   "source": [
    "#accessing search bar\n",
    "search_bar=driver.find_element_by_xpath(\"/html/body/div[1]/div[3]/form/div[1]/div[1]/div[1]/div/div[2]/input\") \n",
    "search_bar.send_keys(\"machine learning\")\n",
    "\n",
    "# clicking the search button\n",
    "search_button=driver.find_element_by_xpath(\"//div[@class='zgAlFc']\")\n",
    "search_button.click()\n",
    "\n",
    "\n",
    "# scraping images\n",
    "machine_learning=driver.find_element_by_xpath(\"//a[@class='VFACy kGQAp sMi44c lNHeqe WGvvNb']\")\n",
    "machine_learning"
   ]
  },
  {
   "cell_type": "code",
   "execution_count": 87,
   "id": "ec9b8652",
   "metadata": {},
   "outputs": [
    {
     "data": {
      "text/plain": [
       "<selenium.webdriver.remote.webelement.WebElement (session=\"771b9fc401955068a9de6c3e23e2319d\", element=\"b560a0e5-f91c-4634-86f3-986474e1e0cc\")>"
      ]
     },
     "execution_count": 87,
     "metadata": {},
     "output_type": "execute_result"
    }
   ],
   "source": [
    "url = \"https://www.google.co.in/imghp?hl=en&tab=ri&ogbl\"\n",
    "driver.get(url)\n",
    "\n",
    "#accessing search bar\n",
    "search_bar=driver.find_element_by_xpath(\"/html/body/div[1]/div[3]/form/div[1]/div[1]/div[1]/div/div[2]/input\") \n",
    "search_bar.send_keys(\"guiter\")\n",
    "\n",
    "# clicking the search button\n",
    "search_button=driver.find_element_by_xpath(\"//div[@class='zgAlFc']\")\n",
    "search_button.click()\n",
    "\n",
    "\n",
    "# scraping images\n",
    "guitar=driver.find_element_by_xpath(\"//a[@class='VFACy kGQAp sMi44c lNHeqe WGvvNb']\")\n",
    "guitar"
   ]
  },
  {
   "cell_type": "code",
   "execution_count": 88,
   "id": "7a2709d0",
   "metadata": {},
   "outputs": [
    {
     "data": {
      "text/plain": [
       "<selenium.webdriver.remote.webelement.WebElement (session=\"771b9fc401955068a9de6c3e23e2319d\", element=\"9003482f-05c1-4a73-8183-8ca346407bf5\")>"
      ]
     },
     "execution_count": 88,
     "metadata": {},
     "output_type": "execute_result"
    }
   ],
   "source": [
    "url = \"https://www.google.co.in/imghp?hl=en&tab=ri&ogbl\"\n",
    "driver.get(url)\n",
    "\n",
    "#accessing search bar\n",
    "search_bar=driver.find_element_by_xpath(\"/html/body/div[1]/div[3]/form/div[1]/div[1]/div[1]/div/div[2]/input\") \n",
    "search_bar.send_keys(\"cakes\")\n",
    "\n",
    "# clicking the search button\n",
    "search_button=driver.find_element_by_xpath(\"//div[@class='zgAlFc']\")\n",
    "search_button.click()\n",
    "\n",
    "\n",
    "# scraping images\n",
    "cakes=driver.find_element_by_xpath(\"//a[@class='VFACy kGQAp sMi44c lNHeqe WGvvNb']\")\n",
    "cakes"
   ]
  },
  {
   "cell_type": "raw",
   "id": "82ee0a83",
   "metadata": {},
   "source": [
    "4. Write a python program to search for a smartphone(e.g.: Oneplus Nord, pixel 4A, etc.) on\n",
    "www.flipkart.com and scrape following details for all the search results displayed on 1st page. Details to be \n",
    "scraped: “Brand Name”, “Smartphone name”, “Colour”, “RAM”, “Storage(ROM)”, “Primary Camera”, \n",
    "“Secondary Camera”, “Display Size”, “Battery Capacity”, “Price”, “Product URL”. Incase if any of the \n",
    "details is missing then replace it by “- “. Save your results in a dataframe and CSV.\n"
   ]
  },
  {
   "cell_type": "code",
   "execution_count": 89,
   "id": "204a01e4",
   "metadata": {},
   "outputs": [],
   "source": [
    "url = \"https://www.flipkart.com/\" \n",
    "driver.get(url)"
   ]
  },
  {
   "cell_type": "code",
   "execution_count": 90,
   "id": "a1e242c7",
   "metadata": {},
   "outputs": [],
   "source": [
    "#locating the search bar\n",
    "search_bar=driver.find_element_by_class_name(\"_3704LK\")\n",
    "search_bar.send_keys('Oneplus Nord, pixel 4A')\n",
    "\n",
    "time.sleep(2)\n",
    "#locating the button and clicking it toh search for sunglasses\n",
    "button=driver.find_element_by_class_name('L0Z3Pu')\n",
    "button.click()"
   ]
  },
  {
   "cell_type": "code",
   "execution_count": 112,
   "id": "72d27164",
   "metadata": {
    "scrolled": true
   },
   "outputs": [],
   "source": [
    "#creating the empty list\n",
    "\n",
    "Smartphone=[]\n",
    "RAMROM=[]\n",
    "Price=[]\n",
    "Product=[]\n",
    "\n",
    "\n",
    "time.sleep(3)\n",
    "\n",
    "#scrapping the required details\n",
    "\n",
    "name=driver.find_elements_by_class_name('_4rR01T')#scraping smartphone name\n",
    "for i in name:\n",
    "    if i.text is None:\n",
    "        Smartphone.append(\"_ _\")\n",
    "    else:\n",
    "        Smartphone.append(i.text)\n",
    "\n",
    "    \n",
    "ram=driver.find_elements_by_xpath('//li[@class=\"rgWa7D\"]')#scraping smartphone name from the xpath\n",
    "for i in ram:\n",
    "    if i.text is None:\n",
    "        RAMROM.append(\"_ _\")\n",
    "    else:\n",
    "        RAMROM.append(i.text)#appending the description in list\n",
    "    \n",
    "   \n",
    "rs=driver.find_elements_by_xpath(\"//div[@class='_30jeq3 _1_WHN1']\")# scraping the price from the xpath\n",
    "for i in rs:\n",
    "    if i.text is None:\n",
    "        Price.append(\"_ _\")\n",
    "    else:\n",
    "        Price.append(i.text)\n",
    "        \n",
    "prdct=driver.find_elements_by_xpath(\"//a[@class='_1fQZEK']\")\n",
    "for i in prdct:\n",
    "    if i.text is None:\n",
    "        Product.append(\"_ _\")\n",
    "    else:\n",
    "        Product.append(i.text)\n",
    "    "
   ]
  },
  {
   "cell_type": "code",
   "execution_count": 115,
   "id": "7b5d1211",
   "metadata": {},
   "outputs": [
    {
     "data": {
      "text/html": [
       "<div>\n",
       "<style scoped>\n",
       "    .dataframe tbody tr th:only-of-type {\n",
       "        vertical-align: middle;\n",
       "    }\n",
       "\n",
       "    .dataframe tbody tr th {\n",
       "        vertical-align: top;\n",
       "    }\n",
       "\n",
       "    .dataframe thead th {\n",
       "        text-align: right;\n",
       "    }\n",
       "</style>\n",
       "<table border=\"1\" class=\"dataframe\">\n",
       "  <thead>\n",
       "    <tr style=\"text-align: right;\">\n",
       "      <th></th>\n",
       "      <th>Smartphone_name</th>\n",
       "      <th>RAM_ROM</th>\n",
       "      <th>PRICE</th>\n",
       "      <th>Product_URL</th>\n",
       "    </tr>\n",
       "  </thead>\n",
       "  <tbody>\n",
       "    <tr>\n",
       "      <th>0</th>\n",
       "      <td>LAVA Pixel V2 Plus (Black, 16 GB)</td>\n",
       "      <td>2 GB RAM | 16 GB ROM</td>\n",
       "      <td>₹6,199</td>\n",
       "      <td>Currently unavailable\\nAdd to Compare\\nLAVA Pi...</td>\n",
       "    </tr>\n",
       "    <tr>\n",
       "      <th>1</th>\n",
       "      <td>SAMSUNG Galaxy S10 Plus (Ceramic White, 1 TB)</td>\n",
       "      <td>12.7 cm (5 inch) Display</td>\n",
       "      <td>₹1,17,990</td>\n",
       "      <td>Add to Compare\\nSAMSUNG Galaxy S10 Plus (Ceram...</td>\n",
       "    </tr>\n",
       "    <tr>\n",
       "      <th>2</th>\n",
       "      <td>ringme Reno Plus (Red, 16 GB)</td>\n",
       "      <td>13MP + 13MP | 5MP + 5MP Dual Front Camera</td>\n",
       "      <td>₹5,145</td>\n",
       "      <td>Add to Compare\\nringme Reno Plus (Red, 16 GB)\\...</td>\n",
       "    </tr>\n",
       "    <tr>\n",
       "      <th>3</th>\n",
       "      <td>KARBONN Titanium S9 plus (Blue, 32 GB)</td>\n",
       "      <td>2500 mAh Battery</td>\n",
       "      <td>₹5,999</td>\n",
       "      <td>Add to Compare\\nKARBONN Titanium S9 plus (Blue...</td>\n",
       "    </tr>\n",
       "    <tr>\n",
       "      <th>4</th>\n",
       "      <td>I Kall K38 Plus</td>\n",
       "      <td>Brand Warranty of 1 Year Available for Mobile ...</td>\n",
       "      <td>₹899</td>\n",
       "      <td>Currently unavailable\\nAdd to Compare\\nI Kall ...</td>\n",
       "    </tr>\n",
       "    <tr>\n",
       "      <th>5</th>\n",
       "      <td>Phicomm Clue 3 Plus VoLTE (Gold, 16 GB)</td>\n",
       "      <td>12 GB RAM | 1 TB ROM | Expandable Upto 512 GB</td>\n",
       "      <td>₹6,339</td>\n",
       "      <td>Currently unavailable\\nAdd to Compare\\nPhicomm...</td>\n",
       "    </tr>\n",
       "    <tr>\n",
       "      <th>6</th>\n",
       "      <td>Micromax Bharat 4 Plus (Black, 16 GB)</td>\n",
       "      <td>16.26 cm (6.4 inch) Quad HD+ Display</td>\n",
       "      <td>₹4,199</td>\n",
       "      <td>Currently unavailable\\nAdd to Compare\\nMicroma...</td>\n",
       "    </tr>\n",
       "    <tr>\n",
       "      <th>7</th>\n",
       "      <td>ringme R1 Plus</td>\n",
       "      <td>16MP + 12MP | 10MP + 8MP Dual Front Camera</td>\n",
       "      <td>₹995</td>\n",
       "      <td>Currently unavailable\\nAdd to Compare\\nringme ...</td>\n",
       "    </tr>\n",
       "    <tr>\n",
       "      <th>8</th>\n",
       "      <td>I Kall K 8 NEw / K-8Plus (Red, 16 GB)</td>\n",
       "      <td>4100 mAh Lithium-ion Battery</td>\n",
       "      <td>₹4,429</td>\n",
       "      <td>Currently unavailable\\nAdd to Compare\\nI Kall ...</td>\n",
       "    </tr>\n",
       "    <tr>\n",
       "      <th>9</th>\n",
       "      <td>Nokia 5.1 Plus (Blue, 64 GB)</td>\n",
       "      <td>Exynos 9 9820 Processor</td>\n",
       "      <td>₹11,500</td>\n",
       "      <td>Currently unavailable\\nAdd to Compare\\nNokia 5...</td>\n",
       "    </tr>\n",
       "  </tbody>\n",
       "</table>\n",
       "</div>"
      ],
      "text/plain": [
       "                                 Smartphone_name  \\\n",
       "0              LAVA Pixel V2 Plus (Black, 16 GB)   \n",
       "1  SAMSUNG Galaxy S10 Plus (Ceramic White, 1 TB)   \n",
       "2                  ringme Reno Plus (Red, 16 GB)   \n",
       "3         KARBONN Titanium S9 plus (Blue, 32 GB)   \n",
       "4                                I Kall K38 Plus   \n",
       "5        Phicomm Clue 3 Plus VoLTE (Gold, 16 GB)   \n",
       "6          Micromax Bharat 4 Plus (Black, 16 GB)   \n",
       "7                                 ringme R1 Plus   \n",
       "8          I Kall K 8 NEw / K-8Plus (Red, 16 GB)   \n",
       "9                   Nokia 5.1 Plus (Blue, 64 GB)   \n",
       "\n",
       "                                             RAM_ROM      PRICE  \\\n",
       "0                               2 GB RAM | 16 GB ROM     ₹6,199   \n",
       "1                           12.7 cm (5 inch) Display  ₹1,17,990   \n",
       "2          13MP + 13MP | 5MP + 5MP Dual Front Camera     ₹5,145   \n",
       "3                                   2500 mAh Battery     ₹5,999   \n",
       "4  Brand Warranty of 1 Year Available for Mobile ...       ₹899   \n",
       "5      12 GB RAM | 1 TB ROM | Expandable Upto 512 GB     ₹6,339   \n",
       "6               16.26 cm (6.4 inch) Quad HD+ Display     ₹4,199   \n",
       "7         16MP + 12MP | 10MP + 8MP Dual Front Camera       ₹995   \n",
       "8                       4100 mAh Lithium-ion Battery     ₹4,429   \n",
       "9                            Exynos 9 9820 Processor    ₹11,500   \n",
       "\n",
       "                                         Product_URL  \n",
       "0  Currently unavailable\\nAdd to Compare\\nLAVA Pi...  \n",
       "1  Add to Compare\\nSAMSUNG Galaxy S10 Plus (Ceram...  \n",
       "2  Add to Compare\\nringme Reno Plus (Red, 16 GB)\\...  \n",
       "3  Add to Compare\\nKARBONN Titanium S9 plus (Blue...  \n",
       "4  Currently unavailable\\nAdd to Compare\\nI Kall ...  \n",
       "5  Currently unavailable\\nAdd to Compare\\nPhicomm...  \n",
       "6  Currently unavailable\\nAdd to Compare\\nMicroma...  \n",
       "7  Currently unavailable\\nAdd to Compare\\nringme ...  \n",
       "8  Currently unavailable\\nAdd to Compare\\nI Kall ...  \n",
       "9  Currently unavailable\\nAdd to Compare\\nNokia 5...  "
      ]
     },
     "execution_count": 115,
     "metadata": {},
     "output_type": "execute_result"
    }
   ],
   "source": [
    "df = pd.DataFrame()\n",
    "df['Smartphone_name'] = Smartphone[:10]\n",
    "df['RAM_ROM'] =RAMROM[:10]\n",
    "df['PRICE'] = Price[:10]\n",
    "df['Product_URL'] =Product[:10]\n",
    "df"
   ]
  },
  {
   "cell_type": "raw",
   "id": "1ba16e8f",
   "metadata": {},
   "source": [
    "5. Write a program to scrap geospatial coordinates (latitude, longitude) of a city searched on google\n",
    "maps."
   ]
  },
  {
   "cell_type": "code",
   "execution_count": 141,
   "id": "568991af",
   "metadata": {},
   "outputs": [],
   "source": [
    "# Importing required Exceptions which needs to handled\n",
    "from selenium.common.exceptions import StaleElementReferenceException\n",
    "from selenium.webdriver.support.ui import WebDriverWait\n",
    "from selenium.webdriver.common.by import By"
   ]
  },
  {
   "cell_type": "code",
   "execution_count": 142,
   "id": "0ba8c096",
   "metadata": {},
   "outputs": [],
   "source": [
    "url=\"https://maps.google.com/\"\n",
    "driver.get(url)"
   ]
  },
  {
   "cell_type": "code",
   "execution_count": 145,
   "id": "d3659100",
   "metadata": {},
   "outputs": [
    {
     "ename": "StaleElementReferenceException",
     "evalue": "Message: stale element reference: element is not attached to the page document\n  (Session info: chrome=99.0.4844.84)\nStacktrace:\nBacktrace:\n\tOrdinal0 [0x00CF9943+2595139]\n\tOrdinal0 [0x00C8C9F1+2148849]\n\tOrdinal0 [0x00B84528+1066280]\n\tOrdinal0 [0x00B86E04+1076740]\n\tOrdinal0 [0x00B86CBE+1076414]\n\tOrdinal0 [0x00B86F50+1077072]\n\tOrdinal0 [0x00BB19F9+1251833]\n\tOrdinal0 [0x00BB1AD4+1252052]\n\tOrdinal0 [0x00BAA197+1221015]\n\tOrdinal0 [0x00BCB9EC+1358316]\n\tOrdinal0 [0x00BA7474+1209460]\n\tOrdinal0 [0x00BCBC04+1358852]\n\tOrdinal0 [0x00BDBAF2+1424114]\n\tOrdinal0 [0x00BCB806+1357830]\n\tOrdinal0 [0x00BA6086+1204358]\n\tOrdinal0 [0x00BA6F96+1208214]\n\tGetHandleVerifier [0x00E9B232+1658114]\n\tGetHandleVerifier [0x00F5312C+2411516]\n\tGetHandleVerifier [0x00D8F261+560433]\n\tGetHandleVerifier [0x00D8E366+556598]\n\tOrdinal0 [0x00C9286B+2173035]\n\tOrdinal0 [0x00C975F8+2192888]\n\tOrdinal0 [0x00C976E5+2193125]\n\tOrdinal0 [0x00CA11FC+2232828]\n\tBaseThreadInitThunk [0x76576739+25]\n\tRtlGetFullPathName_UEx [0x77538E7F+1215]\n\tRtlGetFullPathName_UEx [0x77538E4D+1165]\n",
     "output_type": "error",
     "traceback": [
      "\u001b[1;31m---------------------------------------------------------------------------\u001b[0m",
      "\u001b[1;31mStaleElementReferenceException\u001b[0m            Traceback (most recent call last)",
      "\u001b[1;32m<ipython-input-145-d9f5a9f0078f>\u001b[0m in \u001b[0;36m<module>\u001b[1;34m\u001b[0m\n\u001b[0;32m     16\u001b[0m     \u001b[0msubmit\u001b[0m\u001b[1;33m=\u001b[0m\u001b[0mdriver\u001b[0m\u001b[1;33m.\u001b[0m\u001b[0mfind_element_by_xpath\u001b[0m\u001b[1;33m(\u001b[0m\u001b[1;34m\"/html/body/div[3]/div[9]/div[3]/div[1]/div[1]/div[1]/div[2]/div[1]/button\"\u001b[0m\u001b[1;33m)\u001b[0m\u001b[1;33m\u001b[0m\u001b[1;33m\u001b[0m\u001b[0m\n\u001b[0;32m     17\u001b[0m     \u001b[0msubmit\u001b[0m\u001b[1;33m.\u001b[0m\u001b[0mclick\u001b[0m\u001b[1;33m\u001b[0m\u001b[1;33m\u001b[0m\u001b[0m\n\u001b[1;32m---> 18\u001b[1;33m \u001b[0msearchplace\u001b[0m\u001b[1;33m(\u001b[0m\u001b[1;33m)\u001b[0m\u001b[1;33m\u001b[0m\u001b[1;33m\u001b[0m\u001b[0m\n\u001b[0m",
      "\u001b[1;32m<ipython-input-145-d9f5a9f0078f>\u001b[0m in \u001b[0;36msearchplace\u001b[1;34m()\u001b[0m\n\u001b[0;32m      3\u001b[0m     \u001b[1;32mdef\u001b[0m \u001b[0msearchplace\u001b[0m\u001b[1;33m(\u001b[0m\u001b[1;33m)\u001b[0m\u001b[1;33m:\u001b[0m\u001b[1;33m\u001b[0m\u001b[1;33m\u001b[0m\u001b[0m\n\u001b[0;32m      4\u001b[0m         \u001b[0mPlace\u001b[0m\u001b[1;33m=\u001b[0m\u001b[0mdriver\u001b[0m\u001b[1;33m.\u001b[0m\u001b[0mfind_element_by_class_name\u001b[0m\u001b[1;33m(\u001b[0m\u001b[1;34m\"tactile-searchbox-input\"\u001b[0m\u001b[1;33m)\u001b[0m\u001b[1;33m\u001b[0m\u001b[1;33m\u001b[0m\u001b[0m\n\u001b[1;32m----> 5\u001b[1;33m         \u001b[0msearch_bar\u001b[0m\u001b[1;33m.\u001b[0m\u001b[0msend_keys\u001b[0m\u001b[1;33m(\u001b[0m\u001b[1;34m\"ujjain\"\u001b[0m\u001b[1;33m)\u001b[0m\u001b[1;33m\u001b[0m\u001b[1;33m\u001b[0m\u001b[0m\n\u001b[0m\u001b[0;32m      6\u001b[0m         \u001b[0msubmit\u001b[0m\u001b[1;33m=\u001b[0m\u001b[0mdriver\u001b[0m\u001b[1;33m.\u001b[0m\u001b[0mfind_element_by_xpath\u001b[0m\u001b[1;33m(\u001b[0m\u001b[1;34m\"/html/body/div[3]/div[9]/div[3]/div[1]/div[1]/div[1]/div[2]/div[1]/button\"\u001b[0m\u001b[1;33m)\u001b[0m\u001b[1;33m\u001b[0m\u001b[1;33m\u001b[0m\u001b[0m\n\u001b[0;32m      7\u001b[0m         \u001b[0msubmit\u001b[0m\u001b[1;33m.\u001b[0m\u001b[0mclick\u001b[0m\u001b[1;33m\u001b[0m\u001b[1;33m\u001b[0m\u001b[0m\n",
      "\u001b[1;32m~\\Anaconda3\\lib\\site-packages\\selenium\\webdriver\\remote\\webelement.py\u001b[0m in \u001b[0;36msend_keys\u001b[1;34m(self, *value)\u001b[0m\n\u001b[0;32m    538\u001b[0m                 \u001b[0mvalue\u001b[0m \u001b[1;33m=\u001b[0m \u001b[1;34m'\\n'\u001b[0m\u001b[1;33m.\u001b[0m\u001b[0mjoin\u001b[0m\u001b[1;33m(\u001b[0m\u001b[0mremote_files\u001b[0m\u001b[1;33m)\u001b[0m\u001b[1;33m\u001b[0m\u001b[1;33m\u001b[0m\u001b[0m\n\u001b[0;32m    539\u001b[0m \u001b[1;33m\u001b[0m\u001b[0m\n\u001b[1;32m--> 540\u001b[1;33m         self._execute(Command.SEND_KEYS_TO_ELEMENT,\n\u001b[0m\u001b[0;32m    541\u001b[0m                       {'text': \"\".join(keys_to_typing(value)),\n\u001b[0;32m    542\u001b[0m                        'value': keys_to_typing(value)})\n",
      "\u001b[1;32m~\\Anaconda3\\lib\\site-packages\\selenium\\webdriver\\remote\\webelement.py\u001b[0m in \u001b[0;36m_execute\u001b[1;34m(self, command, params)\u001b[0m\n\u001b[0;32m    708\u001b[0m             \u001b[0mparams\u001b[0m \u001b[1;33m=\u001b[0m \u001b[1;33m{\u001b[0m\u001b[1;33m}\u001b[0m\u001b[1;33m\u001b[0m\u001b[1;33m\u001b[0m\u001b[0m\n\u001b[0;32m    709\u001b[0m         \u001b[0mparams\u001b[0m\u001b[1;33m[\u001b[0m\u001b[1;34m'id'\u001b[0m\u001b[1;33m]\u001b[0m \u001b[1;33m=\u001b[0m \u001b[0mself\u001b[0m\u001b[1;33m.\u001b[0m\u001b[0m_id\u001b[0m\u001b[1;33m\u001b[0m\u001b[1;33m\u001b[0m\u001b[0m\n\u001b[1;32m--> 710\u001b[1;33m         \u001b[1;32mreturn\u001b[0m \u001b[0mself\u001b[0m\u001b[1;33m.\u001b[0m\u001b[0m_parent\u001b[0m\u001b[1;33m.\u001b[0m\u001b[0mexecute\u001b[0m\u001b[1;33m(\u001b[0m\u001b[0mcommand\u001b[0m\u001b[1;33m,\u001b[0m \u001b[0mparams\u001b[0m\u001b[1;33m)\u001b[0m\u001b[1;33m\u001b[0m\u001b[1;33m\u001b[0m\u001b[0m\n\u001b[0m\u001b[0;32m    711\u001b[0m \u001b[1;33m\u001b[0m\u001b[0m\n\u001b[0;32m    712\u001b[0m     \u001b[1;32mdef\u001b[0m \u001b[0mfind_element\u001b[0m\u001b[1;33m(\u001b[0m\u001b[0mself\u001b[0m\u001b[1;33m,\u001b[0m \u001b[0mby\u001b[0m\u001b[1;33m=\u001b[0m\u001b[0mBy\u001b[0m\u001b[1;33m.\u001b[0m\u001b[0mID\u001b[0m\u001b[1;33m,\u001b[0m \u001b[0mvalue\u001b[0m\u001b[1;33m=\u001b[0m\u001b[1;32mNone\u001b[0m\u001b[1;33m)\u001b[0m\u001b[1;33m:\u001b[0m\u001b[1;33m\u001b[0m\u001b[1;33m\u001b[0m\u001b[0m\n",
      "\u001b[1;32m~\\Anaconda3\\lib\\site-packages\\selenium\\webdriver\\remote\\webdriver.py\u001b[0m in \u001b[0;36mexecute\u001b[1;34m(self, driver_command, params)\u001b[0m\n\u001b[0;32m    423\u001b[0m         \u001b[0mresponse\u001b[0m \u001b[1;33m=\u001b[0m \u001b[0mself\u001b[0m\u001b[1;33m.\u001b[0m\u001b[0mcommand_executor\u001b[0m\u001b[1;33m.\u001b[0m\u001b[0mexecute\u001b[0m\u001b[1;33m(\u001b[0m\u001b[0mdriver_command\u001b[0m\u001b[1;33m,\u001b[0m \u001b[0mparams\u001b[0m\u001b[1;33m)\u001b[0m\u001b[1;33m\u001b[0m\u001b[1;33m\u001b[0m\u001b[0m\n\u001b[0;32m    424\u001b[0m         \u001b[1;32mif\u001b[0m \u001b[0mresponse\u001b[0m\u001b[1;33m:\u001b[0m\u001b[1;33m\u001b[0m\u001b[1;33m\u001b[0m\u001b[0m\n\u001b[1;32m--> 425\u001b[1;33m             \u001b[0mself\u001b[0m\u001b[1;33m.\u001b[0m\u001b[0merror_handler\u001b[0m\u001b[1;33m.\u001b[0m\u001b[0mcheck_response\u001b[0m\u001b[1;33m(\u001b[0m\u001b[0mresponse\u001b[0m\u001b[1;33m)\u001b[0m\u001b[1;33m\u001b[0m\u001b[1;33m\u001b[0m\u001b[0m\n\u001b[0m\u001b[0;32m    426\u001b[0m             response['value'] = self._unwrap_value(\n\u001b[0;32m    427\u001b[0m                 response.get('value', None))\n",
      "\u001b[1;32m~\\Anaconda3\\lib\\site-packages\\selenium\\webdriver\\remote\\errorhandler.py\u001b[0m in \u001b[0;36mcheck_response\u001b[1;34m(self, response)\u001b[0m\n\u001b[0;32m    245\u001b[0m                 \u001b[0malert_text\u001b[0m \u001b[1;33m=\u001b[0m \u001b[0mvalue\u001b[0m\u001b[1;33m[\u001b[0m\u001b[1;34m'alert'\u001b[0m\u001b[1;33m]\u001b[0m\u001b[1;33m.\u001b[0m\u001b[0mget\u001b[0m\u001b[1;33m(\u001b[0m\u001b[1;34m'text'\u001b[0m\u001b[1;33m)\u001b[0m\u001b[1;33m\u001b[0m\u001b[1;33m\u001b[0m\u001b[0m\n\u001b[0;32m    246\u001b[0m             \u001b[1;32mraise\u001b[0m \u001b[0mexception_class\u001b[0m\u001b[1;33m(\u001b[0m\u001b[0mmessage\u001b[0m\u001b[1;33m,\u001b[0m \u001b[0mscreen\u001b[0m\u001b[1;33m,\u001b[0m \u001b[0mstacktrace\u001b[0m\u001b[1;33m,\u001b[0m \u001b[0malert_text\u001b[0m\u001b[1;33m)\u001b[0m  \u001b[1;31m# type: ignore[call-arg]  # mypy is not smart enough here\u001b[0m\u001b[1;33m\u001b[0m\u001b[1;33m\u001b[0m\u001b[0m\n\u001b[1;32m--> 247\u001b[1;33m         \u001b[1;32mraise\u001b[0m \u001b[0mexception_class\u001b[0m\u001b[1;33m(\u001b[0m\u001b[0mmessage\u001b[0m\u001b[1;33m,\u001b[0m \u001b[0mscreen\u001b[0m\u001b[1;33m,\u001b[0m \u001b[0mstacktrace\u001b[0m\u001b[1;33m)\u001b[0m\u001b[1;33m\u001b[0m\u001b[1;33m\u001b[0m\u001b[0m\n\u001b[0m\u001b[0;32m    248\u001b[0m \u001b[1;33m\u001b[0m\u001b[0m\n\u001b[0;32m    249\u001b[0m     \u001b[1;32mdef\u001b[0m \u001b[0m_value_or_default\u001b[0m\u001b[1;33m(\u001b[0m\u001b[0mself\u001b[0m\u001b[1;33m,\u001b[0m \u001b[0mobj\u001b[0m\u001b[1;33m:\u001b[0m \u001b[0mMapping\u001b[0m\u001b[1;33m[\u001b[0m\u001b[0m_KT\u001b[0m\u001b[1;33m,\u001b[0m \u001b[0m_VT\u001b[0m\u001b[1;33m]\u001b[0m\u001b[1;33m,\u001b[0m \u001b[0mkey\u001b[0m\u001b[1;33m:\u001b[0m \u001b[0m_KT\u001b[0m\u001b[1;33m,\u001b[0m \u001b[0mdefault\u001b[0m\u001b[1;33m:\u001b[0m \u001b[0m_VT\u001b[0m\u001b[1;33m)\u001b[0m \u001b[1;33m->\u001b[0m \u001b[0m_VT\u001b[0m\u001b[1;33m:\u001b[0m\u001b[1;33m\u001b[0m\u001b[1;33m\u001b[0m\u001b[0m\n",
      "\u001b[1;31mStaleElementReferenceException\u001b[0m: Message: stale element reference: element is not attached to the page document\n  (Session info: chrome=99.0.4844.84)\nStacktrace:\nBacktrace:\n\tOrdinal0 [0x00CF9943+2595139]\n\tOrdinal0 [0x00C8C9F1+2148849]\n\tOrdinal0 [0x00B84528+1066280]\n\tOrdinal0 [0x00B86E04+1076740]\n\tOrdinal0 [0x00B86CBE+1076414]\n\tOrdinal0 [0x00B86F50+1077072]\n\tOrdinal0 [0x00BB19F9+1251833]\n\tOrdinal0 [0x00BB1AD4+1252052]\n\tOrdinal0 [0x00BAA197+1221015]\n\tOrdinal0 [0x00BCB9EC+1358316]\n\tOrdinal0 [0x00BA7474+1209460]\n\tOrdinal0 [0x00BCBC04+1358852]\n\tOrdinal0 [0x00BDBAF2+1424114]\n\tOrdinal0 [0x00BCB806+1357830]\n\tOrdinal0 [0x00BA6086+1204358]\n\tOrdinal0 [0x00BA6F96+1208214]\n\tGetHandleVerifier [0x00E9B232+1658114]\n\tGetHandleVerifier [0x00F5312C+2411516]\n\tGetHandleVerifier [0x00D8F261+560433]\n\tGetHandleVerifier [0x00D8E366+556598]\n\tOrdinal0 [0x00C9286B+2173035]\n\tOrdinal0 [0x00C975F8+2192888]\n\tOrdinal0 [0x00C976E5+2193125]\n\tOrdinal0 [0x00CA11FC+2232828]\n\tBaseThreadInitThunk [0x76576739+25]\n\tRtlGetFullPathName_UEx [0x77538E7F+1215]\n\tRtlGetFullPathName_UEx [0x77538E4D+1165]\n"
     ]
    }
   ],
   "source": [
    "#locating the search bar\n",
    "try:\n",
    "    def searchplace():\n",
    "        Place=driver.find_element_by_class_name(\"tactile-searchbox-input\")\n",
    "        search_bar.send_keys(\"ujjain\")\n",
    "        submit=driver.find_element_by_xpath(\"/html/body/div[3]/div[9]/div[3]/div[1]/div[1]/div[1]/div[2]/div[1]/button\")\n",
    "        submit.click\n",
    "\n",
    "        \n",
    "except StaleElementRefrenceException as e:\n",
    "    print(\"Exception Raised: \", e)\n",
    "    print(\"Refresing the page!!\")\n",
    "    WebDriverwait(driver, delay).until(EC.presence_of_element_located((By.Class_Name, 'nav_last')))\n",
    "    Place=driver.find_element_by_class_name(\"tactile-searchbox-input\")\n",
    "    search_bar.send_keys(\"ujjain\")\n",
    "    submit=driver.find_element_by_xpath(\"/html/body/div[3]/div[9]/div[3]/div[1]/div[1]/div[1]/div[2]/div[1]/button\")\n",
    "    submit.click\n",
    "searchplace()\n"
   ]
  },
  {
   "cell_type": "code",
   "execution_count": null,
   "id": "39dc3bbb",
   "metadata": {},
   "outputs": [],
   "source": []
  },
  {
   "cell_type": "code",
   "execution_count": null,
   "id": "e0af3c4a",
   "metadata": {},
   "outputs": [],
   "source": []
  }
 ],
 "metadata": {
  "kernelspec": {
   "display_name": "Python 3",
   "language": "python",
   "name": "python3"
  },
  "language_info": {
   "codemirror_mode": {
    "name": "ipython",
    "version": 3
   },
   "file_extension": ".py",
   "mimetype": "text/x-python",
   "name": "python",
   "nbconvert_exporter": "python",
   "pygments_lexer": "ipython3",
   "version": "3.8.8"
  }
 },
 "nbformat": 4,
 "nbformat_minor": 5
}
