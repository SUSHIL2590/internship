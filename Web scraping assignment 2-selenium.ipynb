{
 "cells": [
  {
   "cell_type": "code",
   "execution_count": 1,
   "id": "125eb811",
   "metadata": {},
   "outputs": [
    {
     "name": "stdout",
     "output_type": "stream",
     "text": [
      "Requirement already satisfied: selenium in c:\\users\\asus\\anaconda3\\lib\\site-packages (4.1.3)\n",
      "Requirement already satisfied: urllib3[secure,socks]~=1.26 in c:\\users\\asus\\anaconda3\\lib\\site-packages (from selenium) (1.26.4)\n",
      "Requirement already satisfied: trio-websocket~=0.9 in c:\\users\\asus\\anaconda3\\lib\\site-packages (from selenium) (0.9.2)\n",
      "Requirement already satisfied: trio~=0.17 in c:\\users\\asus\\anaconda3\\lib\\site-packages (from selenium) (0.20.0)\n",
      "Requirement already satisfied: idna in c:\\users\\asus\\anaconda3\\lib\\site-packages (from trio~=0.17->selenium) (2.10)\n",
      "Requirement already satisfied: cffi>=1.14 in c:\\users\\asus\\anaconda3\\lib\\site-packages (from trio~=0.17->selenium) (1.14.5)\n",
      "Requirement already satisfied: outcome in c:\\users\\asus\\anaconda3\\lib\\site-packages (from trio~=0.17->selenium) (1.1.0)\n",
      "Requirement already satisfied: sniffio in c:\\users\\asus\\anaconda3\\lib\\site-packages (from trio~=0.17->selenium) (1.2.0)\n",
      "Requirement already satisfied: async-generator>=1.9 in c:\\users\\asus\\anaconda3\\lib\\site-packages (from trio~=0.17->selenium) (1.10)\n",
      "Requirement already satisfied: sortedcontainers in c:\\users\\asus\\anaconda3\\lib\\site-packages (from trio~=0.17->selenium) (2.3.0)\n",
      "Requirement already satisfied: attrs>=19.2.0 in c:\\users\\asus\\anaconda3\\lib\\site-packages (from trio~=0.17->selenium) (20.3.0)\n",
      "Requirement already satisfied: pycparser in c:\\users\\asus\\anaconda3\\lib\\site-packages (from cffi>=1.14->trio~=0.17->selenium) (2.20)\n",
      "Requirement already satisfied: wsproto>=0.14 in c:\\users\\asus\\anaconda3\\lib\\site-packages (from trio-websocket~=0.9->selenium) (1.1.0)\n",
      "Requirement already satisfied: PySocks!=1.5.7,<2.0,>=1.5.6 in c:\\users\\asus\\anaconda3\\lib\\site-packages (from urllib3[secure,socks]~=1.26->selenium) (1.7.1)\n",
      "Requirement already satisfied: certifi in c:\\users\\asus\\anaconda3\\lib\\site-packages (from urllib3[secure,socks]~=1.26->selenium) (2020.12.5)\n",
      "Requirement already satisfied: pyOpenSSL>=0.14 in c:\\users\\asus\\anaconda3\\lib\\site-packages (from urllib3[secure,socks]~=1.26->selenium) (20.0.1)\n",
      "Requirement already satisfied: cryptography>=1.3.4 in c:\\users\\asus\\anaconda3\\lib\\site-packages (from urllib3[secure,socks]~=1.26->selenium) (3.4.7)\n",
      "Requirement already satisfied: six>=1.5.2 in c:\\users\\asus\\anaconda3\\lib\\site-packages (from pyOpenSSL>=0.14->urllib3[secure,socks]~=1.26->selenium) (1.15.0)\n",
      "Requirement already satisfied: h11<1,>=0.9.0 in c:\\users\\asus\\anaconda3\\lib\\site-packages (from wsproto>=0.14->trio-websocket~=0.9->selenium) (0.13.0)\n"
     ]
    }
   ],
   "source": [
    "# Let's first install selenium library \n",
    "!pip install selenium"
   ]
  },
  {
   "cell_type": "markdown",
   "id": "b3abe294",
   "metadata": {},
   "source": [
    "now we will download the webdriver for web browser. The steps for downloading the web driver for your browser are:\n",
    "1) check the version of your browser\n",
    "2) go to the link_ https://chromedriver.chromium.org/downloads\n",
    "3) download the web driver for the version of browser"
   ]
  },
  {
   "cell_type": "code",
   "execution_count": 2,
   "id": "18c02acc",
   "metadata": {},
   "outputs": [],
   "source": [
    "# Let's import all required libraries\n",
    "import selenium\n",
    "from selenium import webdriver\n",
    "import pandas as pd\n",
    "import warnings\n",
    "warnings.filterwarnings(\"ignore\")"
   ]
  },
  {
   "cell_type": "code",
   "execution_count": 3,
   "id": "3912a23a",
   "metadata": {},
   "outputs": [],
   "source": [
    "# Let's first connect to web driver\n",
    "driver = webdriver.Chrome(r'C:\\Users\\ASUS\\Downloads\\chromedriver_win32/chromedriver.exe')"
   ]
  },
  {
   "cell_type": "markdown",
   "id": "72adda83",
   "metadata": {},
   "source": [
    "Q1: Write a python program to scrape data for “Data Analyst” Job position in “Bangalore” location. You\n",
    "have to scrape the job-title, job-location, company_name, experience_required. You have to scrape first 10\n",
    "jobs data.\n",
    "This task will be done in following steps:\n",
    "1. First get the webpage https://www.naukri.com/\n",
    "2. Enter “Data Analyst” in “Skill, Designations, Companies” field and enter “Bangalore” in “enter the\n",
    "location” field.\n",
    "3. Then click the search button.\n",
    "4. Then scrape the data for the first 10 jobs results you get.\n",
    "5. Finally create a dataframe of the scraped data"
   ]
  },
  {
   "cell_type": "code",
   "execution_count": 4,
   "id": "fb2db215",
   "metadata": {},
   "outputs": [],
   "source": [
    "#First get the webpage\n",
    "\n",
    "url = 'http://www.naukri.com/'\n",
    "driver.get(url)"
   ]
  },
  {
   "cell_type": "markdown",
   "id": "072aa838",
   "metadata": {},
   "source": [
    "# Enter “Data Analyst” in “Skill, Designations, Companies” field and enter “Bangalore” in “enter the location” field"
   ]
  },
  {
   "cell_type": "code",
   "execution_count": 5,
   "id": "b6c1b922",
   "metadata": {},
   "outputs": [
    {
     "data": {
      "text/plain": [
       "<selenium.webdriver.remote.webelement.WebElement (session=\"70b32d4b74d412bd3c06ab0b444f155b\", element=\"5a91ec59-3e90-4b8e-b46e-cdf4a83cac83\")>"
      ]
     },
     "execution_count": 5,
     "metadata": {},
     "output_type": "execute_result"
    }
   ],
   "source": [
    "# finding web element for search job bar using id\n",
    "search_job = driver.find_element_by_class_name(\"suggestor-input \")\n",
    "search_job"
   ]
  },
  {
   "cell_type": "code",
   "execution_count": 6,
   "id": "1f07fd9a",
   "metadata": {},
   "outputs": [],
   "source": [
    "#write on search bar\n",
    "search_job.send_keys(\"Data Analyst\")\n"
   ]
  },
  {
   "cell_type": "code",
   "execution_count": 7,
   "id": "c0a2f2a9",
   "metadata": {},
   "outputs": [
    {
     "data": {
      "text/plain": [
       "<selenium.webdriver.remote.webelement.WebElement (session=\"70b32d4b74d412bd3c06ab0b444f155b\", element=\"5c025840-0cbc-4568-88c4-7056a73344bc\")>"
      ]
     },
     "execution_count": 7,
     "metadata": {},
     "output_type": "execute_result"
    }
   ],
   "source": [
    "#finding web elements for search loan bar using absolute xpath\n",
    "search_locn = driver.find_element_by_xpath('/html/body/div/div[2]/div[3]/div/div/div[3]/div/div/div/input')\n",
    "search_locn"
   ]
  },
  {
   "cell_type": "code",
   "execution_count": 8,
   "id": "cf0ca649",
   "metadata": {},
   "outputs": [],
   "source": [
    "search_locn.send_keys(\"Bangalore\")"
   ]
  },
  {
   "cell_type": "markdown",
   "id": "2db802db",
   "metadata": {},
   "source": [
    "# click the search button"
   ]
  },
  {
   "cell_type": "code",
   "execution_count": null,
   "id": "833c6c26",
   "metadata": {},
   "outputs": [],
   "source": [
    "search_btn = driver.find_element_by_xpath('/html/body/div/div[2]/div[3]/div/div/div[6]')\n",
    "search_btn"
   ]
  },
  {
   "cell_type": "code",
   "execution_count": 10,
   "id": "0390ae02",
   "metadata": {},
   "outputs": [],
   "source": [
    "search_btn.click()"
   ]
  },
  {
   "cell_type": "markdown",
   "id": "4f4e49ac",
   "metadata": {},
   "source": [
    "# scrape the data for the first 10 jobs results.\n"
   ]
  },
  {
   "cell_type": "code",
   "execution_count": 24,
   "id": "0f4bf6fd",
   "metadata": {},
   "outputs": [
    {
     "data": {
      "text/plain": [
       "[<selenium.webdriver.remote.webelement.WebElement (session=\"70b32d4b74d412bd3c06ab0b444f155b\", element=\"87fc5449-902c-49ed-bb65-a245ea9d9cf6\")>,\n",
       " <selenium.webdriver.remote.webelement.WebElement (session=\"70b32d4b74d412bd3c06ab0b444f155b\", element=\"62ed5912-62c4-4bae-ae1f-33a95031756e\")>,\n",
       " <selenium.webdriver.remote.webelement.WebElement (session=\"70b32d4b74d412bd3c06ab0b444f155b\", element=\"f3125b38-7028-4e14-bf7f-02168a1d2898\")>,\n",
       " <selenium.webdriver.remote.webelement.WebElement (session=\"70b32d4b74d412bd3c06ab0b444f155b\", element=\"3b9e51aa-5a15-46aa-a94b-3af8e8e170f5\")>,\n",
       " <selenium.webdriver.remote.webelement.WebElement (session=\"70b32d4b74d412bd3c06ab0b444f155b\", element=\"f4c9bb09-9629-4b7d-a3d0-3b598d439ee0\")>,\n",
       " <selenium.webdriver.remote.webelement.WebElement (session=\"70b32d4b74d412bd3c06ab0b444f155b\", element=\"59970bd1-f141-40b0-a9c4-3e5c382b8f40\")>,\n",
       " <selenium.webdriver.remote.webelement.WebElement (session=\"70b32d4b74d412bd3c06ab0b444f155b\", element=\"b1b1e979-a611-4f42-a9d4-f1f98a5c7eda\")>,\n",
       " <selenium.webdriver.remote.webelement.WebElement (session=\"70b32d4b74d412bd3c06ab0b444f155b\", element=\"c81d713f-be75-4fe2-8aa9-271ced63cb68\")>,\n",
       " <selenium.webdriver.remote.webelement.WebElement (session=\"70b32d4b74d412bd3c06ab0b444f155b\", element=\"a60f1322-a492-4f54-9c40-bcc8b5e34e43\")>,\n",
       " <selenium.webdriver.remote.webelement.WebElement (session=\"70b32d4b74d412bd3c06ab0b444f155b\", element=\"9bfbe5d1-9088-4b16-89ec-15099915eaaa\")>]"
      ]
     },
     "execution_count": 24,
     "metadata": {},
     "output_type": "execute_result"
    }
   ],
   "source": [
    "# let's extract all web elements having job titles\n",
    "title_tags = driver.find_elements_by_xpath('//a[@class=\"title fw500 ellipsis\"]')\n",
    "len(title_tags)\n",
    "title_tags[0:10]"
   ]
  },
  {
   "cell_type": "code",
   "execution_count": 25,
   "id": "75af09f7",
   "metadata": {},
   "outputs": [
    {
     "data": {
      "text/plain": [
       "['Hiring For Data Analyst I(SQL & Python)',\n",
       " 'Senior Data Analyst',\n",
       " 'Senior Data Analyst II',\n",
       " 'Senior Data Analyst II',\n",
       " 'Hiring Data analyst with Pharma Background across India',\n",
       " 'Data Coordinator | Data Analyst | MS Excel | Typing | Bangalore',\n",
       " 'Data Analyst',\n",
       " 'Data Analyst',\n",
       " 'Consultant - Data Analyst',\n",
       " 'software developer & Testing / Business Analyst/Data Analyst/Python.']"
      ]
     },
     "execution_count": 25,
     "metadata": {},
     "output_type": "execute_result"
    }
   ],
   "source": [
    "# Now the text of job title is inside the web elements extracted above \n",
    "# so we will run a for loop to iterate over the tags and will extract the job title \n",
    "\n",
    "job_titles = []\n",
    "\n",
    "for i in title_tags:\n",
    "    job_titles.append(i.text)\n",
    "len(job_titles)\n",
    "job_titles[0:10]\n"
   ]
  },
  {
   "cell_type": "markdown",
   "id": "286a2b90",
   "metadata": {},
   "source": [
    "# Extracting company names"
   ]
  },
  {
   "cell_type": "code",
   "execution_count": 26,
   "id": "ef30b71f",
   "metadata": {},
   "outputs": [
    {
     "data": {
      "text/plain": [
       "[<selenium.webdriver.remote.webelement.WebElement (session=\"70b32d4b74d412bd3c06ab0b444f155b\", element=\"ef3bb349-cf44-41e7-b8d3-4cb9ef29c4cc\")>,\n",
       " <selenium.webdriver.remote.webelement.WebElement (session=\"70b32d4b74d412bd3c06ab0b444f155b\", element=\"1479d921-2ef3-4f58-b91a-416e3d51c60d\")>,\n",
       " <selenium.webdriver.remote.webelement.WebElement (session=\"70b32d4b74d412bd3c06ab0b444f155b\", element=\"9d1a0b9a-17b2-4c45-b218-2f2c28a2f40b\")>,\n",
       " <selenium.webdriver.remote.webelement.WebElement (session=\"70b32d4b74d412bd3c06ab0b444f155b\", element=\"765cc4ee-6299-4624-a735-1cbdf05da025\")>,\n",
       " <selenium.webdriver.remote.webelement.WebElement (session=\"70b32d4b74d412bd3c06ab0b444f155b\", element=\"1193bfbc-b4d9-4fa3-b9b5-e4c7130c83df\")>,\n",
       " <selenium.webdriver.remote.webelement.WebElement (session=\"70b32d4b74d412bd3c06ab0b444f155b\", element=\"f817fbaf-f793-4d72-90e6-f72d6060aa32\")>,\n",
       " <selenium.webdriver.remote.webelement.WebElement (session=\"70b32d4b74d412bd3c06ab0b444f155b\", element=\"d16ea441-3ac2-43f9-b01b-b62de944f6ed\")>,\n",
       " <selenium.webdriver.remote.webelement.WebElement (session=\"70b32d4b74d412bd3c06ab0b444f155b\", element=\"3c8080ae-ada7-4329-b973-daeede48940c\")>,\n",
       " <selenium.webdriver.remote.webelement.WebElement (session=\"70b32d4b74d412bd3c06ab0b444f155b\", element=\"57a7049b-ff6e-47a2-81f3-9837f3f9fb53\")>,\n",
       " <selenium.webdriver.remote.webelement.WebElement (session=\"70b32d4b74d412bd3c06ab0b444f155b\", element=\"0f58eba3-d11f-4a71-8f1d-a086b4cde070\")>]"
      ]
     },
     "execution_count": 26,
     "metadata": {},
     "output_type": "execute_result"
    }
   ],
   "source": [
    "# Let's extract all web elements having company names \n",
    "\n",
    "company_tags = driver.find_elements_by_xpath('//a[@class=\"subTitle ellipsis fleft\"]')\n",
    "company_tags[0:10]"
   ]
  },
  {
   "cell_type": "code",
   "execution_count": 27,
   "id": "b3fc59aa",
   "metadata": {},
   "outputs": [
    {
     "data": {
      "text/plain": [
       "['Clario India Pvt Ltd',\n",
       " 'Flipkart',\n",
       " 'Flipkart',\n",
       " 'Flipkart',\n",
       " 'HCL',\n",
       " 'Inspiration Manpower Consultancy Pvt. Ltd.',\n",
       " 'Flipkart',\n",
       " 'Flipkart',\n",
       " 'Flipkart',\n",
       " 'SECRET TECHNOLOGIES INDIA VMS GROUP']"
      ]
     },
     "execution_count": 27,
     "metadata": {},
     "output_type": "execute_result"
    }
   ],
   "source": [
    "# so we will run a for loop to iterate over the tags and extract the company names\n",
    "\n",
    "company_names = []\n",
    "\n",
    "for i in company_tags:\n",
    "    company_names.append(i.text)\n",
    "company_names[0:10]"
   ]
  },
  {
   "cell_type": "markdown",
   "id": "8078be69",
   "metadata": {},
   "source": [
    "# Extracting experience"
   ]
  },
  {
   "cell_type": "code",
   "execution_count": 28,
   "id": "cde182bd",
   "metadata": {},
   "outputs": [
    {
     "data": {
      "text/plain": [
       "[<selenium.webdriver.remote.webelement.WebElement (session=\"70b32d4b74d412bd3c06ab0b444f155b\", element=\"4846b55d-c490-466a-b3a5-e2d1356ec3b9\")>,\n",
       " <selenium.webdriver.remote.webelement.WebElement (session=\"70b32d4b74d412bd3c06ab0b444f155b\", element=\"6f535ef8-424c-44f5-970f-6787ae3dd686\")>,\n",
       " <selenium.webdriver.remote.webelement.WebElement (session=\"70b32d4b74d412bd3c06ab0b444f155b\", element=\"bf1b7740-60ca-4e4f-80ea-991f90b7523a\")>,\n",
       " <selenium.webdriver.remote.webelement.WebElement (session=\"70b32d4b74d412bd3c06ab0b444f155b\", element=\"85293f7a-2735-4cb0-aaec-45dbb5fdaf2b\")>,\n",
       " <selenium.webdriver.remote.webelement.WebElement (session=\"70b32d4b74d412bd3c06ab0b444f155b\", element=\"14bf4cae-c838-4cec-9f5c-8791c4f600f0\")>,\n",
       " <selenium.webdriver.remote.webelement.WebElement (session=\"70b32d4b74d412bd3c06ab0b444f155b\", element=\"e56ddbcf-acbd-441e-8504-b84bf6dcfc62\")>,\n",
       " <selenium.webdriver.remote.webelement.WebElement (session=\"70b32d4b74d412bd3c06ab0b444f155b\", element=\"5bda273d-ec7c-42d1-bc33-e1c41012e6bb\")>,\n",
       " <selenium.webdriver.remote.webelement.WebElement (session=\"70b32d4b74d412bd3c06ab0b444f155b\", element=\"6ff86aa6-3e74-4ea6-8a9c-f81fd427d25a\")>,\n",
       " <selenium.webdriver.remote.webelement.WebElement (session=\"70b32d4b74d412bd3c06ab0b444f155b\", element=\"9420d30c-b240-4b25-834c-c3260b0a884b\")>,\n",
       " <selenium.webdriver.remote.webelement.WebElement (session=\"70b32d4b74d412bd3c06ab0b444f155b\", element=\"da35891a-b21c-41ac-a8b1-bf41cdaf999f\")>]"
      ]
     },
     "execution_count": 28,
     "metadata": {},
     "output_type": "execute_result"
    }
   ],
   "source": [
    "# let's extract all web elements having experience using parent tag\n",
    "\n",
    "exp_tags = driver.find_elements_by_xpath('//li[@class=\"fleft grey-text br2 placeHolderLi experience\"]')\n",
    "len(exp_tags)\n",
    "exp_tags[0:10]"
   ]
  },
  {
   "cell_type": "code",
   "execution_count": 29,
   "id": "90d6e9c3",
   "metadata": {},
   "outputs": [
    {
     "data": {
      "text/plain": [
       "['0-2 Yrs',\n",
       " '3-8 Yrs',\n",
       " '2-4 Yrs',\n",
       " '2-4 Yrs',\n",
       " '6-11 Yrs',\n",
       " '1-2 Yrs',\n",
       " '1-2 Yrs',\n",
       " '1-3 Yrs',\n",
       " '0-4 Yrs',\n",
       " '5-7 Yrs']"
      ]
     },
     "execution_count": 29,
     "metadata": {},
     "output_type": "execute_result"
    }
   ],
   "source": [
    "experience = []\n",
    "\n",
    "for i in exp_tags:\n",
    "    experience.append(i.text)\n",
    "experience[0:10]"
   ]
  },
  {
   "cell_type": "markdown",
   "id": "c2cccf52",
   "metadata": {},
   "source": [
    "# Extracting location"
   ]
  },
  {
   "cell_type": "code",
   "execution_count": 30,
   "id": "3f75d957",
   "metadata": {},
   "outputs": [
    {
     "data": {
      "text/plain": [
       "20"
      ]
     },
     "execution_count": 30,
     "metadata": {},
     "output_type": "execute_result"
    }
   ],
   "source": [
    "locn_tags = driver.find_elements_by_xpath('//li[@class=\"fleft grey-text br2 placeHolderLi location\"]')\n",
    "len(locn_tags)"
   ]
  },
  {
   "cell_type": "code",
   "execution_count": 31,
   "id": "ab592cbb",
   "metadata": {},
   "outputs": [
    {
     "data": {
      "text/plain": [
       "['Bangalore/Bengaluru',\n",
       " 'Bangalore/Bengaluru',\n",
       " 'Bangalore/Bengaluru',\n",
       " 'Bangalore/Bengaluru',\n",
       " 'Hyderabad/Secunderabad, Chennai, Bangalore/Bengaluru\\n(WFH during Covid)',\n",
       " 'Bangalore/Bengaluru(Sadashiva Nagar)',\n",
       " 'Bangalore/Bengaluru',\n",
       " 'Bangalore/Bengaluru',\n",
       " 'Bangalore/Bengaluru',\n",
       " 'Pune, Bangalore/Bengaluru(Shivaji Nagar), Mumbai (All Areas)\\n(WFH during Covid)']"
      ]
     },
     "execution_count": 31,
     "metadata": {},
     "output_type": "execute_result"
    }
   ],
   "source": [
    "location = []\n",
    "\n",
    "for i in locn_tags:\n",
    "    location.append(i.text)\n",
    "location[0:10]"
   ]
  },
  {
   "cell_type": "markdown",
   "id": "4f8ba221",
   "metadata": {},
   "source": [
    "# Extracting salary"
   ]
  },
  {
   "cell_type": "code",
   "execution_count": 32,
   "id": "7b01a4f4",
   "metadata": {},
   "outputs": [
    {
     "data": {
      "text/plain": [
       "20"
      ]
     },
     "execution_count": 32,
     "metadata": {},
     "output_type": "execute_result"
    }
   ],
   "source": [
    "slry_tags = driver.find_elements_by_xpath('//li[@class=\"fleft grey-text br2 placeHolderLi salary\"]')\n",
    "len(slry_tags)"
   ]
  },
  {
   "cell_type": "code",
   "execution_count": 33,
   "id": "4120e4d2",
   "metadata": {},
   "outputs": [
    {
     "data": {
      "text/plain": [
       "['6,00,000 - 8,00,000 PA.',\n",
       " 'Not disclosed',\n",
       " 'Not disclosed',\n",
       " 'Not disclosed',\n",
       " '15,00,000 - 20,00,000 PA.',\n",
       " '1,00,000 - 2,50,000 PA.',\n",
       " 'Not disclosed',\n",
       " 'Not disclosed',\n",
       " 'Not disclosed',\n",
       " '2,00,000 - 6,50,000 PA.']"
      ]
     },
     "execution_count": 33,
     "metadata": {},
     "output_type": "execute_result"
    }
   ],
   "source": [
    "salary = []\n",
    "\n",
    "for i in slry_tags:\n",
    "    salary.append(i.text)\n",
    "salary[0:10]"
   ]
  },
  {
   "cell_type": "code",
   "execution_count": 36,
   "id": "63c94e45",
   "metadata": {},
   "outputs": [
    {
     "data": {
      "text/plain": [
       "(20, 20, 19, 20, 20)"
      ]
     },
     "execution_count": 36,
     "metadata": {},
     "output_type": "execute_result"
    }
   ],
   "source": [
    "len(job_titles), len(company_names), len(experience), len(location), len(salary)"
   ]
  },
  {
   "cell_type": "markdown",
   "id": "93967f75",
   "metadata": {},
   "source": [
    "# Finally create a dataframe of the scraped data"
   ]
  },
  {
   "cell_type": "code",
   "execution_count": 37,
   "id": "f84563d2",
   "metadata": {},
   "outputs": [
    {
     "data": {
      "text/html": [
       "<div>\n",
       "<style scoped>\n",
       "    .dataframe tbody tr th:only-of-type {\n",
       "        vertical-align: middle;\n",
       "    }\n",
       "\n",
       "    .dataframe tbody tr th {\n",
       "        vertical-align: top;\n",
       "    }\n",
       "\n",
       "    .dataframe thead th {\n",
       "        text-align: right;\n",
       "    }\n",
       "</style>\n",
       "<table border=\"1\" class=\"dataframe\">\n",
       "  <thead>\n",
       "    <tr style=\"text-align: right;\">\n",
       "      <th></th>\n",
       "      <th>Job Title</th>\n",
       "      <th>Company</th>\n",
       "      <th>Salary</th>\n",
       "      <th>Location</th>\n",
       "    </tr>\n",
       "  </thead>\n",
       "  <tbody>\n",
       "    <tr>\n",
       "      <th>0</th>\n",
       "      <td>Hiring For Data Analyst I(SQL &amp; Python)</td>\n",
       "      <td>Clario India Pvt Ltd</td>\n",
       "      <td>6,00,000 - 8,00,000 PA.</td>\n",
       "      <td>Bangalore/Bengaluru</td>\n",
       "    </tr>\n",
       "    <tr>\n",
       "      <th>1</th>\n",
       "      <td>Senior Data Analyst</td>\n",
       "      <td>Flipkart</td>\n",
       "      <td>Not disclosed</td>\n",
       "      <td>Bangalore/Bengaluru</td>\n",
       "    </tr>\n",
       "    <tr>\n",
       "      <th>2</th>\n",
       "      <td>Senior Data Analyst II</td>\n",
       "      <td>Flipkart</td>\n",
       "      <td>Not disclosed</td>\n",
       "      <td>Bangalore/Bengaluru</td>\n",
       "    </tr>\n",
       "    <tr>\n",
       "      <th>3</th>\n",
       "      <td>Senior Data Analyst II</td>\n",
       "      <td>Flipkart</td>\n",
       "      <td>Not disclosed</td>\n",
       "      <td>Bangalore/Bengaluru</td>\n",
       "    </tr>\n",
       "    <tr>\n",
       "      <th>4</th>\n",
       "      <td>Hiring Data analyst with Pharma Background acr...</td>\n",
       "      <td>HCL</td>\n",
       "      <td>15,00,000 - 20,00,000 PA.</td>\n",
       "      <td>Hyderabad/Secunderabad, Chennai, Bangalore/Ben...</td>\n",
       "    </tr>\n",
       "    <tr>\n",
       "      <th>5</th>\n",
       "      <td>Data Coordinator | Data Analyst | MS Excel | T...</td>\n",
       "      <td>Inspiration Manpower Consultancy Pvt. Ltd.</td>\n",
       "      <td>1,00,000 - 2,50,000 PA.</td>\n",
       "      <td>Bangalore/Bengaluru(Sadashiva Nagar)</td>\n",
       "    </tr>\n",
       "    <tr>\n",
       "      <th>6</th>\n",
       "      <td>Data Analyst</td>\n",
       "      <td>Flipkart</td>\n",
       "      <td>Not disclosed</td>\n",
       "      <td>Bangalore/Bengaluru</td>\n",
       "    </tr>\n",
       "    <tr>\n",
       "      <th>7</th>\n",
       "      <td>Data Analyst</td>\n",
       "      <td>Flipkart</td>\n",
       "      <td>Not disclosed</td>\n",
       "      <td>Bangalore/Bengaluru</td>\n",
       "    </tr>\n",
       "    <tr>\n",
       "      <th>8</th>\n",
       "      <td>Consultant - Data Analyst</td>\n",
       "      <td>Flipkart</td>\n",
       "      <td>Not disclosed</td>\n",
       "      <td>Bangalore/Bengaluru</td>\n",
       "    </tr>\n",
       "    <tr>\n",
       "      <th>9</th>\n",
       "      <td>software developer &amp; Testing / Business Analys...</td>\n",
       "      <td>SECRET TECHNOLOGIES INDIA VMS GROUP</td>\n",
       "      <td>2,00,000 - 6,50,000 PA.</td>\n",
       "      <td>Pune, Bangalore/Bengaluru(Shivaji Nagar), Mumb...</td>\n",
       "    </tr>\n",
       "    <tr>\n",
       "      <th>10</th>\n",
       "      <td>Staff Business Data Analyst - FDP</td>\n",
       "      <td>Intuit Inc.</td>\n",
       "      <td>Not disclosed</td>\n",
       "      <td>Bangalore/Bengaluru</td>\n",
       "    </tr>\n",
       "    <tr>\n",
       "      <th>11</th>\n",
       "      <td>Data Analyst</td>\n",
       "      <td>Gojek</td>\n",
       "      <td>Not disclosed</td>\n",
       "      <td>Bangalore/Bengaluru</td>\n",
       "    </tr>\n",
       "    <tr>\n",
       "      <th>12</th>\n",
       "      <td>Data Analyst - IIM/ISB/MDI/FMS/SP Jain</td>\n",
       "      <td>K12 Techno Services Pvt Ltd</td>\n",
       "      <td>Not disclosed</td>\n",
       "      <td>Bangalore/Bengaluru</td>\n",
       "    </tr>\n",
       "    <tr>\n",
       "      <th>13</th>\n",
       "      <td>Senior Data Analyst</td>\n",
       "      <td>Capco</td>\n",
       "      <td>Not disclosed</td>\n",
       "      <td>Bangalore/Bengaluru</td>\n",
       "    </tr>\n",
       "    <tr>\n",
       "      <th>14</th>\n",
       "      <td>Senior Data Analyst</td>\n",
       "      <td>Mobile Premier League</td>\n",
       "      <td>Not disclosed</td>\n",
       "      <td>Bangalore/Bengaluru</td>\n",
       "    </tr>\n",
       "    <tr>\n",
       "      <th>15</th>\n",
       "      <td>Senior Data Analyst</td>\n",
       "      <td>Flipkart</td>\n",
       "      <td>Not disclosed</td>\n",
       "      <td>Bangalore/Bengaluru</td>\n",
       "    </tr>\n",
       "    <tr>\n",
       "      <th>16</th>\n",
       "      <td>Python Data Analyst (Full Time Remote/WFH)</td>\n",
       "      <td>Cimpress</td>\n",
       "      <td>Not disclosed</td>\n",
       "      <td>Remote</td>\n",
       "    </tr>\n",
       "    <tr>\n",
       "      <th>17</th>\n",
       "      <td>Hiring For Data Analyst!!!</td>\n",
       "      <td>Ignitho</td>\n",
       "      <td>Not disclosed</td>\n",
       "      <td>Chennai, Bangalore/Bengaluru\\n(WFH during Covid)</td>\n",
       "    </tr>\n",
       "    <tr>\n",
       "      <th>18</th>\n",
       "      <td>Data Analyst</td>\n",
       "      <td>SunEdison</td>\n",
       "      <td>Not disclosed</td>\n",
       "      <td>Bangalore/Bengaluru, Mumbai (All Areas)</td>\n",
       "    </tr>\n",
       "    <tr>\n",
       "      <th>19</th>\n",
       "      <td>Looking For Data Analyst</td>\n",
       "      <td>Trellance</td>\n",
       "      <td>2,00,000 - 7,00,000 PA.</td>\n",
       "      <td>Ahmedabad, Bangalore/Bengaluru</td>\n",
       "    </tr>\n",
       "  </tbody>\n",
       "</table>\n",
       "</div>"
      ],
      "text/plain": [
       "                                            Job Title  \\\n",
       "0             Hiring For Data Analyst I(SQL & Python)   \n",
       "1                                 Senior Data Analyst   \n",
       "2                              Senior Data Analyst II   \n",
       "3                              Senior Data Analyst II   \n",
       "4   Hiring Data analyst with Pharma Background acr...   \n",
       "5   Data Coordinator | Data Analyst | MS Excel | T...   \n",
       "6                                        Data Analyst   \n",
       "7                                        Data Analyst   \n",
       "8                           Consultant - Data Analyst   \n",
       "9   software developer & Testing / Business Analys...   \n",
       "10                  Staff Business Data Analyst - FDP   \n",
       "11                                       Data Analyst   \n",
       "12             Data Analyst - IIM/ISB/MDI/FMS/SP Jain   \n",
       "13                                Senior Data Analyst   \n",
       "14                                Senior Data Analyst   \n",
       "15                                Senior Data Analyst   \n",
       "16         Python Data Analyst (Full Time Remote/WFH)   \n",
       "17                         Hiring For Data Analyst!!!   \n",
       "18                                       Data Analyst   \n",
       "19                           Looking For Data Analyst   \n",
       "\n",
       "                                       Company                     Salary  \\\n",
       "0                         Clario India Pvt Ltd    6,00,000 - 8,00,000 PA.   \n",
       "1                                     Flipkart              Not disclosed   \n",
       "2                                     Flipkart              Not disclosed   \n",
       "3                                     Flipkart              Not disclosed   \n",
       "4                                          HCL  15,00,000 - 20,00,000 PA.   \n",
       "5   Inspiration Manpower Consultancy Pvt. Ltd.    1,00,000 - 2,50,000 PA.   \n",
       "6                                     Flipkart              Not disclosed   \n",
       "7                                     Flipkart              Not disclosed   \n",
       "8                                     Flipkart              Not disclosed   \n",
       "9          SECRET TECHNOLOGIES INDIA VMS GROUP    2,00,000 - 6,50,000 PA.   \n",
       "10                                 Intuit Inc.              Not disclosed   \n",
       "11                                       Gojek              Not disclosed   \n",
       "12                 K12 Techno Services Pvt Ltd              Not disclosed   \n",
       "13                                       Capco              Not disclosed   \n",
       "14                       Mobile Premier League              Not disclosed   \n",
       "15                                    Flipkart              Not disclosed   \n",
       "16                                    Cimpress              Not disclosed   \n",
       "17                                     Ignitho              Not disclosed   \n",
       "18                                   SunEdison              Not disclosed   \n",
       "19                                   Trellance    2,00,000 - 7,00,000 PA.   \n",
       "\n",
       "                                             Location  \n",
       "0                                 Bangalore/Bengaluru  \n",
       "1                                 Bangalore/Bengaluru  \n",
       "2                                 Bangalore/Bengaluru  \n",
       "3                                 Bangalore/Bengaluru  \n",
       "4   Hyderabad/Secunderabad, Chennai, Bangalore/Ben...  \n",
       "5                Bangalore/Bengaluru(Sadashiva Nagar)  \n",
       "6                                 Bangalore/Bengaluru  \n",
       "7                                 Bangalore/Bengaluru  \n",
       "8                                 Bangalore/Bengaluru  \n",
       "9   Pune, Bangalore/Bengaluru(Shivaji Nagar), Mumb...  \n",
       "10                                Bangalore/Bengaluru  \n",
       "11                                Bangalore/Bengaluru  \n",
       "12                                Bangalore/Bengaluru  \n",
       "13                                Bangalore/Bengaluru  \n",
       "14                                Bangalore/Bengaluru  \n",
       "15                                Bangalore/Bengaluru  \n",
       "16                                             Remote  \n",
       "17   Chennai, Bangalore/Bengaluru\\n(WFH during Covid)  \n",
       "18            Bangalore/Bengaluru, Mumbai (All Areas)  \n",
       "19                     Ahmedabad, Bangalore/Bengaluru  "
      ]
     },
     "execution_count": 37,
     "metadata": {},
     "output_type": "execute_result"
    }
   ],
   "source": [
    "jobs = pd.DataFrame()\n",
    "jobs['Job Title'] = job_titles\n",
    "jobs['Company'] =company_names\n",
    "jobs['Salary'] = salary\n",
    "jobs['Location'] = location\n",
    "jobs"
   ]
  },
  {
   "cell_type": "code",
   "execution_count": 38,
   "id": "ff078e4a",
   "metadata": {},
   "outputs": [
    {
     "data": {
      "text/html": [
       "<div>\n",
       "<style scoped>\n",
       "    .dataframe tbody tr th:only-of-type {\n",
       "        vertical-align: middle;\n",
       "    }\n",
       "\n",
       "    .dataframe tbody tr th {\n",
       "        vertical-align: top;\n",
       "    }\n",
       "\n",
       "    .dataframe thead th {\n",
       "        text-align: right;\n",
       "    }\n",
       "</style>\n",
       "<table border=\"1\" class=\"dataframe\">\n",
       "  <thead>\n",
       "    <tr style=\"text-align: right;\">\n",
       "      <th></th>\n",
       "      <th>Job Title</th>\n",
       "      <th>Company</th>\n",
       "      <th>Salary</th>\n",
       "      <th>Location</th>\n",
       "    </tr>\n",
       "  </thead>\n",
       "  <tbody>\n",
       "    <tr>\n",
       "      <th>0</th>\n",
       "      <td>Hiring For Data Analyst I(SQL &amp; Python)</td>\n",
       "      <td>Clario India Pvt Ltd</td>\n",
       "      <td>6,00,000 - 8,00,000 PA.</td>\n",
       "      <td>Bangalore/Bengaluru</td>\n",
       "    </tr>\n",
       "    <tr>\n",
       "      <th>1</th>\n",
       "      <td>Senior Data Analyst</td>\n",
       "      <td>Flipkart</td>\n",
       "      <td>Not disclosed</td>\n",
       "      <td>Bangalore/Bengaluru</td>\n",
       "    </tr>\n",
       "    <tr>\n",
       "      <th>2</th>\n",
       "      <td>Senior Data Analyst II</td>\n",
       "      <td>Flipkart</td>\n",
       "      <td>Not disclosed</td>\n",
       "      <td>Bangalore/Bengaluru</td>\n",
       "    </tr>\n",
       "    <tr>\n",
       "      <th>3</th>\n",
       "      <td>Senior Data Analyst II</td>\n",
       "      <td>Flipkart</td>\n",
       "      <td>Not disclosed</td>\n",
       "      <td>Bangalore/Bengaluru</td>\n",
       "    </tr>\n",
       "    <tr>\n",
       "      <th>4</th>\n",
       "      <td>Hiring Data analyst with Pharma Background acr...</td>\n",
       "      <td>HCL</td>\n",
       "      <td>15,00,000 - 20,00,000 PA.</td>\n",
       "      <td>Hyderabad/Secunderabad, Chennai, Bangalore/Ben...</td>\n",
       "    </tr>\n",
       "    <tr>\n",
       "      <th>5</th>\n",
       "      <td>Data Coordinator | Data Analyst | MS Excel | T...</td>\n",
       "      <td>Inspiration Manpower Consultancy Pvt. Ltd.</td>\n",
       "      <td>1,00,000 - 2,50,000 PA.</td>\n",
       "      <td>Bangalore/Bengaluru(Sadashiva Nagar)</td>\n",
       "    </tr>\n",
       "    <tr>\n",
       "      <th>6</th>\n",
       "      <td>Data Analyst</td>\n",
       "      <td>Flipkart</td>\n",
       "      <td>Not disclosed</td>\n",
       "      <td>Bangalore/Bengaluru</td>\n",
       "    </tr>\n",
       "    <tr>\n",
       "      <th>7</th>\n",
       "      <td>Data Analyst</td>\n",
       "      <td>Flipkart</td>\n",
       "      <td>Not disclosed</td>\n",
       "      <td>Bangalore/Bengaluru</td>\n",
       "    </tr>\n",
       "    <tr>\n",
       "      <th>8</th>\n",
       "      <td>Consultant - Data Analyst</td>\n",
       "      <td>Flipkart</td>\n",
       "      <td>Not disclosed</td>\n",
       "      <td>Bangalore/Bengaluru</td>\n",
       "    </tr>\n",
       "    <tr>\n",
       "      <th>9</th>\n",
       "      <td>software developer &amp; Testing / Business Analys...</td>\n",
       "      <td>SECRET TECHNOLOGIES INDIA VMS GROUP</td>\n",
       "      <td>2,00,000 - 6,50,000 PA.</td>\n",
       "      <td>Pune, Bangalore/Bengaluru(Shivaji Nagar), Mumb...</td>\n",
       "    </tr>\n",
       "  </tbody>\n",
       "</table>\n",
       "</div>"
      ],
      "text/plain": [
       "                                           Job Title  \\\n",
       "0            Hiring For Data Analyst I(SQL & Python)   \n",
       "1                                Senior Data Analyst   \n",
       "2                             Senior Data Analyst II   \n",
       "3                             Senior Data Analyst II   \n",
       "4  Hiring Data analyst with Pharma Background acr...   \n",
       "5  Data Coordinator | Data Analyst | MS Excel | T...   \n",
       "6                                       Data Analyst   \n",
       "7                                       Data Analyst   \n",
       "8                          Consultant - Data Analyst   \n",
       "9  software developer & Testing / Business Analys...   \n",
       "\n",
       "                                      Company                     Salary  \\\n",
       "0                        Clario India Pvt Ltd    6,00,000 - 8,00,000 PA.   \n",
       "1                                    Flipkart              Not disclosed   \n",
       "2                                    Flipkart              Not disclosed   \n",
       "3                                    Flipkart              Not disclosed   \n",
       "4                                         HCL  15,00,000 - 20,00,000 PA.   \n",
       "5  Inspiration Manpower Consultancy Pvt. Ltd.    1,00,000 - 2,50,000 PA.   \n",
       "6                                    Flipkart              Not disclosed   \n",
       "7                                    Flipkart              Not disclosed   \n",
       "8                                    Flipkart              Not disclosed   \n",
       "9         SECRET TECHNOLOGIES INDIA VMS GROUP    2,00,000 - 6,50,000 PA.   \n",
       "\n",
       "                                            Location  \n",
       "0                                Bangalore/Bengaluru  \n",
       "1                                Bangalore/Bengaluru  \n",
       "2                                Bangalore/Bengaluru  \n",
       "3                                Bangalore/Bengaluru  \n",
       "4  Hyderabad/Secunderabad, Chennai, Bangalore/Ben...  \n",
       "5               Bangalore/Bengaluru(Sadashiva Nagar)  \n",
       "6                                Bangalore/Bengaluru  \n",
       "7                                Bangalore/Bengaluru  \n",
       "8                                Bangalore/Bengaluru  \n",
       "9  Pune, Bangalore/Bengaluru(Shivaji Nagar), Mumb...  "
      ]
     },
     "execution_count": 38,
     "metadata": {},
     "output_type": "execute_result"
    }
   ],
   "source": [
    "jobs.head(10)"
   ]
  },
  {
   "cell_type": "code",
   "execution_count": null,
   "id": "58fe0486",
   "metadata": {},
   "outputs": [],
   "source": []
  },
  {
   "cell_type": "markdown",
   "id": "e56de858",
   "metadata": {},
   "source": [
    "# Q2: Write a python program to scrape data for “Data Scientist” Job position in “Bangalore” location. You have to scrape the job-title, job-location, company_name. You have to scrape first 10 jobs data. This task will be done in following steps:"
   ]
  },
  {
   "cell_type": "raw",
   "id": "ee27f2b3",
   "metadata": {},
   "source": [
    "1. First get the webpage https://www.naukri.com/\n",
    "2. Enter “Data Scientist” in “Skill, Designations, Companies” field and enter “Bangalore” in “enter the\n",
    "location” field.\n",
    "3. Then click the search button.\n",
    "4. Then scrape the data for the first 10 jobs results you get.\n",
    "5. Finally create a dataframe of the scraped data."
   ]
  },
  {
   "cell_type": "raw",
   "id": "5bcfa3a6",
   "metadata": {},
   "source": [
    "# get the webpage"
   ]
  },
  {
   "cell_type": "code",
   "execution_count": 41,
   "id": "8e6401d5",
   "metadata": {},
   "outputs": [],
   "source": [
    "url = 'https://www.naukri.com/'\n",
    "driver.get(url)"
   ]
  },
  {
   "cell_type": "markdown",
   "id": "527a3a6d",
   "metadata": {},
   "source": [
    "# Enter “Data Scientist” in “Skill, Designations, Companies” field and enter “Bangalore” in “enter the location” field."
   ]
  },
  {
   "cell_type": "code",
   "execution_count": 42,
   "id": "7556c20d",
   "metadata": {},
   "outputs": [
    {
     "data": {
      "text/plain": [
       "<selenium.webdriver.remote.webelement.WebElement (session=\"70b32d4b74d412bd3c06ab0b444f155b\", element=\"6eae527c-89e5-455f-b0e1-5fe0176db170\")>"
      ]
     },
     "execution_count": 42,
     "metadata": {},
     "output_type": "execute_result"
    }
   ],
   "source": [
    "search_job = driver.find_element_by_class_name(\"suggestor-input \")\n",
    "search_job"
   ]
  },
  {
   "cell_type": "code",
   "execution_count": 43,
   "id": "a594a2ea",
   "metadata": {},
   "outputs": [],
   "source": [
    "search_job.send_keys(\"Data Scientist\")"
   ]
  },
  {
   "cell_type": "code",
   "execution_count": 44,
   "id": "a1f76a06",
   "metadata": {},
   "outputs": [
    {
     "data": {
      "text/plain": [
       "<selenium.webdriver.remote.webelement.WebElement (session=\"70b32d4b74d412bd3c06ab0b444f155b\", element=\"bb768100-9e72-4fca-ba85-33ad42356f71\")>"
      ]
     },
     "execution_count": 44,
     "metadata": {},
     "output_type": "execute_result"
    }
   ],
   "source": [
    "search_locn = driver.find_element_by_xpath('/html/body/div/div[2]/div[3]/div/div/div[3]/div/div/div/input')\n",
    "search_locn"
   ]
  },
  {
   "cell_type": "code",
   "execution_count": 45,
   "id": "2f7d5957",
   "metadata": {},
   "outputs": [],
   "source": [
    "search_locn.send_keys(\"Bangalore\")"
   ]
  },
  {
   "cell_type": "markdown",
   "id": "225c72fd",
   "metadata": {},
   "source": [
    "# click the search button."
   ]
  },
  {
   "cell_type": "code",
   "execution_count": 48,
   "id": "e67f9ffb",
   "metadata": {},
   "outputs": [
    {
     "data": {
      "text/plain": [
       "<selenium.webdriver.remote.webelement.WebElement (session=\"70b32d4b74d412bd3c06ab0b444f155b\", element=\"b4884150-bae4-48a4-8515-5175dab85de8\")>"
      ]
     },
     "execution_count": 48,
     "metadata": {},
     "output_type": "execute_result"
    }
   ],
   "source": [
    "search_btn = driver.find_element_by_xpath('/html/body/div/div[2]/div[3]/div/div/div[6]')\n",
    "search_btn"
   ]
  },
  {
   "cell_type": "code",
   "execution_count": 49,
   "id": "70f3cd2f",
   "metadata": {},
   "outputs": [],
   "source": [
    "search_btn.click()"
   ]
  },
  {
   "cell_type": "markdown",
   "id": "25ed006b",
   "metadata": {},
   "source": [
    "# scrape the data for the first 10 jobs results"
   ]
  },
  {
   "cell_type": "code",
   "execution_count": 50,
   "id": "02e95070",
   "metadata": {},
   "outputs": [
    {
     "data": {
      "text/plain": [
       "[<selenium.webdriver.remote.webelement.WebElement (session=\"70b32d4b74d412bd3c06ab0b444f155b\", element=\"d99c29b1-210f-4a1e-a3da-2ddb9ab4fbd0\")>,\n",
       " <selenium.webdriver.remote.webelement.WebElement (session=\"70b32d4b74d412bd3c06ab0b444f155b\", element=\"d9eb1b75-c021-4e9a-aebb-b781d47f009b\")>,\n",
       " <selenium.webdriver.remote.webelement.WebElement (session=\"70b32d4b74d412bd3c06ab0b444f155b\", element=\"5de54df3-acae-4267-b415-b83f04c74d28\")>,\n",
       " <selenium.webdriver.remote.webelement.WebElement (session=\"70b32d4b74d412bd3c06ab0b444f155b\", element=\"ff9c6fc5-cc2a-4da3-b6d2-448dc814a30a\")>,\n",
       " <selenium.webdriver.remote.webelement.WebElement (session=\"70b32d4b74d412bd3c06ab0b444f155b\", element=\"4151770b-93b7-49cd-8a59-c3651272b999\")>,\n",
       " <selenium.webdriver.remote.webelement.WebElement (session=\"70b32d4b74d412bd3c06ab0b444f155b\", element=\"322e048c-1011-4aaf-a495-8053f46cf899\")>,\n",
       " <selenium.webdriver.remote.webelement.WebElement (session=\"70b32d4b74d412bd3c06ab0b444f155b\", element=\"25291317-a708-45c4-92b7-c53b2a49f085\")>,\n",
       " <selenium.webdriver.remote.webelement.WebElement (session=\"70b32d4b74d412bd3c06ab0b444f155b\", element=\"811a5db0-12a7-47e7-80a4-558add2f8942\")>,\n",
       " <selenium.webdriver.remote.webelement.WebElement (session=\"70b32d4b74d412bd3c06ab0b444f155b\", element=\"80b52101-684f-4448-a913-3dfe6fdfcdf9\")>,\n",
       " <selenium.webdriver.remote.webelement.WebElement (session=\"70b32d4b74d412bd3c06ab0b444f155b\", element=\"3724c202-26a8-4884-8ec0-e788078e3958\")>]"
      ]
     },
     "execution_count": 50,
     "metadata": {},
     "output_type": "execute_result"
    }
   ],
   "source": [
    "# let's extract all web elements having job titles\n",
    "title_tags = driver.find_elements_by_xpath('//a[@class=\"title fw500 ellipsis\"]')\n",
    "len(title_tags)\n",
    "title_tags[0:10]"
   ]
  },
  {
   "cell_type": "code",
   "execution_count": 51,
   "id": "3c87bb73",
   "metadata": {},
   "outputs": [
    {
     "data": {
      "text/plain": [
       "['Principal Data Scientist',\n",
       " 'Data Scientist',\n",
       " 'Data Scientist',\n",
       " 'Need Data scientists and data engineers - WFH- less than 30days notice',\n",
       " 'Data Scientist',\n",
       " 'Senior/ Lead Data Scientist',\n",
       " 'Data Scientist / Analyst',\n",
       " 'Forecasting Analyst/ Data Scientist (US Client)',\n",
       " 'Hiring Data Scientist - Analytics',\n",
       " 'Computer Vision Python Data Scientist']"
      ]
     },
     "execution_count": 51,
     "metadata": {},
     "output_type": "execute_result"
    }
   ],
   "source": [
    "job_titles = []\n",
    "\n",
    "for i in title_tags:\n",
    "    job_titles.append(i.text)\n",
    "len(job_titles)\n",
    "job_titles[0:10]"
   ]
  },
  {
   "cell_type": "code",
   "execution_count": 52,
   "id": "921cf5c0",
   "metadata": {},
   "outputs": [
    {
     "data": {
      "text/plain": [
       "[<selenium.webdriver.remote.webelement.WebElement (session=\"70b32d4b74d412bd3c06ab0b444f155b\", element=\"240af8ef-faf6-4888-b739-5c506b3deafa\")>,\n",
       " <selenium.webdriver.remote.webelement.WebElement (session=\"70b32d4b74d412bd3c06ab0b444f155b\", element=\"e1d776c5-9d66-4fc6-ad16-a6f948283318\")>,\n",
       " <selenium.webdriver.remote.webelement.WebElement (session=\"70b32d4b74d412bd3c06ab0b444f155b\", element=\"72571e77-5492-4f3c-aee3-a64c5b456812\")>,\n",
       " <selenium.webdriver.remote.webelement.WebElement (session=\"70b32d4b74d412bd3c06ab0b444f155b\", element=\"afcabc18-8066-4ed6-bed0-a89586c9c316\")>,\n",
       " <selenium.webdriver.remote.webelement.WebElement (session=\"70b32d4b74d412bd3c06ab0b444f155b\", element=\"382ca5ad-90cc-49a8-820e-9d89586a4e86\")>,\n",
       " <selenium.webdriver.remote.webelement.WebElement (session=\"70b32d4b74d412bd3c06ab0b444f155b\", element=\"7eb08115-9d57-40d9-b50a-91a4045b83f8\")>,\n",
       " <selenium.webdriver.remote.webelement.WebElement (session=\"70b32d4b74d412bd3c06ab0b444f155b\", element=\"41bfe861-af6f-488c-8513-a5ab2411ab9e\")>,\n",
       " <selenium.webdriver.remote.webelement.WebElement (session=\"70b32d4b74d412bd3c06ab0b444f155b\", element=\"238712ba-0976-4158-9c75-6d6845250738\")>,\n",
       " <selenium.webdriver.remote.webelement.WebElement (session=\"70b32d4b74d412bd3c06ab0b444f155b\", element=\"18776c2c-3aba-4d9b-8ddf-2c33c8916ea9\")>,\n",
       " <selenium.webdriver.remote.webelement.WebElement (session=\"70b32d4b74d412bd3c06ab0b444f155b\", element=\"3c219375-e50b-4810-bb42-86a66dfe5285\")>]"
      ]
     },
     "execution_count": 52,
     "metadata": {},
     "output_type": "execute_result"
    }
   ],
   "source": [
    "company_tags = driver.find_elements_by_xpath('//a[@class=\"subTitle ellipsis fleft\"]')\n",
    "company_tags[0:10]"
   ]
  },
  {
   "cell_type": "code",
   "execution_count": 54,
   "id": "cdaa99d8",
   "metadata": {},
   "outputs": [
    {
     "data": {
      "text/plain": [
       "['Mobile Premier League',\n",
       " 'HDFC Bank',\n",
       " 'Shell',\n",
       " 'Covalense Technologies Private Limited',\n",
       " 'Gojek',\n",
       " 'AmoliTalents',\n",
       " 'open data fabric',\n",
       " 'Concentrix',\n",
       " 'Firstsource Solutions Limited',\n",
       " 'OceanOfWeb']"
      ]
     },
     "execution_count": 54,
     "metadata": {},
     "output_type": "execute_result"
    }
   ],
   "source": [
    "company_names = []\n",
    "\n",
    "for i in company_tags:\n",
    "    company_names.append(i.text)\n",
    "company_names[0:10]"
   ]
  },
  {
   "cell_type": "code",
   "execution_count": 55,
   "id": "7c3c9623",
   "metadata": {},
   "outputs": [
    {
     "data": {
      "text/plain": [
       "20"
      ]
     },
     "execution_count": 55,
     "metadata": {},
     "output_type": "execute_result"
    }
   ],
   "source": [
    "exp_tags = driver.find_elements_by_xpath('//li[@class=\"fleft grey-text br2 placeHolderLi experience\"]')\n",
    "len(exp_tags)"
   ]
  },
  {
   "cell_type": "code",
   "execution_count": 56,
   "id": "44e1c5c8",
   "metadata": {},
   "outputs": [
    {
     "data": {
      "text/plain": [
       "['8-12 Yrs',\n",
       " '1-6 Yrs',\n",
       " '4-9 Yrs',\n",
       " '8-13 Yrs',\n",
       " '4-10 Yrs',\n",
       " '5-10 Yrs',\n",
       " '4-9 Yrs',\n",
       " '3-8 Yrs',\n",
       " '3-8 Yrs',\n",
       " '4-6 Yrs']"
      ]
     },
     "execution_count": 56,
     "metadata": {},
     "output_type": "execute_result"
    }
   ],
   "source": [
    "experience = []\n",
    "\n",
    "for i in exp_tags:\n",
    "    experience.append(i.text)\n",
    "experience[0:10]"
   ]
  },
  {
   "cell_type": "code",
   "execution_count": 57,
   "id": "00f59627",
   "metadata": {},
   "outputs": [
    {
     "data": {
      "text/plain": [
       "20"
      ]
     },
     "execution_count": 57,
     "metadata": {},
     "output_type": "execute_result"
    }
   ],
   "source": [
    "locn_tags = driver.find_elements_by_xpath('//li[@class=\"fleft grey-text br2 placeHolderLi location\"]')\n",
    "len(locn_tags)"
   ]
  },
  {
   "cell_type": "code",
   "execution_count": 58,
   "id": "4869b31d",
   "metadata": {},
   "outputs": [
    {
     "data": {
      "text/plain": [
       "['Bangalore/Bengaluru',\n",
       " 'Pune, Gurgaon/Gurugram, Chennai, Bangalore/Bengaluru, Delhi / NCR, Mumbai (All Areas)',\n",
       " 'Bangalore/Bengaluru',\n",
       " 'Hyderabad/Secunderabad, Bangalore/Bengaluru, Mumbai (All Areas)\\n(WFH during Covid)',\n",
       " 'Bangalore/Bengaluru',\n",
       " 'Bangalore/Bengaluru',\n",
       " 'Bangalore/Bengaluru',\n",
       " 'Gurgaon/Gurugram, Bangalore/Bengaluru\\n(WFH during Covid)',\n",
       " 'Bangalore/Bengaluru, Mumbai (All Areas)',\n",
       " 'Mumbai, Hyderabad/Secunderabad, Pune, Chennai, Bangalore/Bengaluru']"
      ]
     },
     "execution_count": 58,
     "metadata": {},
     "output_type": "execute_result"
    }
   ],
   "source": [
    "location = []\n",
    "\n",
    "for i in locn_tags:\n",
    "    location.append(i.text)\n",
    "location[0:10]"
   ]
  },
  {
   "cell_type": "code",
   "execution_count": 59,
   "id": "838fe318",
   "metadata": {},
   "outputs": [
    {
     "data": {
      "text/plain": [
       "20"
      ]
     },
     "execution_count": 59,
     "metadata": {},
     "output_type": "execute_result"
    }
   ],
   "source": [
    "slry_tags = driver.find_elements_by_xpath('//li[@class=\"fleft grey-text br2 placeHolderLi salary\"]')\n",
    "len(slry_tags)"
   ]
  },
  {
   "cell_type": "code",
   "execution_count": 60,
   "id": "5f390d38",
   "metadata": {},
   "outputs": [
    {
     "data": {
      "text/plain": [
       "['Not disclosed',\n",
       " '14,00,000 - 24,00,000 PA.',\n",
       " 'Not disclosed',\n",
       " 'Not disclosed',\n",
       " 'Not disclosed',\n",
       " 'Not disclosed',\n",
       " 'Not disclosed',\n",
       " 'Not disclosed',\n",
       " 'Not disclosed',\n",
       " 'Not disclosed']"
      ]
     },
     "execution_count": 60,
     "metadata": {},
     "output_type": "execute_result"
    }
   ],
   "source": [
    "salary = []\n",
    "\n",
    "for i in slry_tags:\n",
    "    salary.append(i.text)\n",
    "salary[0:10]"
   ]
  },
  {
   "cell_type": "code",
   "execution_count": 61,
   "id": "5755e123",
   "metadata": {},
   "outputs": [
    {
     "data": {
      "text/plain": [
       "(20, 20, 20, 20, 20)"
      ]
     },
     "execution_count": 61,
     "metadata": {},
     "output_type": "execute_result"
    }
   ],
   "source": [
    "len(job_titles), len(company_names), len(experience), len(location), len(salary)"
   ]
  },
  {
   "cell_type": "markdown",
   "id": "2bb2f0bc",
   "metadata": {},
   "source": [
    "# Create dataframe"
   ]
  },
  {
   "cell_type": "code",
   "execution_count": 62,
   "id": "8ef940d4",
   "metadata": {},
   "outputs": [
    {
     "data": {
      "text/html": [
       "<div>\n",
       "<style scoped>\n",
       "    .dataframe tbody tr th:only-of-type {\n",
       "        vertical-align: middle;\n",
       "    }\n",
       "\n",
       "    .dataframe tbody tr th {\n",
       "        vertical-align: top;\n",
       "    }\n",
       "\n",
       "    .dataframe thead th {\n",
       "        text-align: right;\n",
       "    }\n",
       "</style>\n",
       "<table border=\"1\" class=\"dataframe\">\n",
       "  <thead>\n",
       "    <tr style=\"text-align: right;\">\n",
       "      <th></th>\n",
       "      <th>Job Title</th>\n",
       "      <th>Company</th>\n",
       "      <th>Experience</th>\n",
       "      <th>Location</th>\n",
       "      <th>Salary</th>\n",
       "    </tr>\n",
       "  </thead>\n",
       "  <tbody>\n",
       "    <tr>\n",
       "      <th>0</th>\n",
       "      <td>Principal Data Scientist</td>\n",
       "      <td>Mobile Premier League</td>\n",
       "      <td>8-12 Yrs</td>\n",
       "      <td>Bangalore/Bengaluru</td>\n",
       "      <td>Not disclosed</td>\n",
       "    </tr>\n",
       "    <tr>\n",
       "      <th>1</th>\n",
       "      <td>Data Scientist</td>\n",
       "      <td>HDFC Bank</td>\n",
       "      <td>1-6 Yrs</td>\n",
       "      <td>Pune, Gurgaon/Gurugram, Chennai, Bangalore/Ben...</td>\n",
       "      <td>14,00,000 - 24,00,000 PA.</td>\n",
       "    </tr>\n",
       "    <tr>\n",
       "      <th>2</th>\n",
       "      <td>Data Scientist</td>\n",
       "      <td>Shell</td>\n",
       "      <td>4-9 Yrs</td>\n",
       "      <td>Bangalore/Bengaluru</td>\n",
       "      <td>Not disclosed</td>\n",
       "    </tr>\n",
       "    <tr>\n",
       "      <th>3</th>\n",
       "      <td>Need Data scientists and data engineers - WFH-...</td>\n",
       "      <td>Covalense Technologies Private Limited</td>\n",
       "      <td>8-13 Yrs</td>\n",
       "      <td>Hyderabad/Secunderabad, Bangalore/Bengaluru, M...</td>\n",
       "      <td>Not disclosed</td>\n",
       "    </tr>\n",
       "    <tr>\n",
       "      <th>4</th>\n",
       "      <td>Data Scientist</td>\n",
       "      <td>Gojek</td>\n",
       "      <td>4-10 Yrs</td>\n",
       "      <td>Bangalore/Bengaluru</td>\n",
       "      <td>Not disclosed</td>\n",
       "    </tr>\n",
       "    <tr>\n",
       "      <th>5</th>\n",
       "      <td>Senior/ Lead Data Scientist</td>\n",
       "      <td>AmoliTalents</td>\n",
       "      <td>5-10 Yrs</td>\n",
       "      <td>Bangalore/Bengaluru</td>\n",
       "      <td>Not disclosed</td>\n",
       "    </tr>\n",
       "    <tr>\n",
       "      <th>6</th>\n",
       "      <td>Data Scientist / Analyst</td>\n",
       "      <td>open data fabric</td>\n",
       "      <td>4-9 Yrs</td>\n",
       "      <td>Bangalore/Bengaluru</td>\n",
       "      <td>Not disclosed</td>\n",
       "    </tr>\n",
       "    <tr>\n",
       "      <th>7</th>\n",
       "      <td>Forecasting Analyst/ Data Scientist (US Client)</td>\n",
       "      <td>Concentrix</td>\n",
       "      <td>3-8 Yrs</td>\n",
       "      <td>Gurgaon/Gurugram, Bangalore/Bengaluru\\n(WFH du...</td>\n",
       "      <td>Not disclosed</td>\n",
       "    </tr>\n",
       "    <tr>\n",
       "      <th>8</th>\n",
       "      <td>Hiring Data Scientist - Analytics</td>\n",
       "      <td>Firstsource Solutions Limited</td>\n",
       "      <td>3-8 Yrs</td>\n",
       "      <td>Bangalore/Bengaluru, Mumbai (All Areas)</td>\n",
       "      <td>Not disclosed</td>\n",
       "    </tr>\n",
       "    <tr>\n",
       "      <th>9</th>\n",
       "      <td>Computer Vision Python Data Scientist</td>\n",
       "      <td>OceanOfWeb</td>\n",
       "      <td>4-6 Yrs</td>\n",
       "      <td>Mumbai, Hyderabad/Secunderabad, Pune, Chennai,...</td>\n",
       "      <td>Not disclosed</td>\n",
       "    </tr>\n",
       "    <tr>\n",
       "      <th>10</th>\n",
       "      <td>Data Scientist</td>\n",
       "      <td>Minions Ventures</td>\n",
       "      <td>3-4 Yrs</td>\n",
       "      <td>Bangalore/Bengaluru</td>\n",
       "      <td>Not disclosed</td>\n",
       "    </tr>\n",
       "    <tr>\n",
       "      <th>11</th>\n",
       "      <td>Excellent Opportunity For Freshers For AI/ML, ...</td>\n",
       "      <td>NTT Data</td>\n",
       "      <td>0-0 Yrs</td>\n",
       "      <td>Noida, Kolkata, Hyderabad/Secunderabad, Pune, ...</td>\n",
       "      <td>3,50,000 - 5,00,000 PA.</td>\n",
       "    </tr>\n",
       "    <tr>\n",
       "      <th>12</th>\n",
       "      <td>Junior Data Scientist</td>\n",
       "      <td>Titan</td>\n",
       "      <td>1-5 Yrs</td>\n",
       "      <td>Bangalore/Bengaluru</td>\n",
       "      <td>Not disclosed</td>\n",
       "    </tr>\n",
       "    <tr>\n",
       "      <th>13</th>\n",
       "      <td>Data Scientist</td>\n",
       "      <td>Amazon</td>\n",
       "      <td>7-12 Yrs</td>\n",
       "      <td>Hyderabad/Secunderabad, Pune, Bangalore/Bengaluru</td>\n",
       "      <td>Not disclosed</td>\n",
       "    </tr>\n",
       "    <tr>\n",
       "      <th>14</th>\n",
       "      <td>Data Scientist</td>\n",
       "      <td>Hewlett-Packard (HP)</td>\n",
       "      <td>7-10 Yrs</td>\n",
       "      <td>Bangalore/Bengaluru</td>\n",
       "      <td>Not disclosed</td>\n",
       "    </tr>\n",
       "    <tr>\n",
       "      <th>15</th>\n",
       "      <td>Data Scientist</td>\n",
       "      <td>Genpact</td>\n",
       "      <td>6-10 Yrs</td>\n",
       "      <td>Gurgaon/Gurugram, Bangalore/Bengaluru</td>\n",
       "      <td>Not disclosed</td>\n",
       "    </tr>\n",
       "    <tr>\n",
       "      <th>16</th>\n",
       "      <td>Data Scientist _NLP</td>\n",
       "      <td>EXL</td>\n",
       "      <td>3-8 Yrs</td>\n",
       "      <td>Bangalore/Bengaluru, Delhi / NCR\\n(WFH during ...</td>\n",
       "      <td>Not disclosed</td>\n",
       "    </tr>\n",
       "    <tr>\n",
       "      <th>17</th>\n",
       "      <td>Data Scientist</td>\n",
       "      <td>Shell</td>\n",
       "      <td>4-9 Yrs</td>\n",
       "      <td>Bangalore/Bengaluru</td>\n",
       "      <td>Not disclosed</td>\n",
       "    </tr>\n",
       "    <tr>\n",
       "      <th>18</th>\n",
       "      <td>Data Scientist</td>\n",
       "      <td>Master Mind Consultancy</td>\n",
       "      <td>10-15 Yrs</td>\n",
       "      <td>Mumbai, Bangalore/Bengaluru, Mumbai, Bangalore</td>\n",
       "      <td>Not disclosed</td>\n",
       "    </tr>\n",
       "    <tr>\n",
       "      <th>19</th>\n",
       "      <td>Data Scientist</td>\n",
       "      <td>Master Mind Consultancy</td>\n",
       "      <td>6-11 Yrs</td>\n",
       "      <td>Mumbai, Bangalore/Bengaluru</td>\n",
       "      <td>Not disclosed</td>\n",
       "    </tr>\n",
       "  </tbody>\n",
       "</table>\n",
       "</div>"
      ],
      "text/plain": [
       "                                            Job Title  \\\n",
       "0                            Principal Data Scientist   \n",
       "1                                      Data Scientist   \n",
       "2                                      Data Scientist   \n",
       "3   Need Data scientists and data engineers - WFH-...   \n",
       "4                                      Data Scientist   \n",
       "5                         Senior/ Lead Data Scientist   \n",
       "6                            Data Scientist / Analyst   \n",
       "7     Forecasting Analyst/ Data Scientist (US Client)   \n",
       "8                   Hiring Data Scientist - Analytics   \n",
       "9               Computer Vision Python Data Scientist   \n",
       "10                                     Data Scientist   \n",
       "11  Excellent Opportunity For Freshers For AI/ML, ...   \n",
       "12                              Junior Data Scientist   \n",
       "13                                     Data Scientist   \n",
       "14                                     Data Scientist   \n",
       "15                                     Data Scientist   \n",
       "16                                Data Scientist _NLP   \n",
       "17                                     Data Scientist   \n",
       "18                                     Data Scientist   \n",
       "19                                     Data Scientist   \n",
       "\n",
       "                                   Company Experience  \\\n",
       "0                    Mobile Premier League   8-12 Yrs   \n",
       "1                                HDFC Bank    1-6 Yrs   \n",
       "2                                    Shell    4-9 Yrs   \n",
       "3   Covalense Technologies Private Limited   8-13 Yrs   \n",
       "4                                    Gojek   4-10 Yrs   \n",
       "5                             AmoliTalents   5-10 Yrs   \n",
       "6                         open data fabric    4-9 Yrs   \n",
       "7                               Concentrix    3-8 Yrs   \n",
       "8            Firstsource Solutions Limited    3-8 Yrs   \n",
       "9                               OceanOfWeb    4-6 Yrs   \n",
       "10                        Minions Ventures    3-4 Yrs   \n",
       "11                                NTT Data    0-0 Yrs   \n",
       "12                                   Titan    1-5 Yrs   \n",
       "13                                  Amazon   7-12 Yrs   \n",
       "14                    Hewlett-Packard (HP)   7-10 Yrs   \n",
       "15                                 Genpact   6-10 Yrs   \n",
       "16                                     EXL    3-8 Yrs   \n",
       "17                                   Shell    4-9 Yrs   \n",
       "18                 Master Mind Consultancy  10-15 Yrs   \n",
       "19                 Master Mind Consultancy   6-11 Yrs   \n",
       "\n",
       "                                             Location  \\\n",
       "0                                 Bangalore/Bengaluru   \n",
       "1   Pune, Gurgaon/Gurugram, Chennai, Bangalore/Ben...   \n",
       "2                                 Bangalore/Bengaluru   \n",
       "3   Hyderabad/Secunderabad, Bangalore/Bengaluru, M...   \n",
       "4                                 Bangalore/Bengaluru   \n",
       "5                                 Bangalore/Bengaluru   \n",
       "6                                 Bangalore/Bengaluru   \n",
       "7   Gurgaon/Gurugram, Bangalore/Bengaluru\\n(WFH du...   \n",
       "8             Bangalore/Bengaluru, Mumbai (All Areas)   \n",
       "9   Mumbai, Hyderabad/Secunderabad, Pune, Chennai,...   \n",
       "10                                Bangalore/Bengaluru   \n",
       "11  Noida, Kolkata, Hyderabad/Secunderabad, Pune, ...   \n",
       "12                                Bangalore/Bengaluru   \n",
       "13  Hyderabad/Secunderabad, Pune, Bangalore/Bengaluru   \n",
       "14                                Bangalore/Bengaluru   \n",
       "15              Gurgaon/Gurugram, Bangalore/Bengaluru   \n",
       "16  Bangalore/Bengaluru, Delhi / NCR\\n(WFH during ...   \n",
       "17                                Bangalore/Bengaluru   \n",
       "18     Mumbai, Bangalore/Bengaluru, Mumbai, Bangalore   \n",
       "19                        Mumbai, Bangalore/Bengaluru   \n",
       "\n",
       "                       Salary  \n",
       "0               Not disclosed  \n",
       "1   14,00,000 - 24,00,000 PA.  \n",
       "2               Not disclosed  \n",
       "3               Not disclosed  \n",
       "4               Not disclosed  \n",
       "5               Not disclosed  \n",
       "6               Not disclosed  \n",
       "7               Not disclosed  \n",
       "8               Not disclosed  \n",
       "9               Not disclosed  \n",
       "10              Not disclosed  \n",
       "11    3,50,000 - 5,00,000 PA.  \n",
       "12              Not disclosed  \n",
       "13              Not disclosed  \n",
       "14              Not disclosed  \n",
       "15              Not disclosed  \n",
       "16              Not disclosed  \n",
       "17              Not disclosed  \n",
       "18              Not disclosed  \n",
       "19              Not disclosed  "
      ]
     },
     "execution_count": 62,
     "metadata": {},
     "output_type": "execute_result"
    }
   ],
   "source": [
    "jobs = pd.DataFrame()\n",
    "jobs['Job Title'] = job_titles\n",
    "jobs['Company'] =company_names\n",
    "jobs['Experience'] = experience\n",
    "jobs['Location'] = location\n",
    "jobs['Salary'] = salary\n",
    "jobs"
   ]
  },
  {
   "cell_type": "code",
   "execution_count": 63,
   "id": "80a83c0a",
   "metadata": {},
   "outputs": [
    {
     "data": {
      "text/html": [
       "<div>\n",
       "<style scoped>\n",
       "    .dataframe tbody tr th:only-of-type {\n",
       "        vertical-align: middle;\n",
       "    }\n",
       "\n",
       "    .dataframe tbody tr th {\n",
       "        vertical-align: top;\n",
       "    }\n",
       "\n",
       "    .dataframe thead th {\n",
       "        text-align: right;\n",
       "    }\n",
       "</style>\n",
       "<table border=\"1\" class=\"dataframe\">\n",
       "  <thead>\n",
       "    <tr style=\"text-align: right;\">\n",
       "      <th></th>\n",
       "      <th>Job Title</th>\n",
       "      <th>Company</th>\n",
       "      <th>Experience</th>\n",
       "      <th>Location</th>\n",
       "      <th>Salary</th>\n",
       "    </tr>\n",
       "  </thead>\n",
       "  <tbody>\n",
       "    <tr>\n",
       "      <th>0</th>\n",
       "      <td>Principal Data Scientist</td>\n",
       "      <td>Mobile Premier League</td>\n",
       "      <td>8-12 Yrs</td>\n",
       "      <td>Bangalore/Bengaluru</td>\n",
       "      <td>Not disclosed</td>\n",
       "    </tr>\n",
       "    <tr>\n",
       "      <th>1</th>\n",
       "      <td>Data Scientist</td>\n",
       "      <td>HDFC Bank</td>\n",
       "      <td>1-6 Yrs</td>\n",
       "      <td>Pune, Gurgaon/Gurugram, Chennai, Bangalore/Ben...</td>\n",
       "      <td>14,00,000 - 24,00,000 PA.</td>\n",
       "    </tr>\n",
       "    <tr>\n",
       "      <th>2</th>\n",
       "      <td>Data Scientist</td>\n",
       "      <td>Shell</td>\n",
       "      <td>4-9 Yrs</td>\n",
       "      <td>Bangalore/Bengaluru</td>\n",
       "      <td>Not disclosed</td>\n",
       "    </tr>\n",
       "    <tr>\n",
       "      <th>3</th>\n",
       "      <td>Need Data scientists and data engineers - WFH-...</td>\n",
       "      <td>Covalense Technologies Private Limited</td>\n",
       "      <td>8-13 Yrs</td>\n",
       "      <td>Hyderabad/Secunderabad, Bangalore/Bengaluru, M...</td>\n",
       "      <td>Not disclosed</td>\n",
       "    </tr>\n",
       "    <tr>\n",
       "      <th>4</th>\n",
       "      <td>Data Scientist</td>\n",
       "      <td>Gojek</td>\n",
       "      <td>4-10 Yrs</td>\n",
       "      <td>Bangalore/Bengaluru</td>\n",
       "      <td>Not disclosed</td>\n",
       "    </tr>\n",
       "    <tr>\n",
       "      <th>5</th>\n",
       "      <td>Senior/ Lead Data Scientist</td>\n",
       "      <td>AmoliTalents</td>\n",
       "      <td>5-10 Yrs</td>\n",
       "      <td>Bangalore/Bengaluru</td>\n",
       "      <td>Not disclosed</td>\n",
       "    </tr>\n",
       "    <tr>\n",
       "      <th>6</th>\n",
       "      <td>Data Scientist / Analyst</td>\n",
       "      <td>open data fabric</td>\n",
       "      <td>4-9 Yrs</td>\n",
       "      <td>Bangalore/Bengaluru</td>\n",
       "      <td>Not disclosed</td>\n",
       "    </tr>\n",
       "    <tr>\n",
       "      <th>7</th>\n",
       "      <td>Forecasting Analyst/ Data Scientist (US Client)</td>\n",
       "      <td>Concentrix</td>\n",
       "      <td>3-8 Yrs</td>\n",
       "      <td>Gurgaon/Gurugram, Bangalore/Bengaluru\\n(WFH du...</td>\n",
       "      <td>Not disclosed</td>\n",
       "    </tr>\n",
       "    <tr>\n",
       "      <th>8</th>\n",
       "      <td>Hiring Data Scientist - Analytics</td>\n",
       "      <td>Firstsource Solutions Limited</td>\n",
       "      <td>3-8 Yrs</td>\n",
       "      <td>Bangalore/Bengaluru, Mumbai (All Areas)</td>\n",
       "      <td>Not disclosed</td>\n",
       "    </tr>\n",
       "    <tr>\n",
       "      <th>9</th>\n",
       "      <td>Computer Vision Python Data Scientist</td>\n",
       "      <td>OceanOfWeb</td>\n",
       "      <td>4-6 Yrs</td>\n",
       "      <td>Mumbai, Hyderabad/Secunderabad, Pune, Chennai,...</td>\n",
       "      <td>Not disclosed</td>\n",
       "    </tr>\n",
       "  </tbody>\n",
       "</table>\n",
       "</div>"
      ],
      "text/plain": [
       "                                           Job Title  \\\n",
       "0                           Principal Data Scientist   \n",
       "1                                     Data Scientist   \n",
       "2                                     Data Scientist   \n",
       "3  Need Data scientists and data engineers - WFH-...   \n",
       "4                                     Data Scientist   \n",
       "5                        Senior/ Lead Data Scientist   \n",
       "6                           Data Scientist / Analyst   \n",
       "7    Forecasting Analyst/ Data Scientist (US Client)   \n",
       "8                  Hiring Data Scientist - Analytics   \n",
       "9              Computer Vision Python Data Scientist   \n",
       "\n",
       "                                  Company Experience  \\\n",
       "0                   Mobile Premier League   8-12 Yrs   \n",
       "1                               HDFC Bank    1-6 Yrs   \n",
       "2                                   Shell    4-9 Yrs   \n",
       "3  Covalense Technologies Private Limited   8-13 Yrs   \n",
       "4                                   Gojek   4-10 Yrs   \n",
       "5                            AmoliTalents   5-10 Yrs   \n",
       "6                        open data fabric    4-9 Yrs   \n",
       "7                              Concentrix    3-8 Yrs   \n",
       "8           Firstsource Solutions Limited    3-8 Yrs   \n",
       "9                              OceanOfWeb    4-6 Yrs   \n",
       "\n",
       "                                            Location  \\\n",
       "0                                Bangalore/Bengaluru   \n",
       "1  Pune, Gurgaon/Gurugram, Chennai, Bangalore/Ben...   \n",
       "2                                Bangalore/Bengaluru   \n",
       "3  Hyderabad/Secunderabad, Bangalore/Bengaluru, M...   \n",
       "4                                Bangalore/Bengaluru   \n",
       "5                                Bangalore/Bengaluru   \n",
       "6                                Bangalore/Bengaluru   \n",
       "7  Gurgaon/Gurugram, Bangalore/Bengaluru\\n(WFH du...   \n",
       "8            Bangalore/Bengaluru, Mumbai (All Areas)   \n",
       "9  Mumbai, Hyderabad/Secunderabad, Pune, Chennai,...   \n",
       "\n",
       "                      Salary  \n",
       "0              Not disclosed  \n",
       "1  14,00,000 - 24,00,000 PA.  \n",
       "2              Not disclosed  \n",
       "3              Not disclosed  \n",
       "4              Not disclosed  \n",
       "5              Not disclosed  \n",
       "6              Not disclosed  \n",
       "7              Not disclosed  \n",
       "8              Not disclosed  \n",
       "9              Not disclosed  "
      ]
     },
     "execution_count": 63,
     "metadata": {},
     "output_type": "execute_result"
    }
   ],
   "source": [
    "jobs.head(10)"
   ]
  },
  {
   "cell_type": "code",
   "execution_count": 64,
   "id": "e6793858",
   "metadata": {},
   "outputs": [
    {
     "data": {
      "text/html": [
       "<div>\n",
       "<style scoped>\n",
       "    .dataframe tbody tr th:only-of-type {\n",
       "        vertical-align: middle;\n",
       "    }\n",
       "\n",
       "    .dataframe tbody tr th {\n",
       "        vertical-align: top;\n",
       "    }\n",
       "\n",
       "    .dataframe thead th {\n",
       "        text-align: right;\n",
       "    }\n",
       "</style>\n",
       "<table border=\"1\" class=\"dataframe\">\n",
       "  <thead>\n",
       "    <tr style=\"text-align: right;\">\n",
       "      <th></th>\n",
       "      <th>Job Title</th>\n",
       "      <th>Company</th>\n",
       "      <th>Experience</th>\n",
       "      <th>Location</th>\n",
       "      <th>Salary</th>\n",
       "    </tr>\n",
       "  </thead>\n",
       "  <tbody>\n",
       "    <tr>\n",
       "      <th>10</th>\n",
       "      <td>Data Scientist</td>\n",
       "      <td>Minions Ventures</td>\n",
       "      <td>3-4 Yrs</td>\n",
       "      <td>Bangalore/Bengaluru</td>\n",
       "      <td>Not disclosed</td>\n",
       "    </tr>\n",
       "    <tr>\n",
       "      <th>11</th>\n",
       "      <td>Excellent Opportunity For Freshers For AI/ML, ...</td>\n",
       "      <td>NTT Data</td>\n",
       "      <td>0-0 Yrs</td>\n",
       "      <td>Noida, Kolkata, Hyderabad/Secunderabad, Pune, ...</td>\n",
       "      <td>3,50,000 - 5,00,000 PA.</td>\n",
       "    </tr>\n",
       "    <tr>\n",
       "      <th>12</th>\n",
       "      <td>Junior Data Scientist</td>\n",
       "      <td>Titan</td>\n",
       "      <td>1-5 Yrs</td>\n",
       "      <td>Bangalore/Bengaluru</td>\n",
       "      <td>Not disclosed</td>\n",
       "    </tr>\n",
       "    <tr>\n",
       "      <th>13</th>\n",
       "      <td>Data Scientist</td>\n",
       "      <td>Amazon</td>\n",
       "      <td>7-12 Yrs</td>\n",
       "      <td>Hyderabad/Secunderabad, Pune, Bangalore/Bengaluru</td>\n",
       "      <td>Not disclosed</td>\n",
       "    </tr>\n",
       "    <tr>\n",
       "      <th>14</th>\n",
       "      <td>Data Scientist</td>\n",
       "      <td>Hewlett-Packard (HP)</td>\n",
       "      <td>7-10 Yrs</td>\n",
       "      <td>Bangalore/Bengaluru</td>\n",
       "      <td>Not disclosed</td>\n",
       "    </tr>\n",
       "    <tr>\n",
       "      <th>15</th>\n",
       "      <td>Data Scientist</td>\n",
       "      <td>Genpact</td>\n",
       "      <td>6-10 Yrs</td>\n",
       "      <td>Gurgaon/Gurugram, Bangalore/Bengaluru</td>\n",
       "      <td>Not disclosed</td>\n",
       "    </tr>\n",
       "    <tr>\n",
       "      <th>16</th>\n",
       "      <td>Data Scientist _NLP</td>\n",
       "      <td>EXL</td>\n",
       "      <td>3-8 Yrs</td>\n",
       "      <td>Bangalore/Bengaluru, Delhi / NCR\\n(WFH during ...</td>\n",
       "      <td>Not disclosed</td>\n",
       "    </tr>\n",
       "    <tr>\n",
       "      <th>17</th>\n",
       "      <td>Data Scientist</td>\n",
       "      <td>Shell</td>\n",
       "      <td>4-9 Yrs</td>\n",
       "      <td>Bangalore/Bengaluru</td>\n",
       "      <td>Not disclosed</td>\n",
       "    </tr>\n",
       "    <tr>\n",
       "      <th>18</th>\n",
       "      <td>Data Scientist</td>\n",
       "      <td>Master Mind Consultancy</td>\n",
       "      <td>10-15 Yrs</td>\n",
       "      <td>Mumbai, Bangalore/Bengaluru, Mumbai, Bangalore</td>\n",
       "      <td>Not disclosed</td>\n",
       "    </tr>\n",
       "    <tr>\n",
       "      <th>19</th>\n",
       "      <td>Data Scientist</td>\n",
       "      <td>Master Mind Consultancy</td>\n",
       "      <td>6-11 Yrs</td>\n",
       "      <td>Mumbai, Bangalore/Bengaluru</td>\n",
       "      <td>Not disclosed</td>\n",
       "    </tr>\n",
       "  </tbody>\n",
       "</table>\n",
       "</div>"
      ],
      "text/plain": [
       "                                            Job Title  \\\n",
       "10                                     Data Scientist   \n",
       "11  Excellent Opportunity For Freshers For AI/ML, ...   \n",
       "12                              Junior Data Scientist   \n",
       "13                                     Data Scientist   \n",
       "14                                     Data Scientist   \n",
       "15                                     Data Scientist   \n",
       "16                                Data Scientist _NLP   \n",
       "17                                     Data Scientist   \n",
       "18                                     Data Scientist   \n",
       "19                                     Data Scientist   \n",
       "\n",
       "                    Company Experience  \\\n",
       "10         Minions Ventures    3-4 Yrs   \n",
       "11                 NTT Data    0-0 Yrs   \n",
       "12                    Titan    1-5 Yrs   \n",
       "13                   Amazon   7-12 Yrs   \n",
       "14     Hewlett-Packard (HP)   7-10 Yrs   \n",
       "15                  Genpact   6-10 Yrs   \n",
       "16                      EXL    3-8 Yrs   \n",
       "17                    Shell    4-9 Yrs   \n",
       "18  Master Mind Consultancy  10-15 Yrs   \n",
       "19  Master Mind Consultancy   6-11 Yrs   \n",
       "\n",
       "                                             Location                   Salary  \n",
       "10                                Bangalore/Bengaluru            Not disclosed  \n",
       "11  Noida, Kolkata, Hyderabad/Secunderabad, Pune, ...  3,50,000 - 5,00,000 PA.  \n",
       "12                                Bangalore/Bengaluru            Not disclosed  \n",
       "13  Hyderabad/Secunderabad, Pune, Bangalore/Bengaluru            Not disclosed  \n",
       "14                                Bangalore/Bengaluru            Not disclosed  \n",
       "15              Gurgaon/Gurugram, Bangalore/Bengaluru            Not disclosed  \n",
       "16  Bangalore/Bengaluru, Delhi / NCR\\n(WFH during ...            Not disclosed  \n",
       "17                                Bangalore/Bengaluru            Not disclosed  \n",
       "18     Mumbai, Bangalore/Bengaluru, Mumbai, Bangalore            Not disclosed  \n",
       "19                        Mumbai, Bangalore/Bengaluru            Not disclosed  "
      ]
     },
     "execution_count": 64,
     "metadata": {},
     "output_type": "execute_result"
    }
   ],
   "source": [
    "jobs.tail(10)"
   ]
  },
  {
   "cell_type": "markdown",
   "id": "2fee832c",
   "metadata": {},
   "source": [
    "# Q3: In this question you have to scrape data using the filters available on the webpage as shown below: You have to use the location and salary filter. You have to scrape data for “Data Scientist” designation for first 10 job results. You have to scrape the job-title, job-location, company name, experience required. The location filter to be used is “Delhi/NCR”. The salary filter to be used is “3-6” lakhs The task will be done as shown in the below steps:"
   ]
  },
  {
   "cell_type": "markdown",
   "id": "3ae618c8",
   "metadata": {},
   "source": [
    "1. first get the webpage https://www.naukri.com/\n",
    "2. Enter “Data Scientist” in “Skill, Designations, and Companies” field.\n",
    "3. Then click the search button.\n",
    "4. Then apply the location filter and salary filter by checking the respective boxes\n",
    "5. Then scrape the data for the first 10 jobs results you get.\n",
    "6. Finally create a dataframe of the scraped data."
   ]
  },
  {
   "cell_type": "raw",
   "id": "e24aec59",
   "metadata": {},
   "source": [
    "first get the webpage"
   ]
  },
  {
   "cell_type": "code",
   "execution_count": 67,
   "id": "6d69b82c",
   "metadata": {},
   "outputs": [],
   "source": [
    "driver = webdriver.Chrome(r'C:/Users/ASUS/Downloads/chromedriver_win32/chromedriver.exe')"
   ]
  },
  {
   "cell_type": "code",
   "execution_count": 68,
   "id": "86640131",
   "metadata": {},
   "outputs": [],
   "source": [
    "url = 'https://www.naukri.com/'\n",
    "driver.get(url)"
   ]
  },
  {
   "cell_type": "raw",
   "id": "004a4f2b",
   "metadata": {},
   "source": [
    "Enter “Data Scientist” in “Skill, Designations, and Companies” field."
   ]
  },
  {
   "cell_type": "code",
   "execution_count": 92,
   "id": "f57dbaac",
   "metadata": {},
   "outputs": [
    {
     "data": {
      "text/plain": [
       "<selenium.webdriver.remote.webelement.WebElement (session=\"132c065a5b12d1e7858d9167cf024aae\", element=\"bdb526cd-4b7f-42b8-9cd4-c3f7520340f2\")>"
      ]
     },
     "execution_count": 92,
     "metadata": {},
     "output_type": "execute_result"
    }
   ],
   "source": [
    "search_job = driver.find_element_by_class_name(\"suggestor-input \")\n",
    "search_job"
   ]
  },
  {
   "cell_type": "code",
   "execution_count": 93,
   "id": "e5d1fd63",
   "metadata": {},
   "outputs": [],
   "source": [
    "search_job.send_keys(\"Data Scientist\")"
   ]
  },
  {
   "cell_type": "raw",
   "id": "5c3697b3",
   "metadata": {},
   "source": [
    "click the search button."
   ]
  },
  {
   "cell_type": "code",
   "execution_count": 94,
   "id": "d8ce1175",
   "metadata": {},
   "outputs": [
    {
     "data": {
      "text/plain": [
       "<selenium.webdriver.remote.webelement.WebElement (session=\"132c065a5b12d1e7858d9167cf024aae\", element=\"5374866a-2775-465f-bf02-a8d22a33d8b2\")>"
      ]
     },
     "execution_count": 94,
     "metadata": {},
     "output_type": "execute_result"
    }
   ],
   "source": [
    "search_btn = driver.find_element_by_xpath('/html/body/div/div[2]/div[3]/div/div/div[6]')\n",
    "search_btn"
   ]
  },
  {
   "cell_type": "code",
   "execution_count": 95,
   "id": "f26a860d",
   "metadata": {},
   "outputs": [],
   "source": [
    "search_btn.click()"
   ]
  },
  {
   "cell_type": "raw",
   "id": "2b50db30",
   "metadata": {},
   "source": [
    "Apply the location filter and salary filter by checking the respective boxes"
   ]
  },
  {
   "cell_type": "raw",
   "id": "1e711e19",
   "metadata": {},
   "source": [
    "The location filter to be used is “Delhi/NCR”."
   ]
  },
  {
   "cell_type": "code",
   "execution_count": 96,
   "id": "1d39f460",
   "metadata": {},
   "outputs": [],
   "source": [
    "location_check = driver.find_element_by_xpath('/html/body/div[1]/div[3]/div[2]/section[1]/div[2]/div[3]/div[2]/div[3]/label/i')"
   ]
  },
  {
   "cell_type": "code",
   "execution_count": 98,
   "id": "bab21a2f",
   "metadata": {},
   "outputs": [],
   "source": [
    "location_check.click()"
   ]
  },
  {
   "cell_type": "raw",
   "id": "08ffbdcc",
   "metadata": {},
   "source": [
    "The salary filter to be used is “3-6” lakhs "
   ]
  },
  {
   "cell_type": "code",
   "execution_count": 100,
   "id": "466064cf",
   "metadata": {},
   "outputs": [],
   "source": [
    "salary_check = driver.find_element_by_xpath('/html/body/div[1]/div[3]/div[2]/section[1]/div[2]/div[4]/div[2]/div[2]/label/i')"
   ]
  },
  {
   "cell_type": "code",
   "execution_count": 101,
   "id": "fd8ba1f4",
   "metadata": {},
   "outputs": [],
   "source": [
    "salary_check.click()"
   ]
  },
  {
   "cell_type": "raw",
   "id": "6e70289b",
   "metadata": {},
   "source": [
    "scraping the data for the first 10 jobs results."
   ]
  },
  {
   "cell_type": "code",
   "execution_count": 103,
   "id": "1477b21d",
   "metadata": {},
   "outputs": [
    {
     "data": {
      "text/plain": [
       "20"
      ]
     },
     "execution_count": 103,
     "metadata": {},
     "output_type": "execute_result"
    }
   ],
   "source": [
    "company_tags = driver.find_elements_by_xpath('//a[@class=\"subTitle ellipsis fleft\"]')\n",
    "len(company_tags)"
   ]
  },
  {
   "cell_type": "code",
   "execution_count": 104,
   "id": "fc87858e",
   "metadata": {},
   "outputs": [
    {
     "data": {
      "text/plain": [
       "['NTT Data',\n",
       " 'GABA Consultancy services',\n",
       " 'Lumiq.ai',\n",
       " 'Sejal Consulting Hub',\n",
       " 'EXL',\n",
       " 'MOTHERSONSUMI INFOTECH & DESIGNS LIMITED',\n",
       " 'MOTHERSONSUMI INFOTECH & DESIGNS LIMITED',\n",
       " 'GABA Consultancy services',\n",
       " 'Indihire HR Consultants Private Limited',\n",
       " 'Mascot e-services']"
      ]
     },
     "execution_count": 104,
     "metadata": {},
     "output_type": "execute_result"
    }
   ],
   "source": [
    "company_names = []\n",
    "\n",
    "for i in company_tags:\n",
    "    company_names.append(i.text)\n",
    "company_names[0:10]"
   ]
  },
  {
   "cell_type": "code",
   "execution_count": 105,
   "id": "75524bb2",
   "metadata": {},
   "outputs": [
    {
     "data": {
      "text/plain": [
       "20"
      ]
     },
     "execution_count": 105,
     "metadata": {},
     "output_type": "execute_result"
    }
   ],
   "source": [
    "title_tags = driver.find_elements_by_xpath('//a[@class=\"title fw500 ellipsis\"]')\n",
    "len(title_tags)"
   ]
  },
  {
   "cell_type": "code",
   "execution_count": 107,
   "id": "e80eeb78",
   "metadata": {},
   "outputs": [
    {
     "data": {
      "text/plain": [
       "['Excellent Opportunity For Freshers For AI/ML, Data Scientist, BI, QA',\n",
       " 'Data Analyst / Data Scientist / Business Analytics / Fresher - MNC',\n",
       " 'Hiring For Senior Data Scientist-Noida',\n",
       " 'Junior Data Analyst/ Scientist- Fresher Position',\n",
       " 'Data Scientist _NLP',\n",
       " 'Data Scientist - MIND Infotech',\n",
       " 'Data Scientist - MIND Infotech',\n",
       " 'Only Fresher / Python Data Scientist / Trainee / Analytics - MNC Jobs',\n",
       " 'Lead Data Scientist',\n",
       " 'Hiring For Data Scientist- Gurgaon/ Noida']"
      ]
     },
     "execution_count": 107,
     "metadata": {},
     "output_type": "execute_result"
    }
   ],
   "source": [
    "job_titles = []\n",
    "for i in title_tags:\n",
    "    job_titles.append(i.text)\n",
    "job_titles[0:10]\n",
    "    "
   ]
  },
  {
   "cell_type": "code",
   "execution_count": 108,
   "id": "64b3c77d",
   "metadata": {},
   "outputs": [
    {
     "data": {
      "text/plain": [
       "20"
      ]
     },
     "execution_count": 108,
     "metadata": {},
     "output_type": "execute_result"
    }
   ],
   "source": [
    "exp_tags = driver.find_elements_by_xpath('//li[@class=\"fleft grey-text br2 placeHolderLi experience\"]')\n",
    "len(exp_tags)"
   ]
  },
  {
   "cell_type": "code",
   "execution_count": 109,
   "id": "cd3a62de",
   "metadata": {},
   "outputs": [
    {
     "data": {
      "text/plain": [
       "['0-0 Yrs',\n",
       " '0-0 Yrs',\n",
       " '2-6 Yrs',\n",
       " '0-3 Yrs',\n",
       " '3-8 Yrs',\n",
       " '4-8 Yrs',\n",
       " '4-8 Yrs',\n",
       " '0-0 Yrs',\n",
       " '2-4 Yrs',\n",
       " '2-4 Yrs']"
      ]
     },
     "execution_count": 109,
     "metadata": {},
     "output_type": "execute_result"
    }
   ],
   "source": [
    "experience = []\n",
    "\n",
    "for i in exp_tags:\n",
    "    experience.append(i.text)\n",
    "experience[0:10]"
   ]
  },
  {
   "cell_type": "code",
   "execution_count": 110,
   "id": "b550d6c1",
   "metadata": {},
   "outputs": [
    {
     "data": {
      "text/plain": [
       "20"
      ]
     },
     "execution_count": 110,
     "metadata": {},
     "output_type": "execute_result"
    }
   ],
   "source": [
    "slry_tags = driver.find_elements_by_xpath('//li[@class=\"fleft grey-text br2 placeHolderLi salary\"]')\n",
    "len(slry_tags)"
   ]
  },
  {
   "cell_type": "code",
   "execution_count": 111,
   "id": "1bf75d18",
   "metadata": {},
   "outputs": [
    {
     "data": {
      "text/plain": [
       "['3,50,000 - 5,00,000 PA.',\n",
       " '2,25,000 - 4,75,000 PA.',\n",
       " 'Not disclosed',\n",
       " '4,00,000 - 7,00,000 PA.',\n",
       " 'Not disclosed',\n",
       " 'Not disclosed',\n",
       " 'Not disclosed',\n",
       " '2,25,000 - 4,75,000 PA.',\n",
       " 'Not disclosed',\n",
       " '5,00,000 - 7,50,000 PA.']"
      ]
     },
     "execution_count": 111,
     "metadata": {},
     "output_type": "execute_result"
    }
   ],
   "source": [
    "salary = []\n",
    "\n",
    "for i in slry_tags:\n",
    "    salary.append(i.text)\n",
    "salary[0:10]"
   ]
  },
  {
   "cell_type": "code",
   "execution_count": 112,
   "id": "38d9520b",
   "metadata": {},
   "outputs": [
    {
     "data": {
      "text/plain": [
       "20"
      ]
     },
     "execution_count": 112,
     "metadata": {},
     "output_type": "execute_result"
    }
   ],
   "source": [
    "locn_tags = driver.find_elements_by_xpath('//li[@class=\"fleft grey-text br2 placeHolderLi location\"]')\n",
    "len(locn_tags)"
   ]
  },
  {
   "cell_type": "code",
   "execution_count": 113,
   "id": "e1c4b5d2",
   "metadata": {},
   "outputs": [
    {
     "data": {
      "text/plain": [
       "['Noida, Kolkata, Hyderabad/Secunderabad, Pune, Chennai, Bangalore/Bengaluru, Delhi / NCR, Mumbai (All Areas)\\n(WFH during Covid)',\n",
       " 'Noida, New Delhi, Delhi / NCR',\n",
       " 'Noida, New Delhi, Greater Noida',\n",
       " 'Kolkata, Hyderabad/Secunderabad, Pune, Ahmedabad, Chennai, Bangalore/Bengaluru, Delhi / NCR, Mumbai (All Areas)\\n(WFH during Covid)',\n",
       " 'Bangalore/Bengaluru, Delhi / NCR\\n(WFH during Covid)',\n",
       " 'Noida',\n",
       " 'Noida',\n",
       " 'Noida, New Delhi, Gurgaon/Gurugram',\n",
       " 'Delhi / NCR\\n(WFH during Covid)',\n",
       " 'Noida, Gurgaon/Gurugram']"
      ]
     },
     "execution_count": 113,
     "metadata": {},
     "output_type": "execute_result"
    }
   ],
   "source": [
    "location = []\n",
    "\n",
    "for i in locn_tags:\n",
    "    location.append(i.text)\n",
    "location[0:10]"
   ]
  },
  {
   "cell_type": "code",
   "execution_count": 122,
   "id": "d12765e4",
   "metadata": {},
   "outputs": [
    {
     "data": {
      "text/plain": [
       "20"
      ]
     },
     "execution_count": 122,
     "metadata": {},
     "output_type": "execute_result"
    }
   ],
   "source": [
    "skill_tags = driver.find_elements_by_xpath('//div[@class=\"job-description fs12 grey-text\"]')\n",
    "len(skill_tags)"
   ]
  },
  {
   "cell_type": "code",
   "execution_count": 123,
   "id": "a91768dd",
   "metadata": {},
   "outputs": [
    {
     "data": {
      "text/plain": [
       "['Roles and Responsibilities Profile AI/ML Engineer Fresher Must-Have Skills Bachelors De...',\n",
       " 'Only Fresher Can Apply Description 1>Excel SQL, Python/R 2>Work independently 3>Analyti...',\n",
       " 'Must have at least built one AI / ML use case from scratch, implemented and iterated th...',\n",
       " 'Willingness to work beyond traditional working hours / days as required by the business...',\n",
       " 'Strong Predictive Modeling (Regression based methods) and Machine Learning (Tree based ...',\n",
       " 'About CompanyMIND is an IT services company, in collaboration with Sumitomo Wiring Syst...',\n",
       " 'About CompanyMIND is an IT services company, in collaboration with Sumitomo Wiring Syst...',\n",
       " 'Only Fresher Can Apply:.Description Good in Analytics',\n",
       " 'Job purpose:In this position one would be required to Lead Data initiatives, build rich...',\n",
       " 'Work from home until April Need minimum 2 years of experience as a Data ScientistPeople...']"
      ]
     },
     "execution_count": 123,
     "metadata": {},
     "output_type": "execute_result"
    }
   ],
   "source": [
    "skills = []\n",
    "\n",
    "for i in profile_tags:\n",
    "    skills.append(i.text)\n",
    "skills[0:10]"
   ]
  },
  {
   "cell_type": "code",
   "execution_count": 124,
   "id": "1f4f1d11",
   "metadata": {},
   "outputs": [
    {
     "data": {
      "text/plain": [
       "(20, 20, 20, 20, 20, 20)"
      ]
     },
     "execution_count": 124,
     "metadata": {},
     "output_type": "execute_result"
    }
   ],
   "source": [
    "len(company_names), len(job_titles), len(experience), len(salary),len(location), len(skills)"
   ]
  },
  {
   "cell_type": "raw",
   "id": "57859d05",
   "metadata": {},
   "source": [
    " Creating a dataframe of the scraped data"
   ]
  },
  {
   "cell_type": "code",
   "execution_count": 125,
   "id": "2442e065",
   "metadata": {},
   "outputs": [
    {
     "data": {
      "text/html": [
       "<div>\n",
       "<style scoped>\n",
       "    .dataframe tbody tr th:only-of-type {\n",
       "        vertical-align: middle;\n",
       "    }\n",
       "\n",
       "    .dataframe tbody tr th {\n",
       "        vertical-align: top;\n",
       "    }\n",
       "\n",
       "    .dataframe thead th {\n",
       "        text-align: right;\n",
       "    }\n",
       "</style>\n",
       "<table border=\"1\" class=\"dataframe\">\n",
       "  <thead>\n",
       "    <tr style=\"text-align: right;\">\n",
       "      <th></th>\n",
       "      <th>Job Title</th>\n",
       "      <th>Company</th>\n",
       "      <th>Experience</th>\n",
       "      <th>Location</th>\n",
       "      <th>Salary</th>\n",
       "      <th>Skills</th>\n",
       "    </tr>\n",
       "  </thead>\n",
       "  <tbody>\n",
       "    <tr>\n",
       "      <th>0</th>\n",
       "      <td>Excellent Opportunity For Freshers For AI/ML, ...</td>\n",
       "      <td>NTT Data</td>\n",
       "      <td>0-0 Yrs</td>\n",
       "      <td>Noida, Kolkata, Hyderabad/Secunderabad, Pune, ...</td>\n",
       "      <td>3,50,000 - 5,00,000 PA.</td>\n",
       "      <td>Roles and Responsibilities Profile AI/ML Engin...</td>\n",
       "    </tr>\n",
       "    <tr>\n",
       "      <th>1</th>\n",
       "      <td>Data Analyst / Data Scientist / Business Analy...</td>\n",
       "      <td>GABA Consultancy services</td>\n",
       "      <td>0-0 Yrs</td>\n",
       "      <td>Noida, New Delhi, Delhi / NCR</td>\n",
       "      <td>2,25,000 - 4,75,000 PA.</td>\n",
       "      <td>Only Fresher Can Apply Description 1&gt;Excel SQL...</td>\n",
       "    </tr>\n",
       "    <tr>\n",
       "      <th>2</th>\n",
       "      <td>Hiring For Senior Data Scientist-Noida</td>\n",
       "      <td>Lumiq.ai</td>\n",
       "      <td>2-6 Yrs</td>\n",
       "      <td>Noida, New Delhi, Greater Noida</td>\n",
       "      <td>Not disclosed</td>\n",
       "      <td>Must have at least built one AI / ML use case ...</td>\n",
       "    </tr>\n",
       "    <tr>\n",
       "      <th>3</th>\n",
       "      <td>Junior Data Analyst/ Scientist- Fresher Position</td>\n",
       "      <td>Sejal Consulting Hub</td>\n",
       "      <td>0-3 Yrs</td>\n",
       "      <td>Kolkata, Hyderabad/Secunderabad, Pune, Ahmedab...</td>\n",
       "      <td>4,00,000 - 7,00,000 PA.</td>\n",
       "      <td>Willingness to work beyond traditional working...</td>\n",
       "    </tr>\n",
       "    <tr>\n",
       "      <th>4</th>\n",
       "      <td>Data Scientist _NLP</td>\n",
       "      <td>EXL</td>\n",
       "      <td>3-8 Yrs</td>\n",
       "      <td>Bangalore/Bengaluru, Delhi / NCR\\n(WFH during ...</td>\n",
       "      <td>Not disclosed</td>\n",
       "      <td>Strong Predictive Modeling (Regression based m...</td>\n",
       "    </tr>\n",
       "    <tr>\n",
       "      <th>5</th>\n",
       "      <td>Data Scientist - MIND Infotech</td>\n",
       "      <td>MOTHERSONSUMI INFOTECH &amp; DESIGNS LIMITED</td>\n",
       "      <td>4-8 Yrs</td>\n",
       "      <td>Noida</td>\n",
       "      <td>Not disclosed</td>\n",
       "      <td>About CompanyMIND is an IT services company, i...</td>\n",
       "    </tr>\n",
       "    <tr>\n",
       "      <th>6</th>\n",
       "      <td>Data Scientist - MIND Infotech</td>\n",
       "      <td>MOTHERSONSUMI INFOTECH &amp; DESIGNS LIMITED</td>\n",
       "      <td>4-8 Yrs</td>\n",
       "      <td>Noida</td>\n",
       "      <td>Not disclosed</td>\n",
       "      <td>About CompanyMIND is an IT services company, i...</td>\n",
       "    </tr>\n",
       "    <tr>\n",
       "      <th>7</th>\n",
       "      <td>Only Fresher / Python Data Scientist / Trainee...</td>\n",
       "      <td>GABA Consultancy services</td>\n",
       "      <td>0-0 Yrs</td>\n",
       "      <td>Noida, New Delhi, Gurgaon/Gurugram</td>\n",
       "      <td>2,25,000 - 4,75,000 PA.</td>\n",
       "      <td>Only Fresher Can Apply:.Description Good in An...</td>\n",
       "    </tr>\n",
       "    <tr>\n",
       "      <th>8</th>\n",
       "      <td>Lead Data Scientist</td>\n",
       "      <td>Indihire HR Consultants Private Limited</td>\n",
       "      <td>2-4 Yrs</td>\n",
       "      <td>Delhi / NCR\\n(WFH during Covid)</td>\n",
       "      <td>Not disclosed</td>\n",
       "      <td>Job purpose:In this position one would be requ...</td>\n",
       "    </tr>\n",
       "    <tr>\n",
       "      <th>9</th>\n",
       "      <td>Hiring For Data Scientist- Gurgaon/ Noida</td>\n",
       "      <td>Mascot e-services</td>\n",
       "      <td>2-4 Yrs</td>\n",
       "      <td>Noida, Gurgaon/Gurugram</td>\n",
       "      <td>5,00,000 - 7,50,000 PA.</td>\n",
       "      <td>Work from home until April Need minimum 2 year...</td>\n",
       "    </tr>\n",
       "    <tr>\n",
       "      <th>10</th>\n",
       "      <td>Urgent Requirement || Data Scientist || Noida</td>\n",
       "      <td>HCL</td>\n",
       "      <td>3-8 Yrs</td>\n",
       "      <td>Noida, Delhi / NCR</td>\n",
       "      <td>Not disclosed</td>\n",
       "      <td>Education- Bachelors Degree (Computer Science)...</td>\n",
       "    </tr>\n",
       "    <tr>\n",
       "      <th>11</th>\n",
       "      <td>Data Scientist</td>\n",
       "      <td>Boston Consulting Group</td>\n",
       "      <td>2-5 Yrs</td>\n",
       "      <td>New Delhi</td>\n",
       "      <td>Not disclosed</td>\n",
       "      <td>Recent PhD or Master s Degree in computer scie...</td>\n",
       "    </tr>\n",
       "    <tr>\n",
       "      <th>12</th>\n",
       "      <td>Data Scientist</td>\n",
       "      <td>Stefanini</td>\n",
       "      <td>3-8 Yrs</td>\n",
       "      <td>Noida</td>\n",
       "      <td>Not disclosed</td>\n",
       "      <td>Roles &amp; Responsibilities Analyzing and underst...</td>\n",
       "    </tr>\n",
       "    <tr>\n",
       "      <th>13</th>\n",
       "      <td>Senior Data Scientist</td>\n",
       "      <td>iNICU</td>\n",
       "      <td>1-5 Yrs</td>\n",
       "      <td>Delhi</td>\n",
       "      <td>Not disclosed</td>\n",
       "      <td>Requirements: BTech/ MTech (Preferred) with 1-...</td>\n",
       "    </tr>\n",
       "    <tr>\n",
       "      <th>14</th>\n",
       "      <td>Lead Data Scientist - KYC/Fraud/Marketing</td>\n",
       "      <td>Tide Software</td>\n",
       "      <td>1-6 Yrs</td>\n",
       "      <td>New Delhi</td>\n",
       "      <td>Not disclosed</td>\n",
       "      <td>Work closely with our KYC team in order to bui...</td>\n",
       "    </tr>\n",
       "    <tr>\n",
       "      <th>15</th>\n",
       "      <td>Open Project | IT Consulting | Data Scientist</td>\n",
       "      <td>Virtuoso Staffing Solutions Pvt Ltd</td>\n",
       "      <td>5-10 Yrs</td>\n",
       "      <td>Noida, New Delhi, Bangalore Rural, Bangalore/B...</td>\n",
       "      <td>Not disclosed</td>\n",
       "      <td>• Data analysis and predictive modelling using...</td>\n",
       "    </tr>\n",
       "    <tr>\n",
       "      <th>16</th>\n",
       "      <td>Data Scientist</td>\n",
       "      <td>BlackBuck</td>\n",
       "      <td>3-7 Yrs</td>\n",
       "      <td>Gurgaon, Bengaluru</td>\n",
       "      <td>Not disclosed</td>\n",
       "      <td>Some of the problem areas are Insights across ...</td>\n",
       "    </tr>\n",
       "    <tr>\n",
       "      <th>17</th>\n",
       "      <td>Data Scientist</td>\n",
       "      <td>Country Veggie</td>\n",
       "      <td>1-3 Yrs</td>\n",
       "      <td>Bharuch, Jaipur, Bhopal, Mumbai, Jhansi, Nagpu...</td>\n",
       "      <td>Not disclosed</td>\n",
       "      <td>Bachelor degree Experience with common data sc...</td>\n",
       "    </tr>\n",
       "    <tr>\n",
       "      <th>18</th>\n",
       "      <td>Data Scientist</td>\n",
       "      <td>NAVIKENZ INDIA PRIVATE LIMITED</td>\n",
       "      <td>2-5 Yrs</td>\n",
       "      <td>Hyderabad/Secunderabad, Bangalore/Bengaluru, D...</td>\n",
       "      <td>Not disclosed</td>\n",
       "      <td>Experience in statistical, machine learning al...</td>\n",
       "    </tr>\n",
       "    <tr>\n",
       "      <th>19</th>\n",
       "      <td>Data Scientist</td>\n",
       "      <td>Mahajan Imaging</td>\n",
       "      <td>2-6 Yrs</td>\n",
       "      <td>Delhi</td>\n",
       "      <td>Not disclosed</td>\n",
       "      <td>Responsible for driving Mahajan Imaging's new ...</td>\n",
       "    </tr>\n",
       "  </tbody>\n",
       "</table>\n",
       "</div>"
      ],
      "text/plain": [
       "                                            Job Title  \\\n",
       "0   Excellent Opportunity For Freshers For AI/ML, ...   \n",
       "1   Data Analyst / Data Scientist / Business Analy...   \n",
       "2              Hiring For Senior Data Scientist-Noida   \n",
       "3    Junior Data Analyst/ Scientist- Fresher Position   \n",
       "4                                 Data Scientist _NLP   \n",
       "5                      Data Scientist - MIND Infotech   \n",
       "6                      Data Scientist - MIND Infotech   \n",
       "7   Only Fresher / Python Data Scientist / Trainee...   \n",
       "8                                 Lead Data Scientist   \n",
       "9           Hiring For Data Scientist- Gurgaon/ Noida   \n",
       "10      Urgent Requirement || Data Scientist || Noida   \n",
       "11                                     Data Scientist   \n",
       "12                                     Data Scientist   \n",
       "13                              Senior Data Scientist   \n",
       "14          Lead Data Scientist - KYC/Fraud/Marketing   \n",
       "15      Open Project | IT Consulting | Data Scientist   \n",
       "16                                     Data Scientist   \n",
       "17                                     Data Scientist   \n",
       "18                                     Data Scientist   \n",
       "19                                     Data Scientist   \n",
       "\n",
       "                                     Company Experience  \\\n",
       "0                                   NTT Data    0-0 Yrs   \n",
       "1                  GABA Consultancy services    0-0 Yrs   \n",
       "2                                   Lumiq.ai    2-6 Yrs   \n",
       "3                       Sejal Consulting Hub    0-3 Yrs   \n",
       "4                                        EXL    3-8 Yrs   \n",
       "5   MOTHERSONSUMI INFOTECH & DESIGNS LIMITED    4-8 Yrs   \n",
       "6   MOTHERSONSUMI INFOTECH & DESIGNS LIMITED    4-8 Yrs   \n",
       "7                  GABA Consultancy services    0-0 Yrs   \n",
       "8    Indihire HR Consultants Private Limited    2-4 Yrs   \n",
       "9                          Mascot e-services    2-4 Yrs   \n",
       "10                                       HCL    3-8 Yrs   \n",
       "11                   Boston Consulting Group    2-5 Yrs   \n",
       "12                                 Stefanini    3-8 Yrs   \n",
       "13                                     iNICU    1-5 Yrs   \n",
       "14                             Tide Software    1-6 Yrs   \n",
       "15       Virtuoso Staffing Solutions Pvt Ltd   5-10 Yrs   \n",
       "16                                 BlackBuck    3-7 Yrs   \n",
       "17                            Country Veggie    1-3 Yrs   \n",
       "18            NAVIKENZ INDIA PRIVATE LIMITED    2-5 Yrs   \n",
       "19                           Mahajan Imaging    2-6 Yrs   \n",
       "\n",
       "                                             Location  \\\n",
       "0   Noida, Kolkata, Hyderabad/Secunderabad, Pune, ...   \n",
       "1                       Noida, New Delhi, Delhi / NCR   \n",
       "2                     Noida, New Delhi, Greater Noida   \n",
       "3   Kolkata, Hyderabad/Secunderabad, Pune, Ahmedab...   \n",
       "4   Bangalore/Bengaluru, Delhi / NCR\\n(WFH during ...   \n",
       "5                                               Noida   \n",
       "6                                               Noida   \n",
       "7                  Noida, New Delhi, Gurgaon/Gurugram   \n",
       "8                     Delhi / NCR\\n(WFH during Covid)   \n",
       "9                             Noida, Gurgaon/Gurugram   \n",
       "10                                 Noida, Delhi / NCR   \n",
       "11                                          New Delhi   \n",
       "12                                              Noida   \n",
       "13                                              Delhi   \n",
       "14                                          New Delhi   \n",
       "15  Noida, New Delhi, Bangalore Rural, Bangalore/B...   \n",
       "16                                 Gurgaon, Bengaluru   \n",
       "17  Bharuch, Jaipur, Bhopal, Mumbai, Jhansi, Nagpu...   \n",
       "18  Hyderabad/Secunderabad, Bangalore/Bengaluru, D...   \n",
       "19                                              Delhi   \n",
       "\n",
       "                     Salary                                             Skills  \n",
       "0   3,50,000 - 5,00,000 PA.  Roles and Responsibilities Profile AI/ML Engin...  \n",
       "1   2,25,000 - 4,75,000 PA.  Only Fresher Can Apply Description 1>Excel SQL...  \n",
       "2             Not disclosed  Must have at least built one AI / ML use case ...  \n",
       "3   4,00,000 - 7,00,000 PA.  Willingness to work beyond traditional working...  \n",
       "4             Not disclosed  Strong Predictive Modeling (Regression based m...  \n",
       "5             Not disclosed  About CompanyMIND is an IT services company, i...  \n",
       "6             Not disclosed  About CompanyMIND is an IT services company, i...  \n",
       "7   2,25,000 - 4,75,000 PA.  Only Fresher Can Apply:.Description Good in An...  \n",
       "8             Not disclosed  Job purpose:In this position one would be requ...  \n",
       "9   5,00,000 - 7,50,000 PA.  Work from home until April Need minimum 2 year...  \n",
       "10            Not disclosed  Education- Bachelors Degree (Computer Science)...  \n",
       "11            Not disclosed  Recent PhD or Master s Degree in computer scie...  \n",
       "12            Not disclosed  Roles & Responsibilities Analyzing and underst...  \n",
       "13            Not disclosed  Requirements: BTech/ MTech (Preferred) with 1-...  \n",
       "14            Not disclosed  Work closely with our KYC team in order to bui...  \n",
       "15            Not disclosed  • Data analysis and predictive modelling using...  \n",
       "16            Not disclosed  Some of the problem areas are Insights across ...  \n",
       "17            Not disclosed  Bachelor degree Experience with common data sc...  \n",
       "18            Not disclosed  Experience in statistical, machine learning al...  \n",
       "19            Not disclosed  Responsible for driving Mahajan Imaging's new ...  "
      ]
     },
     "execution_count": 125,
     "metadata": {},
     "output_type": "execute_result"
    }
   ],
   "source": [
    "jobs = pd.DataFrame()\n",
    "jobs['Job Title'] = job_titles\n",
    "jobs['Company'] =company_names\n",
    "jobs['Experience'] = experience\n",
    "jobs['Location'] = location\n",
    "jobs['Salary'] = salary\n",
    "jobs['Skills'] = skills\n",
    "jobs"
   ]
  },
  {
   "cell_type": "markdown",
   "id": "e58ccc2e",
   "metadata": {},
   "source": [
    "# Q4: Scrape data of first 100 sunglasses listings on flipkart.com. You have to scrape four attributes:\n",
    "1. Brand\n",
    "2. Product Description\n",
    "3. Price\n",
    "\n",
    "The attributes which you have to scrape is ticked marked in the below image."
   ]
  },
  {
   "cell_type": "markdown",
   "id": "06da8c13",
   "metadata": {},
   "source": [
    "To scrape the data you have to go through following steps:\n",
    "1. Go to Flipkart webpage by url : https://www.flipkart.com/\n",
    "2. Enter “sunglasses” in the search field where “search for products, brands andmore” is written and\n",
    "click the search icon\n",
    "3. After that you will reach to the page having a lot of sunglasses. From this pageyou can scrap the\n",
    "required data as usual.\n",
    "4. After scraping data from the first page, go to the “Next” Button at the bottom ofthe page , then\n",
    "click on it.\n",
    "5. Now scrape data from this page as usual\n",
    "6. Repeat this until you get data for 100 sunglasses."
   ]
  },
  {
   "cell_type": "code",
   "execution_count": 230,
   "id": "6c96374f",
   "metadata": {},
   "outputs": [],
   "source": [
    "#Go to Flipkart webpage by url\n",
    "url = 'https://www.flipkart.com/'\n",
    "driver.get(url)"
   ]
  },
  {
   "cell_type": "code",
   "execution_count": 231,
   "id": "5c08d14a",
   "metadata": {},
   "outputs": [
    {
     "data": {
      "text/plain": [
       "<selenium.webdriver.remote.webelement.WebElement (session=\"132c065a5b12d1e7858d9167cf024aae\", element=\"0482e88b-df12-430c-a101-0d11a9012149\")>"
      ]
     },
     "execution_count": 231,
     "metadata": {},
     "output_type": "execute_result"
    }
   ],
   "source": [
    "#Enter “sunglasses” in the search field where “search for products, brands andmore” is written.\n",
    "search_product = driver.find_element_by_class_name(\"_3704LK\")\n",
    "search_product"
   ]
  },
  {
   "cell_type": "code",
   "execution_count": 232,
   "id": "3f6f3e0e",
   "metadata": {},
   "outputs": [],
   "source": [
    "search_product.send_keys(\"sunglasses\")"
   ]
  },
  {
   "cell_type": "code",
   "execution_count": 233,
   "id": "c0cabd86",
   "metadata": {},
   "outputs": [
    {
     "data": {
      "text/plain": [
       "<selenium.webdriver.remote.webelement.WebElement (session=\"132c065a5b12d1e7858d9167cf024aae\", element=\"b043e1de-4482-4bc7-9ed9-eb81ee6884eb\")>"
      ]
     },
     "execution_count": 233,
     "metadata": {},
     "output_type": "execute_result"
    }
   ],
   "source": [
    "# click the search icon\n",
    "search_btn = driver.find_element_by_xpath('/html/body/div[1]/div/div[1]/div[1]/div[2]/div[2]/form/div/button')\n",
    "search_btn"
   ]
  },
  {
   "cell_type": "code",
   "execution_count": 234,
   "id": "b28f88f3",
   "metadata": {},
   "outputs": [],
   "source": [
    "search_btn.click()"
   ]
  },
  {
   "cell_type": "raw",
   "id": "9e26ab3d",
   "metadata": {},
   "source": [
    "#From this pageyou can scrap the required data as usual"
   ]
  },
  {
   "cell_type": "markdown",
   "id": "e0eba6b3",
   "metadata": {},
   "source": [
    "# first page"
   ]
  },
  {
   "cell_type": "code",
   "execution_count": 235,
   "id": "307394e4",
   "metadata": {},
   "outputs": [
    {
     "data": {
      "text/plain": [
       "40"
      ]
     },
     "execution_count": 235,
     "metadata": {},
     "output_type": "execute_result"
    }
   ],
   "source": [
    "#brands\n",
    "\n",
    "brand_tags = driver.find_elements_by_xpath('//div[@class=\"_2WkVRV\"]')\n",
    "len(brand_tags)"
   ]
  },
  {
   "cell_type": "code",
   "execution_count": 236,
   "id": "80cd9eed",
   "metadata": {},
   "outputs": [
    {
     "data": {
      "text/plain": [
       "['Singco India',\n",
       " 'VINCENT CHASE',\n",
       " 'SRPM',\n",
       " 'SUNBEE',\n",
       " 'PIRASO',\n",
       " 'DEIXELS',\n",
       " 'Elligator',\n",
       " 'ROZZETTA CRAFT',\n",
       " 'Fastrack',\n",
       " 'New Specs',\n",
       " 'SHAAH COLLECTIONS',\n",
       " 'ROZZETTA CRAFT',\n",
       " 'kingsunglasses',\n",
       " 'GANSTA',\n",
       " 'PIRASO',\n",
       " 'ROZZETTA CRAFT',\n",
       " 'Fastrack',\n",
       " 'ROZZETTA CRAFT',\n",
       " 'Lee Topper',\n",
       " 'povty',\n",
       " 'Lee Topper',\n",
       " 'Silver Kartz',\n",
       " 'PHENOMENAL',\n",
       " 'ZOSTAL',\n",
       " 'Fastrack',\n",
       " 'kingsunglasses',\n",
       " 'Elligator',\n",
       " 'VINCENT CHASE',\n",
       " 'Rich Club',\n",
       " 'Fastrack',\n",
       " 'PIRASO',\n",
       " 'POLICE',\n",
       " 'kingsunglasses',\n",
       " 'Elligator',\n",
       " 'New Specs',\n",
       " 'Singco India',\n",
       " 'ROYAL SON',\n",
       " 'Fastrack',\n",
       " 'SRPM',\n",
       " 'LOUIS KOUROS']"
      ]
     },
     "execution_count": 236,
     "metadata": {},
     "output_type": "execute_result"
    }
   ],
   "source": [
    "brand_name = []\n",
    "\n",
    "for i in brand_tags:\n",
    "    brand_name.append(i.text)\n",
    "len(brand_name)\n",
    "brand_name[0:40]\n"
   ]
  },
  {
   "cell_type": "code",
   "execution_count": 237,
   "id": "9867de8e",
   "metadata": {},
   "outputs": [
    {
     "data": {
      "text/plain": [
       "40"
      ]
     },
     "execution_count": 237,
     "metadata": {},
     "output_type": "execute_result"
    }
   ],
   "source": [
    "# Product Description\n",
    "\n",
    "description_tags = driver.find_elements_by_xpath('//a[@class=\"IRpwTa\"]')\n",
    "len(description_tags)"
   ]
  },
  {
   "cell_type": "code",
   "execution_count": 209,
   "id": "d319eaab",
   "metadata": {},
   "outputs": [
    {
     "data": {
      "text/plain": [
       "['UV Protection Wayfarer Sunglasses (50)',\n",
       " 'UV Protection, Polarized Wayfarer Sunglasses (Free Size...',\n",
       " 'UV Protection Aviator Sunglasses (54)',\n",
       " 'UV Protection Aviator, Wayfarer Sunglasses (Free Size)',\n",
       " 'UV Protection Aviator Sunglasses (54)',\n",
       " 'UV Protection Round Sunglasses (54)',\n",
       " 'UV Protection Rectangular Sunglasses (Free Size)',\n",
       " 'UV Protection, Polarized, Mirrored Rectangular Sunglass...',\n",
       " 'UV Protection Rectangular Sunglasses (Free Size)',\n",
       " 'UV Protection, Riding Glasses, Mirrored Wayfarer Sungla...',\n",
       " 'UV Protection, Riding Glasses Wayfarer Sunglasses (53)',\n",
       " 'UV Protection Wayfarer Sunglasses (Free Size)',\n",
       " 'UV Protection Aviator Sunglasses (54)',\n",
       " 'UV Protection Rectangular Sunglasses (Free Size)',\n",
       " 'Polarized, Night Vision, Riding Glasses Sports, Wrap-ar...',\n",
       " 'Riding Glasses Wrap-around Sunglasses (Free Size)',\n",
       " 'UV Protection Wayfarer Sunglasses (Free Size)',\n",
       " 'UV Protection Wayfarer Sunglasses (55)',\n",
       " 'UV Protection Round Sunglasses (53)',\n",
       " 'UV Protection Round Sunglasses (48)',\n",
       " 'UV Protection Retro Square Sunglasses (53)',\n",
       " 'Polarized Retro Square Sunglasses (Free Size)',\n",
       " 'Mirrored, UV Protection Wayfarer Sunglasses (Free Size)',\n",
       " 'UV Protection Wayfarer Sunglasses (53)',\n",
       " 'UV Protection Round Sunglasses (54)',\n",
       " 'UV Protection Wayfarer Sunglasses (53)',\n",
       " 'UV Protection, Polarized, Mirrored Round Sunglasses (Fr...',\n",
       " 'Mirrored, UV Protection, Riding Glasses, Others Round S...',\n",
       " 'Mirrored Aviator Sunglasses (55)',\n",
       " 'Gradient, UV Protection Wayfarer Sunglasses (Free Size)',\n",
       " 'UV Protection Wayfarer Sunglasses (32)',\n",
       " 'Mirrored Aviator Sunglasses (Free Size)',\n",
       " 'UV Protection, Polarized, Mirrored Rectangular Sunglass...',\n",
       " 'UV Protection Round Sunglasses (Free Size)',\n",
       " 'Gradient, UV Protection Wayfarer Sunglasses (Free Size)',\n",
       " 'Mirrored, UV Protection Wayfarer, Rectangular Sunglasse...',\n",
       " 'Others Wayfarer, Retro Square Sunglasses (50)',\n",
       " 'UV Protection Aviator Sunglasses (57)',\n",
       " 'UV Protection Sports Sunglasses (62)',\n",
       " 'UV Protection Rectangular Sunglasses (59)']"
      ]
     },
     "execution_count": 209,
     "metadata": {},
     "output_type": "execute_result"
    }
   ],
   "source": [
    "product_description = []\n",
    "\n",
    "for i in description_tags:\n",
    "    product_description.append(i.text)\n",
    "len(product_description)\n",
    "product_description[0:40]"
   ]
  },
  {
   "cell_type": "code",
   "execution_count": 239,
   "id": "cc0186c2",
   "metadata": {},
   "outputs": [
    {
     "data": {
      "text/plain": [
       "40"
      ]
     },
     "execution_count": 239,
     "metadata": {},
     "output_type": "execute_result"
    }
   ],
   "source": [
    "# price\n",
    "\n",
    "price_tags = driver.find_elements_by_xpath('//div[@class=\"_30jeq3\"]')\n",
    "len(price_tags)"
   ]
  },
  {
   "cell_type": "code",
   "execution_count": 240,
   "id": "5558e41c",
   "metadata": {},
   "outputs": [
    {
     "data": {
      "text/plain": [
       "['₹614',\n",
       " '₹930',\n",
       " '₹148',\n",
       " '₹203',\n",
       " '₹179',\n",
       " '₹152',\n",
       " '₹208',\n",
       " '₹349',\n",
       " '₹629',\n",
       " '₹182',\n",
       " '₹115',\n",
       " '₹181',\n",
       " '₹134',\n",
       " '₹148',\n",
       " '₹175',\n",
       " '₹349',\n",
       " '₹549',\n",
       " '₹424',\n",
       " '₹149',\n",
       " '₹249',\n",
       " '₹225',\n",
       " '₹196',\n",
       " '₹239',\n",
       " '₹128',\n",
       " '₹548',\n",
       " '₹189',\n",
       " '₹139',\n",
       " '₹799',\n",
       " '₹210',\n",
       " '₹629',\n",
       " '₹175',\n",
       " '₹3,029',\n",
       " '₹136',\n",
       " '₹126',\n",
       " '₹213',\n",
       " '₹144',\n",
       " '₹329',\n",
       " '₹629',\n",
       " '₹128',\n",
       " '₹1,299']"
      ]
     },
     "execution_count": 240,
     "metadata": {},
     "output_type": "execute_result"
    }
   ],
   "source": [
    "price = []\n",
    "\n",
    "for i in price_tags:\n",
    "    price.append(i.text)\n",
    "len(price)\n",
    "price[0:40]\n"
   ]
  },
  {
   "cell_type": "code",
   "execution_count": 241,
   "id": "c09c9653",
   "metadata": {},
   "outputs": [
    {
     "data": {
      "text/html": [
       "<div>\n",
       "<style scoped>\n",
       "    .dataframe tbody tr th:only-of-type {\n",
       "        vertical-align: middle;\n",
       "    }\n",
       "\n",
       "    .dataframe tbody tr th {\n",
       "        vertical-align: top;\n",
       "    }\n",
       "\n",
       "    .dataframe thead th {\n",
       "        text-align: right;\n",
       "    }\n",
       "</style>\n",
       "<table border=\"1\" class=\"dataframe\">\n",
       "  <thead>\n",
       "    <tr style=\"text-align: right;\">\n",
       "      <th></th>\n",
       "      <th>Brand</th>\n",
       "      <th>Description</th>\n",
       "      <th>Price</th>\n",
       "    </tr>\n",
       "  </thead>\n",
       "  <tbody>\n",
       "    <tr>\n",
       "      <th>0</th>\n",
       "      <td>Singco India</td>\n",
       "      <td>UV Protection Wayfarer Sunglasses (50)</td>\n",
       "      <td>₹614</td>\n",
       "    </tr>\n",
       "    <tr>\n",
       "      <th>1</th>\n",
       "      <td>VINCENT CHASE</td>\n",
       "      <td>UV Protection, Polarized Wayfarer Sunglasses (...</td>\n",
       "      <td>₹930</td>\n",
       "    </tr>\n",
       "    <tr>\n",
       "      <th>2</th>\n",
       "      <td>SRPM</td>\n",
       "      <td>UV Protection Aviator Sunglasses (54)</td>\n",
       "      <td>₹148</td>\n",
       "    </tr>\n",
       "    <tr>\n",
       "      <th>3</th>\n",
       "      <td>SUNBEE</td>\n",
       "      <td>UV Protection Aviator, Wayfarer Sunglasses (Fr...</td>\n",
       "      <td>₹203</td>\n",
       "    </tr>\n",
       "    <tr>\n",
       "      <th>4</th>\n",
       "      <td>PIRASO</td>\n",
       "      <td>UV Protection Aviator Sunglasses (54)</td>\n",
       "      <td>₹179</td>\n",
       "    </tr>\n",
       "    <tr>\n",
       "      <th>5</th>\n",
       "      <td>DEIXELS</td>\n",
       "      <td>UV Protection Round Sunglasses (54)</td>\n",
       "      <td>₹152</td>\n",
       "    </tr>\n",
       "    <tr>\n",
       "      <th>6</th>\n",
       "      <td>Elligator</td>\n",
       "      <td>UV Protection Rectangular Sunglasses (Free Size)</td>\n",
       "      <td>₹208</td>\n",
       "    </tr>\n",
       "    <tr>\n",
       "      <th>7</th>\n",
       "      <td>ROZZETTA CRAFT</td>\n",
       "      <td>UV Protection, Polarized, Mirrored Rectangular...</td>\n",
       "      <td>₹349</td>\n",
       "    </tr>\n",
       "    <tr>\n",
       "      <th>8</th>\n",
       "      <td>Fastrack</td>\n",
       "      <td>UV Protection Rectangular Sunglasses (Free Size)</td>\n",
       "      <td>₹629</td>\n",
       "    </tr>\n",
       "    <tr>\n",
       "      <th>9</th>\n",
       "      <td>New Specs</td>\n",
       "      <td>UV Protection, Riding Glasses, Mirrored Wayfar...</td>\n",
       "      <td>₹182</td>\n",
       "    </tr>\n",
       "    <tr>\n",
       "      <th>10</th>\n",
       "      <td>SHAAH COLLECTIONS</td>\n",
       "      <td>UV Protection, Riding Glasses Wayfarer Sunglas...</td>\n",
       "      <td>₹115</td>\n",
       "    </tr>\n",
       "    <tr>\n",
       "      <th>11</th>\n",
       "      <td>ROZZETTA CRAFT</td>\n",
       "      <td>UV Protection Wayfarer Sunglasses (Free Size)</td>\n",
       "      <td>₹181</td>\n",
       "    </tr>\n",
       "    <tr>\n",
       "      <th>12</th>\n",
       "      <td>kingsunglasses</td>\n",
       "      <td>UV Protection Aviator Sunglasses (54)</td>\n",
       "      <td>₹134</td>\n",
       "    </tr>\n",
       "    <tr>\n",
       "      <th>13</th>\n",
       "      <td>GANSTA</td>\n",
       "      <td>UV Protection Rectangular Sunglasses (Free Size)</td>\n",
       "      <td>₹148</td>\n",
       "    </tr>\n",
       "    <tr>\n",
       "      <th>14</th>\n",
       "      <td>PIRASO</td>\n",
       "      <td>Polarized, Night Vision, Riding Glasses Sports...</td>\n",
       "      <td>₹175</td>\n",
       "    </tr>\n",
       "    <tr>\n",
       "      <th>15</th>\n",
       "      <td>ROZZETTA CRAFT</td>\n",
       "      <td>Riding Glasses Wrap-around Sunglasses (Free Size)</td>\n",
       "      <td>₹349</td>\n",
       "    </tr>\n",
       "    <tr>\n",
       "      <th>16</th>\n",
       "      <td>Fastrack</td>\n",
       "      <td>UV Protection Wayfarer Sunglasses (Free Size)</td>\n",
       "      <td>₹549</td>\n",
       "    </tr>\n",
       "    <tr>\n",
       "      <th>17</th>\n",
       "      <td>ROZZETTA CRAFT</td>\n",
       "      <td>UV Protection Wayfarer Sunglasses (55)</td>\n",
       "      <td>₹424</td>\n",
       "    </tr>\n",
       "    <tr>\n",
       "      <th>18</th>\n",
       "      <td>Lee Topper</td>\n",
       "      <td>UV Protection Round Sunglasses (53)</td>\n",
       "      <td>₹149</td>\n",
       "    </tr>\n",
       "    <tr>\n",
       "      <th>19</th>\n",
       "      <td>povty</td>\n",
       "      <td>UV Protection Round Sunglasses (48)</td>\n",
       "      <td>₹249</td>\n",
       "    </tr>\n",
       "    <tr>\n",
       "      <th>20</th>\n",
       "      <td>Lee Topper</td>\n",
       "      <td>UV Protection Retro Square Sunglasses (53)</td>\n",
       "      <td>₹225</td>\n",
       "    </tr>\n",
       "    <tr>\n",
       "      <th>21</th>\n",
       "      <td>Silver Kartz</td>\n",
       "      <td>Polarized Retro Square Sunglasses (Free Size)</td>\n",
       "      <td>₹196</td>\n",
       "    </tr>\n",
       "    <tr>\n",
       "      <th>22</th>\n",
       "      <td>PHENOMENAL</td>\n",
       "      <td>Mirrored, UV Protection Wayfarer Sunglasses (F...</td>\n",
       "      <td>₹239</td>\n",
       "    </tr>\n",
       "    <tr>\n",
       "      <th>23</th>\n",
       "      <td>ZOSTAL</td>\n",
       "      <td>UV Protection Wayfarer Sunglasses (53)</td>\n",
       "      <td>₹128</td>\n",
       "    </tr>\n",
       "    <tr>\n",
       "      <th>24</th>\n",
       "      <td>Fastrack</td>\n",
       "      <td>UV Protection Round Sunglasses (54)</td>\n",
       "      <td>₹548</td>\n",
       "    </tr>\n",
       "    <tr>\n",
       "      <th>25</th>\n",
       "      <td>kingsunglasses</td>\n",
       "      <td>UV Protection Wayfarer Sunglasses (53)</td>\n",
       "      <td>₹189</td>\n",
       "    </tr>\n",
       "    <tr>\n",
       "      <th>26</th>\n",
       "      <td>Elligator</td>\n",
       "      <td>UV Protection, Polarized, Mirrored Round Sungl...</td>\n",
       "      <td>₹139</td>\n",
       "    </tr>\n",
       "    <tr>\n",
       "      <th>27</th>\n",
       "      <td>VINCENT CHASE</td>\n",
       "      <td>Mirrored, UV Protection, Riding Glasses, Other...</td>\n",
       "      <td>₹799</td>\n",
       "    </tr>\n",
       "    <tr>\n",
       "      <th>28</th>\n",
       "      <td>Rich Club</td>\n",
       "      <td>Mirrored Aviator Sunglasses (55)</td>\n",
       "      <td>₹210</td>\n",
       "    </tr>\n",
       "    <tr>\n",
       "      <th>29</th>\n",
       "      <td>Fastrack</td>\n",
       "      <td>Gradient, UV Protection Wayfarer Sunglasses (F...</td>\n",
       "      <td>₹629</td>\n",
       "    </tr>\n",
       "    <tr>\n",
       "      <th>30</th>\n",
       "      <td>PIRASO</td>\n",
       "      <td>UV Protection Wayfarer Sunglasses (32)</td>\n",
       "      <td>₹175</td>\n",
       "    </tr>\n",
       "    <tr>\n",
       "      <th>31</th>\n",
       "      <td>POLICE</td>\n",
       "      <td>Mirrored Aviator Sunglasses (Free Size)</td>\n",
       "      <td>₹3,029</td>\n",
       "    </tr>\n",
       "    <tr>\n",
       "      <th>32</th>\n",
       "      <td>kingsunglasses</td>\n",
       "      <td>UV Protection, Polarized, Mirrored Rectangular...</td>\n",
       "      <td>₹136</td>\n",
       "    </tr>\n",
       "    <tr>\n",
       "      <th>33</th>\n",
       "      <td>Elligator</td>\n",
       "      <td>UV Protection Round Sunglasses (Free Size)</td>\n",
       "      <td>₹126</td>\n",
       "    </tr>\n",
       "    <tr>\n",
       "      <th>34</th>\n",
       "      <td>New Specs</td>\n",
       "      <td>Gradient, UV Protection Wayfarer Sunglasses (F...</td>\n",
       "      <td>₹213</td>\n",
       "    </tr>\n",
       "    <tr>\n",
       "      <th>35</th>\n",
       "      <td>Singco India</td>\n",
       "      <td>Mirrored, UV Protection Wayfarer, Rectangular ...</td>\n",
       "      <td>₹144</td>\n",
       "    </tr>\n",
       "    <tr>\n",
       "      <th>36</th>\n",
       "      <td>ROYAL SON</td>\n",
       "      <td>Others Wayfarer, Retro Square Sunglasses (50)</td>\n",
       "      <td>₹329</td>\n",
       "    </tr>\n",
       "    <tr>\n",
       "      <th>37</th>\n",
       "      <td>Fastrack</td>\n",
       "      <td>UV Protection Aviator Sunglasses (57)</td>\n",
       "      <td>₹629</td>\n",
       "    </tr>\n",
       "    <tr>\n",
       "      <th>38</th>\n",
       "      <td>SRPM</td>\n",
       "      <td>UV Protection Sports Sunglasses (62)</td>\n",
       "      <td>₹128</td>\n",
       "    </tr>\n",
       "    <tr>\n",
       "      <th>39</th>\n",
       "      <td>LOUIS KOUROS</td>\n",
       "      <td>UV Protection Rectangular Sunglasses (59)</td>\n",
       "      <td>₹1,299</td>\n",
       "    </tr>\n",
       "  </tbody>\n",
       "</table>\n",
       "</div>"
      ],
      "text/plain": [
       "                Brand                                        Description  \\\n",
       "0        Singco India             UV Protection Wayfarer Sunglasses (50)   \n",
       "1       VINCENT CHASE  UV Protection, Polarized Wayfarer Sunglasses (...   \n",
       "2                SRPM              UV Protection Aviator Sunglasses (54)   \n",
       "3              SUNBEE  UV Protection Aviator, Wayfarer Sunglasses (Fr...   \n",
       "4              PIRASO              UV Protection Aviator Sunglasses (54)   \n",
       "5             DEIXELS                UV Protection Round Sunglasses (54)   \n",
       "6           Elligator   UV Protection Rectangular Sunglasses (Free Size)   \n",
       "7      ROZZETTA CRAFT  UV Protection, Polarized, Mirrored Rectangular...   \n",
       "8            Fastrack   UV Protection Rectangular Sunglasses (Free Size)   \n",
       "9           New Specs  UV Protection, Riding Glasses, Mirrored Wayfar...   \n",
       "10  SHAAH COLLECTIONS  UV Protection, Riding Glasses Wayfarer Sunglas...   \n",
       "11     ROZZETTA CRAFT      UV Protection Wayfarer Sunglasses (Free Size)   \n",
       "12     kingsunglasses              UV Protection Aviator Sunglasses (54)   \n",
       "13             GANSTA   UV Protection Rectangular Sunglasses (Free Size)   \n",
       "14             PIRASO  Polarized, Night Vision, Riding Glasses Sports...   \n",
       "15     ROZZETTA CRAFT  Riding Glasses Wrap-around Sunglasses (Free Size)   \n",
       "16           Fastrack      UV Protection Wayfarer Sunglasses (Free Size)   \n",
       "17     ROZZETTA CRAFT             UV Protection Wayfarer Sunglasses (55)   \n",
       "18         Lee Topper                UV Protection Round Sunglasses (53)   \n",
       "19              povty                UV Protection Round Sunglasses (48)   \n",
       "20         Lee Topper         UV Protection Retro Square Sunglasses (53)   \n",
       "21       Silver Kartz      Polarized Retro Square Sunglasses (Free Size)   \n",
       "22         PHENOMENAL  Mirrored, UV Protection Wayfarer Sunglasses (F...   \n",
       "23             ZOSTAL             UV Protection Wayfarer Sunglasses (53)   \n",
       "24           Fastrack                UV Protection Round Sunglasses (54)   \n",
       "25     kingsunglasses             UV Protection Wayfarer Sunglasses (53)   \n",
       "26          Elligator  UV Protection, Polarized, Mirrored Round Sungl...   \n",
       "27      VINCENT CHASE  Mirrored, UV Protection, Riding Glasses, Other...   \n",
       "28          Rich Club                   Mirrored Aviator Sunglasses (55)   \n",
       "29           Fastrack  Gradient, UV Protection Wayfarer Sunglasses (F...   \n",
       "30             PIRASO             UV Protection Wayfarer Sunglasses (32)   \n",
       "31             POLICE            Mirrored Aviator Sunglasses (Free Size)   \n",
       "32     kingsunglasses  UV Protection, Polarized, Mirrored Rectangular...   \n",
       "33          Elligator         UV Protection Round Sunglasses (Free Size)   \n",
       "34          New Specs  Gradient, UV Protection Wayfarer Sunglasses (F...   \n",
       "35       Singco India  Mirrored, UV Protection Wayfarer, Rectangular ...   \n",
       "36          ROYAL SON      Others Wayfarer, Retro Square Sunglasses (50)   \n",
       "37           Fastrack              UV Protection Aviator Sunglasses (57)   \n",
       "38               SRPM               UV Protection Sports Sunglasses (62)   \n",
       "39       LOUIS KOUROS          UV Protection Rectangular Sunglasses (59)   \n",
       "\n",
       "     Price  \n",
       "0     ₹614  \n",
       "1     ₹930  \n",
       "2     ₹148  \n",
       "3     ₹203  \n",
       "4     ₹179  \n",
       "5     ₹152  \n",
       "6     ₹208  \n",
       "7     ₹349  \n",
       "8     ₹629  \n",
       "9     ₹182  \n",
       "10    ₹115  \n",
       "11    ₹181  \n",
       "12    ₹134  \n",
       "13    ₹148  \n",
       "14    ₹175  \n",
       "15    ₹349  \n",
       "16    ₹549  \n",
       "17    ₹424  \n",
       "18    ₹149  \n",
       "19    ₹249  \n",
       "20    ₹225  \n",
       "21    ₹196  \n",
       "22    ₹239  \n",
       "23    ₹128  \n",
       "24    ₹548  \n",
       "25    ₹189  \n",
       "26    ₹139  \n",
       "27    ₹799  \n",
       "28    ₹210  \n",
       "29    ₹629  \n",
       "30    ₹175  \n",
       "31  ₹3,029  \n",
       "32    ₹136  \n",
       "33    ₹126  \n",
       "34    ₹213  \n",
       "35    ₹144  \n",
       "36    ₹329  \n",
       "37    ₹629  \n",
       "38    ₹128  \n",
       "39  ₹1,299  "
      ]
     },
     "execution_count": 241,
     "metadata": {},
     "output_type": "execute_result"
    }
   ],
   "source": [
    "Sunglasses_1 = pd.DataFrame()\n",
    "Sunglasses_1['Brand'] = brand_name\n",
    "Sunglasses_1['Description'] =product_description\n",
    "Sunglasses_1['Price'] = price\n",
    "Sunglasses_1"
   ]
  },
  {
   "cell_type": "code",
   "execution_count": 242,
   "id": "fd03d402",
   "metadata": {},
   "outputs": [
    {
     "data": {
      "text/plain": [
       "<selenium.webdriver.remote.webelement.WebElement (session=\"132c065a5b12d1e7858d9167cf024aae\", element=\"b043e1de-4482-4bc7-9ed9-eb81ee6884eb\")>"
      ]
     },
     "execution_count": 242,
     "metadata": {},
     "output_type": "execute_result"
    }
   ],
   "source": [
    "# Go to the “Next” Button at the bottom of the page , then click on it\n",
    "\n",
    "next_btn = driver.find_element_by_xpath('/html/body/div[1]/div/div[3]/div[1]/div[2]/div[12]/div/div/nav/a[11]')\n",
    "search_btn"
   ]
  },
  {
   "cell_type": "markdown",
   "id": "24bd895a",
   "metadata": {},
   "source": [
    "# second page"
   ]
  },
  {
   "cell_type": "code",
   "execution_count": 243,
   "id": "21252b9a",
   "metadata": {},
   "outputs": [],
   "source": [
    "next_btn.click()"
   ]
  },
  {
   "cell_type": "code",
   "execution_count": 244,
   "id": "bd77e840",
   "metadata": {},
   "outputs": [
    {
     "data": {
      "text/plain": [
       "40"
      ]
     },
     "execution_count": 244,
     "metadata": {},
     "output_type": "execute_result"
    }
   ],
   "source": [
    "#brands\n",
    "\n",
    "brand_tags = driver.find_elements_by_xpath('//div[@class=\"_2WkVRV\"]')\n",
    "len(brand_tags)"
   ]
  },
  {
   "cell_type": "code",
   "execution_count": 245,
   "id": "8e105681",
   "metadata": {},
   "outputs": [
    {
     "data": {
      "text/plain": [
       "['kingsunglasses',\n",
       " 'GANSTA',\n",
       " 'NuVew',\n",
       " 'LOUIS KOUROS',\n",
       " 'ROYAL SON',\n",
       " 'ROZZETTA CRAFT',\n",
       " 'PHENOMENAL',\n",
       " 'ROZZETTA CRAFT',\n",
       " 'PIRASO',\n",
       " 'New Specs',\n",
       " 'Rich Club',\n",
       " 'NuVew',\n",
       " 'SRPM',\n",
       " 'PIRASO',\n",
       " 'PIRASO',\n",
       " 'LOUIS KOUROS',\n",
       " 'PIRASO',\n",
       " 'ROYAL SON',\n",
       " 'VINCENT CHASE',\n",
       " 'ROZZETTA CRAFT',\n",
       " 'PIRASO',\n",
       " 'IDEE',\n",
       " 'IDEE',\n",
       " 'DJIN',\n",
       " 'Singco India',\n",
       " 'IDEE',\n",
       " 'New Specs',\n",
       " 'NuVew',\n",
       " 'Lee Topper',\n",
       " 'PHENOMENAL',\n",
       " 'Lee Topper',\n",
       " 'AISLIN',\n",
       " 'kingsunglasses',\n",
       " 'ROZZETTA CRAFT',\n",
       " 'hipe',\n",
       " 'NuVew',\n",
       " 'SUNBEE',\n",
       " 'kingsunglasses',\n",
       " 'Poloport',\n",
       " 'Soul Hub']"
      ]
     },
     "execution_count": 245,
     "metadata": {},
     "output_type": "execute_result"
    }
   ],
   "source": [
    "brand_name = []\n",
    "\n",
    "for i in brand_tags:\n",
    "    brand_name.append(i.text)\n",
    "len(brand_name)\n",
    "brand_name[0:40]"
   ]
  },
  {
   "cell_type": "code",
   "execution_count": 246,
   "id": "c02318cd",
   "metadata": {},
   "outputs": [
    {
     "data": {
      "text/plain": [
       "40"
      ]
     },
     "execution_count": 246,
     "metadata": {},
     "output_type": "execute_result"
    }
   ],
   "source": [
    "# Product Description\n",
    "\n",
    "description_tags = driver.find_elements_by_xpath('//a[@class=\"IRpwTa\"]')\n",
    "len(description_tags)"
   ]
  },
  {
   "cell_type": "code",
   "execution_count": 247,
   "id": "a4c71982",
   "metadata": {},
   "outputs": [
    {
     "data": {
      "text/plain": [
       "['Mirrored, UV Protection Wayfarer, Rectangular Sunglasse...',\n",
       " 'UV Protection Aviator Sunglasses (57)',\n",
       " 'UV Protection Sports Sunglasses (62)',\n",
       " 'UV Protection Aviator Sunglasses (60)',\n",
       " 'Mirrored Aviator Sunglasses (Free Size)',\n",
       " 'UV Protection Retro Square Sunglasses (Free Size)',\n",
       " 'UV Protection Retro Square Sunglasses (Free Size)',\n",
       " 'UV Protection Aviator Sunglasses (62)',\n",
       " 'UV Protection Aviator Sunglasses (Free Size)',\n",
       " 'UV Protection Aviator Sunglasses (Free Size)',\n",
       " 'Polarized Round Sunglasses (48)',\n",
       " 'UV Protection Cat-eye Sunglasses (60)',\n",
       " 'Night Vision, UV Protection Round Sunglasses (54)',\n",
       " 'UV Protection Butterfly Sunglasses (65)',\n",
       " 'UV Protection Aviator Sunglasses (58)',\n",
       " 'UV Protection, Riding Glasses, Mirrored Aviator Sunglas...',\n",
       " 'Mirrored Aviator Sunglasses (32)',\n",
       " 'Mirrored Aviator Sunglasses (55)',\n",
       " 'by Lenskart Polarized, UV Protection Wayfarer Sunglasse...',\n",
       " 'UV Protection, Gradient Retro Square Sunglasses (62)',\n",
       " 'UV Protection Butterfly Sunglasses (60)',\n",
       " 'UV Protection Cat-eye Sunglasses (17)',\n",
       " 'UV Protection Over-sized Sunglasses (57)',\n",
       " 'Night Vision, Riding Glasses Sports Sunglasses (52)',\n",
       " 'Mirrored, Riding Glasses, Others Sports Sunglasses (50)',\n",
       " 'UV Protection Cat-eye Sunglasses (17)',\n",
       " 'UV Protection, Mirrored Sports Sunglasses (Free Size)',\n",
       " 'UV Protection Aviator Sunglasses (57)',\n",
       " 'UV Protection, Riding Glasses Retro Square, Spectacle ...',\n",
       " 'UV Protection, Mirrored Retro Square Sunglasses (53)',\n",
       " 'Riding Glasses, Night Vision Wrap-around Sunglasses (Fr...',\n",
       " 'UV Protection, Gradient Round, Cat-eye Sunglasses (60)',\n",
       " 'UV Protection Rectangular Sunglasses (Free Size)',\n",
       " 'UV Protection, Gradient Rectangular Sunglasses (Free Si...',\n",
       " 'UV Protection, Gradient, Mirrored, Riding Glasses Aviat...',\n",
       " 'UV Protection Cat-eye Sunglasses (60)',\n",
       " 'UV Protection, Polarized, Mirrored Retro Square Sunglas...',\n",
       " 'UV Protection, Others Round, Aviator Sunglasses (54)',\n",
       " 'UV Protection Wayfarer Sunglasses (Free Size)',\n",
       " 'UV Protection, Mirrored Aviator Sunglasses (Free Size)']"
      ]
     },
     "execution_count": 247,
     "metadata": {},
     "output_type": "execute_result"
    }
   ],
   "source": [
    "product_description = []\n",
    "\n",
    "for i in description_tags:\n",
    "    product_description.append(i.text)\n",
    "len(product_description)\n",
    "product_description[0:40]"
   ]
  },
  {
   "cell_type": "code",
   "execution_count": 248,
   "id": "c91bbea7",
   "metadata": {},
   "outputs": [
    {
     "data": {
      "text/plain": [
       "40"
      ]
     },
     "execution_count": 248,
     "metadata": {},
     "output_type": "execute_result"
    }
   ],
   "source": [
    "# price\n",
    "\n",
    "price_tags = driver.find_elements_by_xpath('//div[@class=\"_30jeq3\"]')\n",
    "len(price_tags)"
   ]
  },
  {
   "cell_type": "code",
   "execution_count": 249,
   "id": "c1be0ed9",
   "metadata": {},
   "outputs": [
    {
     "data": {
      "text/plain": [
       "['₹208',\n",
       " '₹234',\n",
       " '₹277',\n",
       " '₹1,299',\n",
       " '₹329',\n",
       " '₹424',\n",
       " '₹278',\n",
       " '₹599',\n",
       " '₹249',\n",
       " '₹133',\n",
       " '₹125',\n",
       " '₹345',\n",
       " '₹149',\n",
       " '₹325',\n",
       " '₹299',\n",
       " '₹1,419',\n",
       " '₹149',\n",
       " '₹329',\n",
       " '₹749',\n",
       " '₹449',\n",
       " '₹325',\n",
       " '₹869',\n",
       " '₹929',\n",
       " '₹179',\n",
       " '₹144',\n",
       " '₹859',\n",
       " '₹108',\n",
       " '₹258',\n",
       " '₹325',\n",
       " '₹267',\n",
       " '₹226',\n",
       " '₹396',\n",
       " '₹130',\n",
       " '₹349',\n",
       " '₹159',\n",
       " '₹353',\n",
       " '₹180',\n",
       " '₹129',\n",
       " '₹186',\n",
       " '₹1,299']"
      ]
     },
     "execution_count": 249,
     "metadata": {},
     "output_type": "execute_result"
    }
   ],
   "source": [
    "price = []\n",
    "\n",
    "for i in price_tags:\n",
    "    price.append(i.text)\n",
    "len(price)\n",
    "price[0:40]\n"
   ]
  },
  {
   "cell_type": "code",
   "execution_count": 250,
   "id": "4f16b188",
   "metadata": {},
   "outputs": [
    {
     "data": {
      "text/html": [
       "<div>\n",
       "<style scoped>\n",
       "    .dataframe tbody tr th:only-of-type {\n",
       "        vertical-align: middle;\n",
       "    }\n",
       "\n",
       "    .dataframe tbody tr th {\n",
       "        vertical-align: top;\n",
       "    }\n",
       "\n",
       "    .dataframe thead th {\n",
       "        text-align: right;\n",
       "    }\n",
       "</style>\n",
       "<table border=\"1\" class=\"dataframe\">\n",
       "  <thead>\n",
       "    <tr style=\"text-align: right;\">\n",
       "      <th></th>\n",
       "      <th>Brand</th>\n",
       "      <th>Description</th>\n",
       "      <th>Price</th>\n",
       "    </tr>\n",
       "  </thead>\n",
       "  <tbody>\n",
       "    <tr>\n",
       "      <th>0</th>\n",
       "      <td>kingsunglasses</td>\n",
       "      <td>Mirrored, UV Protection Wayfarer, Rectangular ...</td>\n",
       "      <td>₹208</td>\n",
       "    </tr>\n",
       "    <tr>\n",
       "      <th>1</th>\n",
       "      <td>GANSTA</td>\n",
       "      <td>UV Protection Aviator Sunglasses (57)</td>\n",
       "      <td>₹234</td>\n",
       "    </tr>\n",
       "    <tr>\n",
       "      <th>2</th>\n",
       "      <td>NuVew</td>\n",
       "      <td>UV Protection Sports Sunglasses (62)</td>\n",
       "      <td>₹277</td>\n",
       "    </tr>\n",
       "    <tr>\n",
       "      <th>3</th>\n",
       "      <td>LOUIS KOUROS</td>\n",
       "      <td>UV Protection Aviator Sunglasses (60)</td>\n",
       "      <td>₹1,299</td>\n",
       "    </tr>\n",
       "    <tr>\n",
       "      <th>4</th>\n",
       "      <td>ROYAL SON</td>\n",
       "      <td>Mirrored Aviator Sunglasses (Free Size)</td>\n",
       "      <td>₹329</td>\n",
       "    </tr>\n",
       "    <tr>\n",
       "      <th>5</th>\n",
       "      <td>ROZZETTA CRAFT</td>\n",
       "      <td>UV Protection Retro Square Sunglasses (Free Size)</td>\n",
       "      <td>₹424</td>\n",
       "    </tr>\n",
       "    <tr>\n",
       "      <th>6</th>\n",
       "      <td>PHENOMENAL</td>\n",
       "      <td>UV Protection Retro Square Sunglasses (Free Size)</td>\n",
       "      <td>₹278</td>\n",
       "    </tr>\n",
       "    <tr>\n",
       "      <th>7</th>\n",
       "      <td>ROZZETTA CRAFT</td>\n",
       "      <td>UV Protection Aviator Sunglasses (62)</td>\n",
       "      <td>₹599</td>\n",
       "    </tr>\n",
       "    <tr>\n",
       "      <th>8</th>\n",
       "      <td>PIRASO</td>\n",
       "      <td>UV Protection Aviator Sunglasses (Free Size)</td>\n",
       "      <td>₹249</td>\n",
       "    </tr>\n",
       "    <tr>\n",
       "      <th>9</th>\n",
       "      <td>New Specs</td>\n",
       "      <td>UV Protection Aviator Sunglasses (Free Size)</td>\n",
       "      <td>₹133</td>\n",
       "    </tr>\n",
       "    <tr>\n",
       "      <th>10</th>\n",
       "      <td>Rich Club</td>\n",
       "      <td>Polarized Round Sunglasses (48)</td>\n",
       "      <td>₹125</td>\n",
       "    </tr>\n",
       "    <tr>\n",
       "      <th>11</th>\n",
       "      <td>NuVew</td>\n",
       "      <td>UV Protection Cat-eye Sunglasses (60)</td>\n",
       "      <td>₹345</td>\n",
       "    </tr>\n",
       "    <tr>\n",
       "      <th>12</th>\n",
       "      <td>SRPM</td>\n",
       "      <td>Night Vision, UV Protection Round Sunglasses (54)</td>\n",
       "      <td>₹149</td>\n",
       "    </tr>\n",
       "    <tr>\n",
       "      <th>13</th>\n",
       "      <td>PIRASO</td>\n",
       "      <td>UV Protection Butterfly Sunglasses (65)</td>\n",
       "      <td>₹325</td>\n",
       "    </tr>\n",
       "    <tr>\n",
       "      <th>14</th>\n",
       "      <td>PIRASO</td>\n",
       "      <td>UV Protection Aviator Sunglasses (58)</td>\n",
       "      <td>₹299</td>\n",
       "    </tr>\n",
       "    <tr>\n",
       "      <th>15</th>\n",
       "      <td>LOUIS KOUROS</td>\n",
       "      <td>UV Protection, Riding Glasses, Mirrored Aviato...</td>\n",
       "      <td>₹1,419</td>\n",
       "    </tr>\n",
       "    <tr>\n",
       "      <th>16</th>\n",
       "      <td>PIRASO</td>\n",
       "      <td>Mirrored Aviator Sunglasses (32)</td>\n",
       "      <td>₹149</td>\n",
       "    </tr>\n",
       "    <tr>\n",
       "      <th>17</th>\n",
       "      <td>ROYAL SON</td>\n",
       "      <td>Mirrored Aviator Sunglasses (55)</td>\n",
       "      <td>₹329</td>\n",
       "    </tr>\n",
       "    <tr>\n",
       "      <th>18</th>\n",
       "      <td>VINCENT CHASE</td>\n",
       "      <td>by Lenskart Polarized, UV Protection Wayfarer ...</td>\n",
       "      <td>₹749</td>\n",
       "    </tr>\n",
       "    <tr>\n",
       "      <th>19</th>\n",
       "      <td>ROZZETTA CRAFT</td>\n",
       "      <td>UV Protection, Gradient Retro Square Sunglasse...</td>\n",
       "      <td>₹449</td>\n",
       "    </tr>\n",
       "    <tr>\n",
       "      <th>20</th>\n",
       "      <td>PIRASO</td>\n",
       "      <td>UV Protection Butterfly Sunglasses (60)</td>\n",
       "      <td>₹325</td>\n",
       "    </tr>\n",
       "    <tr>\n",
       "      <th>21</th>\n",
       "      <td>IDEE</td>\n",
       "      <td>UV Protection Cat-eye Sunglasses (17)</td>\n",
       "      <td>₹869</td>\n",
       "    </tr>\n",
       "    <tr>\n",
       "      <th>22</th>\n",
       "      <td>IDEE</td>\n",
       "      <td>UV Protection Over-sized Sunglasses (57)</td>\n",
       "      <td>₹929</td>\n",
       "    </tr>\n",
       "    <tr>\n",
       "      <th>23</th>\n",
       "      <td>DJIN</td>\n",
       "      <td>Night Vision, Riding Glasses Sports Sunglasses...</td>\n",
       "      <td>₹179</td>\n",
       "    </tr>\n",
       "    <tr>\n",
       "      <th>24</th>\n",
       "      <td>Singco India</td>\n",
       "      <td>Mirrored, Riding Glasses, Others Sports Sungla...</td>\n",
       "      <td>₹144</td>\n",
       "    </tr>\n",
       "    <tr>\n",
       "      <th>25</th>\n",
       "      <td>IDEE</td>\n",
       "      <td>UV Protection Cat-eye Sunglasses (17)</td>\n",
       "      <td>₹859</td>\n",
       "    </tr>\n",
       "    <tr>\n",
       "      <th>26</th>\n",
       "      <td>New Specs</td>\n",
       "      <td>UV Protection, Mirrored Sports Sunglasses (Fre...</td>\n",
       "      <td>₹108</td>\n",
       "    </tr>\n",
       "    <tr>\n",
       "      <th>27</th>\n",
       "      <td>NuVew</td>\n",
       "      <td>UV Protection Aviator Sunglasses (57)</td>\n",
       "      <td>₹258</td>\n",
       "    </tr>\n",
       "    <tr>\n",
       "      <th>28</th>\n",
       "      <td>Lee Topper</td>\n",
       "      <td>UV Protection, Riding Glasses Retro Square, Sp...</td>\n",
       "      <td>₹325</td>\n",
       "    </tr>\n",
       "    <tr>\n",
       "      <th>29</th>\n",
       "      <td>PHENOMENAL</td>\n",
       "      <td>UV Protection, Mirrored Retro Square Sunglasse...</td>\n",
       "      <td>₹267</td>\n",
       "    </tr>\n",
       "    <tr>\n",
       "      <th>30</th>\n",
       "      <td>Lee Topper</td>\n",
       "      <td>Riding Glasses, Night Vision Wrap-around Sungl...</td>\n",
       "      <td>₹226</td>\n",
       "    </tr>\n",
       "    <tr>\n",
       "      <th>31</th>\n",
       "      <td>AISLIN</td>\n",
       "      <td>UV Protection, Gradient Round, Cat-eye Sunglas...</td>\n",
       "      <td>₹396</td>\n",
       "    </tr>\n",
       "    <tr>\n",
       "      <th>32</th>\n",
       "      <td>kingsunglasses</td>\n",
       "      <td>UV Protection Rectangular Sunglasses (Free Size)</td>\n",
       "      <td>₹130</td>\n",
       "    </tr>\n",
       "    <tr>\n",
       "      <th>33</th>\n",
       "      <td>ROZZETTA CRAFT</td>\n",
       "      <td>UV Protection, Gradient Rectangular Sunglasses...</td>\n",
       "      <td>₹349</td>\n",
       "    </tr>\n",
       "    <tr>\n",
       "      <th>34</th>\n",
       "      <td>hipe</td>\n",
       "      <td>UV Protection, Gradient, Mirrored, Riding Glas...</td>\n",
       "      <td>₹159</td>\n",
       "    </tr>\n",
       "    <tr>\n",
       "      <th>35</th>\n",
       "      <td>NuVew</td>\n",
       "      <td>UV Protection Cat-eye Sunglasses (60)</td>\n",
       "      <td>₹353</td>\n",
       "    </tr>\n",
       "    <tr>\n",
       "      <th>36</th>\n",
       "      <td>SUNBEE</td>\n",
       "      <td>UV Protection, Polarized, Mirrored Retro Squar...</td>\n",
       "      <td>₹180</td>\n",
       "    </tr>\n",
       "    <tr>\n",
       "      <th>37</th>\n",
       "      <td>kingsunglasses</td>\n",
       "      <td>UV Protection, Others Round, Aviator Sunglasse...</td>\n",
       "      <td>₹129</td>\n",
       "    </tr>\n",
       "    <tr>\n",
       "      <th>38</th>\n",
       "      <td>Poloport</td>\n",
       "      <td>UV Protection Wayfarer Sunglasses (Free Size)</td>\n",
       "      <td>₹186</td>\n",
       "    </tr>\n",
       "    <tr>\n",
       "      <th>39</th>\n",
       "      <td>Soul Hub</td>\n",
       "      <td>UV Protection, Mirrored Aviator Sunglasses (Fr...</td>\n",
       "      <td>₹1,299</td>\n",
       "    </tr>\n",
       "  </tbody>\n",
       "</table>\n",
       "</div>"
      ],
      "text/plain": [
       "             Brand                                        Description   Price\n",
       "0   kingsunglasses  Mirrored, UV Protection Wayfarer, Rectangular ...    ₹208\n",
       "1           GANSTA              UV Protection Aviator Sunglasses (57)    ₹234\n",
       "2            NuVew               UV Protection Sports Sunglasses (62)    ₹277\n",
       "3     LOUIS KOUROS              UV Protection Aviator Sunglasses (60)  ₹1,299\n",
       "4        ROYAL SON            Mirrored Aviator Sunglasses (Free Size)    ₹329\n",
       "5   ROZZETTA CRAFT  UV Protection Retro Square Sunglasses (Free Size)    ₹424\n",
       "6       PHENOMENAL  UV Protection Retro Square Sunglasses (Free Size)    ₹278\n",
       "7   ROZZETTA CRAFT              UV Protection Aviator Sunglasses (62)    ₹599\n",
       "8           PIRASO       UV Protection Aviator Sunglasses (Free Size)    ₹249\n",
       "9        New Specs       UV Protection Aviator Sunglasses (Free Size)    ₹133\n",
       "10       Rich Club                    Polarized Round Sunglasses (48)    ₹125\n",
       "11           NuVew              UV Protection Cat-eye Sunglasses (60)    ₹345\n",
       "12            SRPM  Night Vision, UV Protection Round Sunglasses (54)    ₹149\n",
       "13          PIRASO            UV Protection Butterfly Sunglasses (65)    ₹325\n",
       "14          PIRASO              UV Protection Aviator Sunglasses (58)    ₹299\n",
       "15    LOUIS KOUROS  UV Protection, Riding Glasses, Mirrored Aviato...  ₹1,419\n",
       "16          PIRASO                   Mirrored Aviator Sunglasses (32)    ₹149\n",
       "17       ROYAL SON                   Mirrored Aviator Sunglasses (55)    ₹329\n",
       "18   VINCENT CHASE  by Lenskart Polarized, UV Protection Wayfarer ...    ₹749\n",
       "19  ROZZETTA CRAFT  UV Protection, Gradient Retro Square Sunglasse...    ₹449\n",
       "20          PIRASO            UV Protection Butterfly Sunglasses (60)    ₹325\n",
       "21            IDEE              UV Protection Cat-eye Sunglasses (17)    ₹869\n",
       "22            IDEE           UV Protection Over-sized Sunglasses (57)    ₹929\n",
       "23            DJIN  Night Vision, Riding Glasses Sports Sunglasses...    ₹179\n",
       "24    Singco India  Mirrored, Riding Glasses, Others Sports Sungla...    ₹144\n",
       "25            IDEE              UV Protection Cat-eye Sunglasses (17)    ₹859\n",
       "26       New Specs  UV Protection, Mirrored Sports Sunglasses (Fre...    ₹108\n",
       "27           NuVew              UV Protection Aviator Sunglasses (57)    ₹258\n",
       "28      Lee Topper  UV Protection, Riding Glasses Retro Square, Sp...    ₹325\n",
       "29      PHENOMENAL  UV Protection, Mirrored Retro Square Sunglasse...    ₹267\n",
       "30      Lee Topper  Riding Glasses, Night Vision Wrap-around Sungl...    ₹226\n",
       "31          AISLIN  UV Protection, Gradient Round, Cat-eye Sunglas...    ₹396\n",
       "32  kingsunglasses   UV Protection Rectangular Sunglasses (Free Size)    ₹130\n",
       "33  ROZZETTA CRAFT  UV Protection, Gradient Rectangular Sunglasses...    ₹349\n",
       "34            hipe  UV Protection, Gradient, Mirrored, Riding Glas...    ₹159\n",
       "35           NuVew              UV Protection Cat-eye Sunglasses (60)    ₹353\n",
       "36          SUNBEE  UV Protection, Polarized, Mirrored Retro Squar...    ₹180\n",
       "37  kingsunglasses  UV Protection, Others Round, Aviator Sunglasse...    ₹129\n",
       "38        Poloport      UV Protection Wayfarer Sunglasses (Free Size)    ₹186\n",
       "39        Soul Hub  UV Protection, Mirrored Aviator Sunglasses (Fr...  ₹1,299"
      ]
     },
     "execution_count": 250,
     "metadata": {},
     "output_type": "execute_result"
    }
   ],
   "source": [
    "Sunglasses_2 = pd.DataFrame()\n",
    "Sunglasses_2['Brand'] = brand_name\n",
    "Sunglasses_2['Description'] =product_description\n",
    "Sunglasses_2['Price'] = price\n",
    "Sunglasses_2"
   ]
  },
  {
   "cell_type": "code",
   "execution_count": 251,
   "id": "c2f5bc33",
   "metadata": {},
   "outputs": [
    {
     "data": {
      "text/plain": [
       "<selenium.webdriver.remote.webelement.WebElement (session=\"132c065a5b12d1e7858d9167cf024aae\", element=\"b043e1de-4482-4bc7-9ed9-eb81ee6884eb\")>"
      ]
     },
     "execution_count": 251,
     "metadata": {},
     "output_type": "execute_result"
    }
   ],
   "source": [
    "#next button\n",
    "\n",
    "next_btn = driver.find_element_by_xpath('/html/body/div[1]/div/div[3]/div[1]/div[2]/div[12]/div/div/nav/a[12]')\n",
    "search_btn"
   ]
  },
  {
   "cell_type": "markdown",
   "id": "e286921d",
   "metadata": {},
   "source": [
    "# third page"
   ]
  },
  {
   "cell_type": "code",
   "execution_count": 252,
   "id": "306758bc",
   "metadata": {},
   "outputs": [],
   "source": [
    "next_btn.click()"
   ]
  },
  {
   "cell_type": "code",
   "execution_count": 253,
   "id": "591decf2",
   "metadata": {},
   "outputs": [
    {
     "data": {
      "text/plain": [
       "40"
      ]
     },
     "execution_count": 253,
     "metadata": {},
     "output_type": "execute_result"
    }
   ],
   "source": [
    "#brands\n",
    "\n",
    "brand_tags = driver.find_elements_by_xpath('//div[@class=\"_2WkVRV\"]')\n",
    "len(brand_tags)"
   ]
  },
  {
   "cell_type": "code",
   "execution_count": 254,
   "id": "439d4bdf",
   "metadata": {},
   "outputs": [
    {
     "data": {
      "text/plain": [
       "['Fastrack',\n",
       " 'SHAAH COLLECTIONS',\n",
       " 'SUNBEE',\n",
       " 'ROZZETTA CRAFT',\n",
       " 'Fastrack',\n",
       " 'Fastrack',\n",
       " 'Fastrack',\n",
       " 'VILLAIN',\n",
       " 'povty',\n",
       " 'PIRASO',\n",
       " 'elegante',\n",
       " 'AISLIN',\n",
       " 'Fastrack',\n",
       " 'Rich Club',\n",
       " 'ROZZETTA CRAFT',\n",
       " 'NuVew',\n",
       " 'PHENOMENAL',\n",
       " 'Rich Club',\n",
       " 'PHENOMENAL',\n",
       " 'AISLIN']"
      ]
     },
     "execution_count": 254,
     "metadata": {},
     "output_type": "execute_result"
    }
   ],
   "source": [
    "brand_name = []\n",
    "\n",
    "for i in brand_tags:\n",
    "    brand_name.append(i.text)\n",
    "len(brand_name)\n",
    "brand_name[0:20]"
   ]
  },
  {
   "cell_type": "code",
   "execution_count": 275,
   "id": "498b28cf",
   "metadata": {},
   "outputs": [
    {
     "data": {
      "text/plain": [
       "39"
      ]
     },
     "execution_count": 275,
     "metadata": {},
     "output_type": "execute_result"
    }
   ],
   "source": [
    "# Product Description\n",
    "\n",
    "description_tags = driver.find_elements_by_xpath('//a[@class=\"IRpwTa\"]')\n",
    "len(description_tags)"
   ]
  },
  {
   "cell_type": "code",
   "execution_count": 279,
   "id": "d520d6f0",
   "metadata": {},
   "outputs": [
    {
     "data": {
      "text/plain": [
       "['UV Protection Wayfarer Sunglasses (Free Size)',\n",
       " 'UV Protection Round Sunglasses (Free Size)',\n",
       " 'UV Protection, Polarized, Mirrored Wayfarer Sunglasses ...',\n",
       " 'Gradient, UV Protection Round Sunglasses (Free Size)',\n",
       " 'UV Protection Shield Sunglasses (Free Size)',\n",
       " 'UV Protection Wayfarer Sunglasses (Free Size)',\n",
       " 'UV Protection Round Sunglasses (55)',\n",
       " 'Others Wayfarer Sunglasses (Free Size)',\n",
       " 'UV Protection Retro Square Sunglasses (Free Size)',\n",
       " 'UV Protection Aviator Sunglasses (58)',\n",
       " 'UV Protection Wayfarer Sunglasses (Free Size)',\n",
       " 'UV Protection, Gradient Cat-eye Sunglasses (61)',\n",
       " 'UV Protection Aviator Sunglasses (Free Size)',\n",
       " 'UV Protection, Polarized Oval, Retro Square Sunglasses ...',\n",
       " 'UV Protection, Gradient Retro Square Sunglasses (Free S...',\n",
       " 'UV Protection Aviator Sunglasses (58)',\n",
       " 'UV Protection Clubmaster Sunglasses (Free Size)',\n",
       " 'Polarized Round Sunglasses (48)',\n",
       " 'UV Protection, Mirrored Clubmaster Sunglasses (Free Siz...',\n",
       " 'UV Protection, Gradient Cat-eye Sunglasses (60)']"
      ]
     },
     "execution_count": 279,
     "metadata": {},
     "output_type": "execute_result"
    }
   ],
   "source": [
    "product_description = []\n",
    "\n",
    "for i in description_tags:\n",
    "    product_description.append(i.text)\n",
    "len(product_description)\n",
    "product_description[0:20]"
   ]
  },
  {
   "cell_type": "code",
   "execution_count": 266,
   "id": "7b0fad8e",
   "metadata": {},
   "outputs": [
    {
     "data": {
      "text/plain": [
       "40"
      ]
     },
     "execution_count": 266,
     "metadata": {},
     "output_type": "execute_result"
    }
   ],
   "source": [
    "# price\n",
    "\n",
    "price_tags = driver.find_elements_by_xpath('//div[@class=\"_30jeq3\"]')\n",
    "len(price_tags)"
   ]
  },
  {
   "cell_type": "code",
   "execution_count": 193,
   "id": "a15c7671",
   "metadata": {},
   "outputs": [
    {
     "data": {
      "text/plain": [
       "['₹267',\n",
       " '₹424',\n",
       " '₹130',\n",
       " '₹212',\n",
       " '₹108',\n",
       " '₹325',\n",
       " '₹159',\n",
       " '₹145',\n",
       " '₹959',\n",
       " '₹180',\n",
       " '₹349',\n",
       " '₹345',\n",
       " '₹709',\n",
       " '₹234',\n",
       " '₹203',\n",
       " '₹275',\n",
       " '₹549',\n",
       " '₹186',\n",
       " '₹649',\n",
       " '₹353']"
      ]
     },
     "execution_count": 193,
     "metadata": {},
     "output_type": "execute_result"
    }
   ],
   "source": [
    "price = []\n",
    "\n",
    "for i in price_tags:\n",
    "    price.append(i.text)\n",
    "len(price)\n",
    "price[0:20]\n"
   ]
  },
  {
   "cell_type": "code",
   "execution_count": 260,
   "id": "54bc6457",
   "metadata": {},
   "outputs": [
    {
     "data": {
      "text/plain": [
       "(40, 39, 40)"
      ]
     },
     "execution_count": 260,
     "metadata": {},
     "output_type": "execute_result"
    }
   ],
   "source": [
    "len(brand_name), len(product_description), len(price)"
   ]
  },
  {
   "cell_type": "code",
   "execution_count": 281,
   "id": "5629489d",
   "metadata": {},
   "outputs": [
    {
     "data": {
      "text/html": [
       "<div>\n",
       "<style scoped>\n",
       "    .dataframe tbody tr th:only-of-type {\n",
       "        vertical-align: middle;\n",
       "    }\n",
       "\n",
       "    .dataframe tbody tr th {\n",
       "        vertical-align: top;\n",
       "    }\n",
       "\n",
       "    .dataframe thead th {\n",
       "        text-align: right;\n",
       "    }\n",
       "</style>\n",
       "<table border=\"1\" class=\"dataframe\">\n",
       "  <thead>\n",
       "    <tr style=\"text-align: right;\">\n",
       "      <th></th>\n",
       "      <th>Brand</th>\n",
       "      <th>Description</th>\n",
       "      <th>Price</th>\n",
       "    </tr>\n",
       "  </thead>\n",
       "  <tbody>\n",
       "    <tr>\n",
       "      <th>0</th>\n",
       "      <td>Fastrack</td>\n",
       "      <td>UV Protection Wayfarer Sunglasses (Free Size)</td>\n",
       "      <td>₹208</td>\n",
       "    </tr>\n",
       "    <tr>\n",
       "      <th>1</th>\n",
       "      <td>SHAAH COLLECTIONS</td>\n",
       "      <td>UV Protection Round Sunglasses (Free Size)</td>\n",
       "      <td>₹234</td>\n",
       "    </tr>\n",
       "    <tr>\n",
       "      <th>2</th>\n",
       "      <td>SUNBEE</td>\n",
       "      <td>UV Protection, Polarized, Mirrored Wayfarer Su...</td>\n",
       "      <td>₹277</td>\n",
       "    </tr>\n",
       "    <tr>\n",
       "      <th>3</th>\n",
       "      <td>ROZZETTA CRAFT</td>\n",
       "      <td>Gradient, UV Protection Round Sunglasses (Free...</td>\n",
       "      <td>₹1,299</td>\n",
       "    </tr>\n",
       "    <tr>\n",
       "      <th>4</th>\n",
       "      <td>Fastrack</td>\n",
       "      <td>UV Protection Shield Sunglasses (Free Size)</td>\n",
       "      <td>₹329</td>\n",
       "    </tr>\n",
       "    <tr>\n",
       "      <th>5</th>\n",
       "      <td>Fastrack</td>\n",
       "      <td>UV Protection Wayfarer Sunglasses (Free Size)</td>\n",
       "      <td>₹424</td>\n",
       "    </tr>\n",
       "    <tr>\n",
       "      <th>6</th>\n",
       "      <td>Fastrack</td>\n",
       "      <td>UV Protection Round Sunglasses (55)</td>\n",
       "      <td>₹278</td>\n",
       "    </tr>\n",
       "    <tr>\n",
       "      <th>7</th>\n",
       "      <td>VILLAIN</td>\n",
       "      <td>Others Wayfarer Sunglasses (Free Size)</td>\n",
       "      <td>₹599</td>\n",
       "    </tr>\n",
       "    <tr>\n",
       "      <th>8</th>\n",
       "      <td>povty</td>\n",
       "      <td>UV Protection Retro Square Sunglasses (Free Size)</td>\n",
       "      <td>₹249</td>\n",
       "    </tr>\n",
       "    <tr>\n",
       "      <th>9</th>\n",
       "      <td>PIRASO</td>\n",
       "      <td>UV Protection Aviator Sunglasses (58)</td>\n",
       "      <td>₹133</td>\n",
       "    </tr>\n",
       "    <tr>\n",
       "      <th>10</th>\n",
       "      <td>elegante</td>\n",
       "      <td>UV Protection Wayfarer Sunglasses (Free Size)</td>\n",
       "      <td>₹125</td>\n",
       "    </tr>\n",
       "    <tr>\n",
       "      <th>11</th>\n",
       "      <td>AISLIN</td>\n",
       "      <td>UV Protection, Gradient Cat-eye Sunglasses (61)</td>\n",
       "      <td>₹345</td>\n",
       "    </tr>\n",
       "    <tr>\n",
       "      <th>12</th>\n",
       "      <td>Fastrack</td>\n",
       "      <td>UV Protection Aviator Sunglasses (Free Size)</td>\n",
       "      <td>₹149</td>\n",
       "    </tr>\n",
       "    <tr>\n",
       "      <th>13</th>\n",
       "      <td>Rich Club</td>\n",
       "      <td>UV Protection, Polarized Oval, Retro Square Su...</td>\n",
       "      <td>₹325</td>\n",
       "    </tr>\n",
       "    <tr>\n",
       "      <th>14</th>\n",
       "      <td>ROZZETTA CRAFT</td>\n",
       "      <td>UV Protection, Gradient Retro Square Sunglasse...</td>\n",
       "      <td>₹299</td>\n",
       "    </tr>\n",
       "    <tr>\n",
       "      <th>15</th>\n",
       "      <td>NuVew</td>\n",
       "      <td>UV Protection Aviator Sunglasses (58)</td>\n",
       "      <td>₹1,419</td>\n",
       "    </tr>\n",
       "    <tr>\n",
       "      <th>16</th>\n",
       "      <td>PHENOMENAL</td>\n",
       "      <td>UV Protection Clubmaster Sunglasses (Free Size)</td>\n",
       "      <td>₹149</td>\n",
       "    </tr>\n",
       "    <tr>\n",
       "      <th>17</th>\n",
       "      <td>Rich Club</td>\n",
       "      <td>Polarized Round Sunglasses (48)</td>\n",
       "      <td>₹329</td>\n",
       "    </tr>\n",
       "    <tr>\n",
       "      <th>18</th>\n",
       "      <td>PHENOMENAL</td>\n",
       "      <td>UV Protection, Mirrored Clubmaster Sunglasses ...</td>\n",
       "      <td>₹749</td>\n",
       "    </tr>\n",
       "    <tr>\n",
       "      <th>19</th>\n",
       "      <td>AISLIN</td>\n",
       "      <td>UV Protection, Gradient Cat-eye Sunglasses (60)</td>\n",
       "      <td>₹449</td>\n",
       "    </tr>\n",
       "  </tbody>\n",
       "</table>\n",
       "</div>"
      ],
      "text/plain": [
       "                Brand                                        Description  \\\n",
       "0            Fastrack      UV Protection Wayfarer Sunglasses (Free Size)   \n",
       "1   SHAAH COLLECTIONS         UV Protection Round Sunglasses (Free Size)   \n",
       "2              SUNBEE  UV Protection, Polarized, Mirrored Wayfarer Su...   \n",
       "3      ROZZETTA CRAFT  Gradient, UV Protection Round Sunglasses (Free...   \n",
       "4            Fastrack        UV Protection Shield Sunglasses (Free Size)   \n",
       "5            Fastrack      UV Protection Wayfarer Sunglasses (Free Size)   \n",
       "6            Fastrack                UV Protection Round Sunglasses (55)   \n",
       "7             VILLAIN             Others Wayfarer Sunglasses (Free Size)   \n",
       "8               povty  UV Protection Retro Square Sunglasses (Free Size)   \n",
       "9              PIRASO              UV Protection Aviator Sunglasses (58)   \n",
       "10           elegante      UV Protection Wayfarer Sunglasses (Free Size)   \n",
       "11             AISLIN    UV Protection, Gradient Cat-eye Sunglasses (61)   \n",
       "12           Fastrack       UV Protection Aviator Sunglasses (Free Size)   \n",
       "13          Rich Club  UV Protection, Polarized Oval, Retro Square Su...   \n",
       "14     ROZZETTA CRAFT  UV Protection, Gradient Retro Square Sunglasse...   \n",
       "15              NuVew              UV Protection Aviator Sunglasses (58)   \n",
       "16         PHENOMENAL    UV Protection Clubmaster Sunglasses (Free Size)   \n",
       "17          Rich Club                    Polarized Round Sunglasses (48)   \n",
       "18         PHENOMENAL  UV Protection, Mirrored Clubmaster Sunglasses ...   \n",
       "19             AISLIN    UV Protection, Gradient Cat-eye Sunglasses (60)   \n",
       "\n",
       "     Price  \n",
       "0     ₹208  \n",
       "1     ₹234  \n",
       "2     ₹277  \n",
       "3   ₹1,299  \n",
       "4     ₹329  \n",
       "5     ₹424  \n",
       "6     ₹278  \n",
       "7     ₹599  \n",
       "8     ₹249  \n",
       "9     ₹133  \n",
       "10    ₹125  \n",
       "11    ₹345  \n",
       "12    ₹149  \n",
       "13    ₹325  \n",
       "14    ₹299  \n",
       "15  ₹1,419  \n",
       "16    ₹149  \n",
       "17    ₹329  \n",
       "18    ₹749  \n",
       "19    ₹449  "
      ]
     },
     "execution_count": 281,
     "metadata": {},
     "output_type": "execute_result"
    }
   ],
   "source": [
    "Sunglasses_3 = pd.DataFrame({})\n",
    "Sunglasses_3['Brand'] = brand_name[:20]\n",
    "Sunglasses_3['Description'] =product_description[:20]\n",
    "Sunglasses_3['Price'] = price[:20]\n",
    "Sunglasses_3"
   ]
  },
  {
   "cell_type": "markdown",
   "id": "89961cf4",
   "metadata": {},
   "source": [
    "# Data for 100 sunglasses"
   ]
  },
  {
   "cell_type": "code",
   "execution_count": 282,
   "id": "97eb10b8",
   "metadata": {},
   "outputs": [
    {
     "data": {
      "text/html": [
       "<div>\n",
       "<style scoped>\n",
       "    .dataframe tbody tr th:only-of-type {\n",
       "        vertical-align: middle;\n",
       "    }\n",
       "\n",
       "    .dataframe tbody tr th {\n",
       "        vertical-align: top;\n",
       "    }\n",
       "\n",
       "    .dataframe thead th {\n",
       "        text-align: right;\n",
       "    }\n",
       "</style>\n",
       "<table border=\"1\" class=\"dataframe\">\n",
       "  <thead>\n",
       "    <tr style=\"text-align: right;\">\n",
       "      <th></th>\n",
       "      <th>Brand</th>\n",
       "      <th>Description</th>\n",
       "      <th>Price</th>\n",
       "    </tr>\n",
       "  </thead>\n",
       "  <tbody>\n",
       "    <tr>\n",
       "      <th>0</th>\n",
       "      <td>Singco India</td>\n",
       "      <td>UV Protection Wayfarer Sunglasses (50)</td>\n",
       "      <td>₹614</td>\n",
       "    </tr>\n",
       "    <tr>\n",
       "      <th>1</th>\n",
       "      <td>VINCENT CHASE</td>\n",
       "      <td>UV Protection, Polarized Wayfarer Sunglasses (...</td>\n",
       "      <td>₹930</td>\n",
       "    </tr>\n",
       "    <tr>\n",
       "      <th>2</th>\n",
       "      <td>SRPM</td>\n",
       "      <td>UV Protection Aviator Sunglasses (54)</td>\n",
       "      <td>₹148</td>\n",
       "    </tr>\n",
       "    <tr>\n",
       "      <th>3</th>\n",
       "      <td>SUNBEE</td>\n",
       "      <td>UV Protection Aviator, Wayfarer Sunglasses (Fr...</td>\n",
       "      <td>₹203</td>\n",
       "    </tr>\n",
       "    <tr>\n",
       "      <th>4</th>\n",
       "      <td>PIRASO</td>\n",
       "      <td>UV Protection Aviator Sunglasses (54)</td>\n",
       "      <td>₹179</td>\n",
       "    </tr>\n",
       "    <tr>\n",
       "      <th>...</th>\n",
       "      <td>...</td>\n",
       "      <td>...</td>\n",
       "      <td>...</td>\n",
       "    </tr>\n",
       "    <tr>\n",
       "      <th>95</th>\n",
       "      <td>NuVew</td>\n",
       "      <td>UV Protection Aviator Sunglasses (58)</td>\n",
       "      <td>₹1,419</td>\n",
       "    </tr>\n",
       "    <tr>\n",
       "      <th>96</th>\n",
       "      <td>PHENOMENAL</td>\n",
       "      <td>UV Protection Clubmaster Sunglasses (Free Size)</td>\n",
       "      <td>₹149</td>\n",
       "    </tr>\n",
       "    <tr>\n",
       "      <th>97</th>\n",
       "      <td>Rich Club</td>\n",
       "      <td>Polarized Round Sunglasses (48)</td>\n",
       "      <td>₹329</td>\n",
       "    </tr>\n",
       "    <tr>\n",
       "      <th>98</th>\n",
       "      <td>PHENOMENAL</td>\n",
       "      <td>UV Protection, Mirrored Clubmaster Sunglasses ...</td>\n",
       "      <td>₹749</td>\n",
       "    </tr>\n",
       "    <tr>\n",
       "      <th>99</th>\n",
       "      <td>AISLIN</td>\n",
       "      <td>UV Protection, Gradient Cat-eye Sunglasses (60)</td>\n",
       "      <td>₹449</td>\n",
       "    </tr>\n",
       "  </tbody>\n",
       "</table>\n",
       "<p>100 rows × 3 columns</p>\n",
       "</div>"
      ],
      "text/plain": [
       "            Brand                                        Description   Price\n",
       "0    Singco India             UV Protection Wayfarer Sunglasses (50)    ₹614\n",
       "1   VINCENT CHASE  UV Protection, Polarized Wayfarer Sunglasses (...    ₹930\n",
       "2            SRPM              UV Protection Aviator Sunglasses (54)    ₹148\n",
       "3          SUNBEE  UV Protection Aviator, Wayfarer Sunglasses (Fr...    ₹203\n",
       "4          PIRASO              UV Protection Aviator Sunglasses (54)    ₹179\n",
       "..            ...                                                ...     ...\n",
       "95          NuVew              UV Protection Aviator Sunglasses (58)  ₹1,419\n",
       "96     PHENOMENAL    UV Protection Clubmaster Sunglasses (Free Size)    ₹149\n",
       "97      Rich Club                    Polarized Round Sunglasses (48)    ₹329\n",
       "98     PHENOMENAL  UV Protection, Mirrored Clubmaster Sunglasses ...    ₹749\n",
       "99         AISLIN    UV Protection, Gradient Cat-eye Sunglasses (60)    ₹449\n",
       "\n",
       "[100 rows x 3 columns]"
      ]
     },
     "execution_count": 282,
     "metadata": {},
     "output_type": "execute_result"
    }
   ],
   "source": [
    "dataset= pd.concat([Sunglasses_1,Sunglasses_2,Sunglasses_3],ignore_index=True)\n",
    "dataset"
   ]
  },
  {
   "cell_type": "code",
   "execution_count": null,
   "id": "d1bd1ad4",
   "metadata": {},
   "outputs": [],
   "source": []
  }
 ],
 "metadata": {
  "kernelspec": {
   "display_name": "Python 3",
   "language": "python",
   "name": "python3"
  },
  "language_info": {
   "codemirror_mode": {
    "name": "ipython",
    "version": 3
   },
   "file_extension": ".py",
   "mimetype": "text/x-python",
   "name": "python",
   "nbconvert_exporter": "python",
   "pygments_lexer": "ipython3",
   "version": "3.8.8"
  }
 },
 "nbformat": 4,
 "nbformat_minor": 5
}
